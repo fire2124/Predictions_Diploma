{
 "cells": [
  {
   "cell_type": "code",
   "execution_count": 70,
   "metadata": {},
   "outputs": [],
   "source": [
    "import json\n",
    "import seaborn \n",
    "import seaborn as sns\n",
    "import numpy as np\n",
    "import pandas as pd\n",
    "import xgboost as xgb\n",
    "from sklearn import svm\n",
    "from sklearn import metrics\n",
    "from sklearn.svm import SVR\n",
    "from datetime import datetime\n",
    "from matplotlib import pyplot as plt\n",
    "from sklearn.decomposition import PCA\n",
    "from sklearn.tree import DecisionTreeRegressor\n",
    "from sklearn.linear_model import LinearRegression\n",
    "from sklearn.ensemble import RandomForestRegressor\n",
    "from sklearn.preprocessing import LabelEncoder,KBinsDiscretizer\n",
    "from sklearn.model_selection import train_test_split,GridSearchCV, cross_val_score,KFold,cross_val_predict\n",
    "from sklearn.metrics import r2_score,mean_squared_error,roc_curve,confusion_matrix,accuracy_score"
   ]
  },
  {
   "cell_type": "code",
   "execution_count": 94,
   "metadata": {
    "scrolled": true
   },
   "outputs": [
    {
     "data": {
      "text/html": [
       "<div>\n",
       "<style scoped>\n",
       "    .dataframe tbody tr th:only-of-type {\n",
       "        vertical-align: middle;\n",
       "    }\n",
       "\n",
       "    .dataframe tbody tr th {\n",
       "        vertical-align: top;\n",
       "    }\n",
       "\n",
       "    .dataframe thead th {\n",
       "        text-align: right;\n",
       "    }\n",
       "</style>\n",
       "<table border=\"1\" class=\"dataframe\">\n",
       "  <thead>\n",
       "    <tr style=\"text-align: right;\">\n",
       "      <th></th>\n",
       "      <th>lon</th>\n",
       "      <th>lat</th>\n",
       "      <th>ROUTE_NUMBER</th>\n",
       "      <th>DIRECTION</th>\n",
       "      <th>BUS_STOP_ORDER_NUM</th>\n",
       "      <th>BUS_STOP_NUM_1</th>\n",
       "      <th>Current_Stop</th>\n",
       "      <th>BUS_STOP_SUB_NUM_2</th>\n",
       "      <th>BUS_STOP_NUM_2</th>\n",
       "      <th>Next_Stop</th>\n",
       "      <th>PLANNED_ROAD</th>\n",
       "      <th>REAL_ROAD</th>\n",
       "      <th>DELAY</th>\n",
       "      <th>VEHICLE_NUMBER</th>\n",
       "      <th>Current_Time</th>\n",
       "      <th>Current_Day</th>\n",
       "      <th>Current_Hour</th>\n",
       "      <th>Current_Minutes</th>\n",
       "      <th>Current_Seconds</th>\n",
       "    </tr>\n",
       "  </thead>\n",
       "  <tbody>\n",
       "    <tr>\n",
       "      <th>0</th>\n",
       "      <td>21.25039</td>\n",
       "      <td>48.98166</td>\n",
       "      <td>1</td>\n",
       "      <td>P</td>\n",
       "      <td>12</td>\n",
       "      <td>35</td>\n",
       "      <td>Železničná stanica</td>\n",
       "      <td>1</td>\n",
       "      <td>529</td>\n",
       "      <td>Škára</td>\n",
       "      <td>850</td>\n",
       "      <td>154</td>\n",
       "      <td>-48</td>\n",
       "      <td>735</td>\n",
       "      <td>2021-03-09 10:14:44.354</td>\n",
       "      <td>9</td>\n",
       "      <td>11</td>\n",
       "      <td>14</td>\n",
       "      <td>44</td>\n",
       "    </tr>\n",
       "    <tr>\n",
       "      <th>1</th>\n",
       "      <td>21.24213</td>\n",
       "      <td>48.99564</td>\n",
       "      <td>2</td>\n",
       "      <td>T</td>\n",
       "      <td>6</td>\n",
       "      <td>205</td>\n",
       "      <td>Divadlo Jonáša Záborského</td>\n",
       "      <td>0</td>\n",
       "      <td>2</td>\n",
       "      <td>Na Hlavnej</td>\n",
       "      <td>290</td>\n",
       "      <td>290</td>\n",
       "      <td>-13</td>\n",
       "      <td>734</td>\n",
       "      <td>2021-03-09 10:14:44.354</td>\n",
       "      <td>9</td>\n",
       "      <td>11</td>\n",
       "      <td>14</td>\n",
       "      <td>44</td>\n",
       "    </tr>\n",
       "    <tr>\n",
       "      <th>2</th>\n",
       "      <td>21.22315</td>\n",
       "      <td>49.01565</td>\n",
       "      <td>38</td>\n",
       "      <td>T</td>\n",
       "      <td>17</td>\n",
       "      <td>190</td>\n",
       "      <td>VUKOV</td>\n",
       "      <td>0</td>\n",
       "      <td>191</td>\n",
       "      <td>Centrum</td>\n",
       "      <td>730</td>\n",
       "      <td>557</td>\n",
       "      <td>13</td>\n",
       "      <td>746</td>\n",
       "      <td>2021-03-09 10:14:44.354</td>\n",
       "      <td>9</td>\n",
       "      <td>11</td>\n",
       "      <td>14</td>\n",
       "      <td>44</td>\n",
       "    </tr>\n",
       "    <tr>\n",
       "      <th>3</th>\n",
       "      <td>21.26354</td>\n",
       "      <td>48.98381</td>\n",
       "      <td>38</td>\n",
       "      <td>T</td>\n",
       "      <td>4</td>\n",
       "      <td>39</td>\n",
       "      <td>Martina Benku</td>\n",
       "      <td>0</td>\n",
       "      <td>38</td>\n",
       "      <td>Pavla Horova</td>\n",
       "      <td>370</td>\n",
       "      <td>370</td>\n",
       "      <td>-4</td>\n",
       "      <td>724</td>\n",
       "      <td>2021-03-09 10:15:29.382</td>\n",
       "      <td>9</td>\n",
       "      <td>11</td>\n",
       "      <td>15</td>\n",
       "      <td>29</td>\n",
       "    </tr>\n",
       "    <tr>\n",
       "      <th>4</th>\n",
       "      <td>21.28670</td>\n",
       "      <td>49.05149</td>\n",
       "      <td>21</td>\n",
       "      <td>T</td>\n",
       "      <td>3</td>\n",
       "      <td>91</td>\n",
       "      <td>V kopci</td>\n",
       "      <td>1</td>\n",
       "      <td>90</td>\n",
       "      <td>Nám. J.Kolarčíka</td>\n",
       "      <td>490</td>\n",
       "      <td>490</td>\n",
       "      <td>-57</td>\n",
       "      <td>370</td>\n",
       "      <td>2021-03-09 10:15:29.382</td>\n",
       "      <td>9</td>\n",
       "      <td>11</td>\n",
       "      <td>15</td>\n",
       "      <td>29</td>\n",
       "    </tr>\n",
       "    <tr>\n",
       "      <th>5</th>\n",
       "      <td>21.24170</td>\n",
       "      <td>48.99604</td>\n",
       "      <td>8</td>\n",
       "      <td>P</td>\n",
       "      <td>9</td>\n",
       "      <td>1</td>\n",
       "      <td>Trojica</td>\n",
       "      <td>1</td>\n",
       "      <td>2</td>\n",
       "      <td>Na Hlavnej</td>\n",
       "      <td>394</td>\n",
       "      <td>394</td>\n",
       "      <td>-4</td>\n",
       "      <td>723</td>\n",
       "      <td>2021-03-09 10:15:29.382</td>\n",
       "      <td>9</td>\n",
       "      <td>11</td>\n",
       "      <td>15</td>\n",
       "      <td>29</td>\n",
       "    </tr>\n",
       "    <tr>\n",
       "      <th>6</th>\n",
       "      <td>21.22235</td>\n",
       "      <td>49.01223</td>\n",
       "      <td>4</td>\n",
       "      <td>P</td>\n",
       "      <td>3</td>\n",
       "      <td>191</td>\n",
       "      <td>Centrum</td>\n",
       "      <td>1</td>\n",
       "      <td>190</td>\n",
       "      <td>VUKOV</td>\n",
       "      <td>517</td>\n",
       "      <td>517</td>\n",
       "      <td>-4</td>\n",
       "      <td>728</td>\n",
       "      <td>2021-03-09 10:15:29.382</td>\n",
       "      <td>9</td>\n",
       "      <td>11</td>\n",
       "      <td>15</td>\n",
       "      <td>29</td>\n",
       "    </tr>\n",
       "    <tr>\n",
       "      <th>7</th>\n",
       "      <td>21.19808</td>\n",
       "      <td>48.99278</td>\n",
       "      <td>18</td>\n",
       "      <td>P</td>\n",
       "      <td>4</td>\n",
       "      <td>168</td>\n",
       "      <td>Kvašná voda</td>\n",
       "      <td>1</td>\n",
       "      <td>167</td>\n",
       "      <td>Vydumanec</td>\n",
       "      <td>560</td>\n",
       "      <td>560</td>\n",
       "      <td>40</td>\n",
       "      <td>364</td>\n",
       "      <td>2021-03-09 10:15:44.382</td>\n",
       "      <td>9</td>\n",
       "      <td>11</td>\n",
       "      <td>15</td>\n",
       "      <td>44</td>\n",
       "    </tr>\n",
       "    <tr>\n",
       "      <th>8</th>\n",
       "      <td>21.25255</td>\n",
       "      <td>48.98319</td>\n",
       "      <td>46</td>\n",
       "      <td>T</td>\n",
       "      <td>10</td>\n",
       "      <td>529</td>\n",
       "      <td>Škára</td>\n",
       "      <td>0</td>\n",
       "      <td>35</td>\n",
       "      <td>Železničná stanica</td>\n",
       "      <td>850</td>\n",
       "      <td>262</td>\n",
       "      <td>-30</td>\n",
       "      <td>394</td>\n",
       "      <td>2021-03-09 10:15:44.382</td>\n",
       "      <td>9</td>\n",
       "      <td>11</td>\n",
       "      <td>15</td>\n",
       "      <td>44</td>\n",
       "    </tr>\n",
       "    <tr>\n",
       "      <th>9</th>\n",
       "      <td>21.23602</td>\n",
       "      <td>48.99727</td>\n",
       "      <td>29</td>\n",
       "      <td>P</td>\n",
       "      <td>7</td>\n",
       "      <td>157</td>\n",
       "      <td>Levočská</td>\n",
       "      <td>0</td>\n",
       "      <td>532</td>\n",
       "      <td>Floriánova</td>\n",
       "      <td>1200</td>\n",
       "      <td>1200</td>\n",
       "      <td>-36</td>\n",
       "      <td>393</td>\n",
       "      <td>2021-03-09 10:15:59.385</td>\n",
       "      <td>9</td>\n",
       "      <td>11</td>\n",
       "      <td>15</td>\n",
       "      <td>59</td>\n",
       "    </tr>\n",
       "    <tr>\n",
       "      <th>10</th>\n",
       "      <td>21.22474</td>\n",
       "      <td>49.02082</td>\n",
       "      <td>38</td>\n",
       "      <td>T</td>\n",
       "      <td>18</td>\n",
       "      <td>191</td>\n",
       "      <td>Centrum</td>\n",
       "      <td>0</td>\n",
       "      <td>192</td>\n",
       "      <td>Prostějovská</td>\n",
       "      <td>457</td>\n",
       "      <td>457</td>\n",
       "      <td>13</td>\n",
       "      <td>746</td>\n",
       "      <td>2021-03-09 10:16:29.390</td>\n",
       "      <td>9</td>\n",
       "      <td>11</td>\n",
       "      <td>16</td>\n",
       "      <td>29</td>\n",
       "    </tr>\n",
       "    <tr>\n",
       "      <th>11</th>\n",
       "      <td>21.24528</td>\n",
       "      <td>48.99160</td>\n",
       "      <td>8</td>\n",
       "      <td>P</td>\n",
       "      <td>10</td>\n",
       "      <td>2</td>\n",
       "      <td>Na Hlavnej</td>\n",
       "      <td>1</td>\n",
       "      <td>3</td>\n",
       "      <td>Veľká pošta</td>\n",
       "      <td>555</td>\n",
       "      <td>555</td>\n",
       "      <td>5</td>\n",
       "      <td>723</td>\n",
       "      <td>2021-03-09 10:17:29.390</td>\n",
       "      <td>9</td>\n",
       "      <td>11</td>\n",
       "      <td>17</td>\n",
       "      <td>29</td>\n",
       "    </tr>\n",
       "    <tr>\n",
       "      <th>12</th>\n",
       "      <td>21.24214</td>\n",
       "      <td>48.99566</td>\n",
       "      <td>15</td>\n",
       "      <td>T</td>\n",
       "      <td>5</td>\n",
       "      <td>205</td>\n",
       "      <td>Divadlo Jonáša Záborského</td>\n",
       "      <td>0</td>\n",
       "      <td>2</td>\n",
       "      <td>Na Hlavnej</td>\n",
       "      <td>290</td>\n",
       "      <td>290</td>\n",
       "      <td>17</td>\n",
       "      <td>380</td>\n",
       "      <td>2021-03-09 10:18:14.395</td>\n",
       "      <td>9</td>\n",
       "      <td>11</td>\n",
       "      <td>18</td>\n",
       "      <td>14</td>\n",
       "    </tr>\n",
       "    <tr>\n",
       "      <th>13</th>\n",
       "      <td>21.28349</td>\n",
       "      <td>49.04030</td>\n",
       "      <td>21</td>\n",
       "      <td>T</td>\n",
       "      <td>6</td>\n",
       "      <td>88</td>\n",
       "      <td>Ihrisko</td>\n",
       "      <td>1</td>\n",
       "      <td>87</td>\n",
       "      <td>Gribľovec</td>\n",
       "      <td>805</td>\n",
       "      <td>805</td>\n",
       "      <td>-57</td>\n",
       "      <td>370</td>\n",
       "      <td>2021-03-09 10:18:29.406</td>\n",
       "      <td>9</td>\n",
       "      <td>11</td>\n",
       "      <td>18</td>\n",
       "      <td>29</td>\n",
       "    </tr>\n",
       "    <tr>\n",
       "      <th>14</th>\n",
       "      <td>21.26394</td>\n",
       "      <td>48.97766</td>\n",
       "      <td>1</td>\n",
       "      <td>P</td>\n",
       "      <td>13</td>\n",
       "      <td>529</td>\n",
       "      <td>Škára</td>\n",
       "      <td>1</td>\n",
       "      <td>53</td>\n",
       "      <td>Solivarská</td>\n",
       "      <td>860</td>\n",
       "      <td>680</td>\n",
       "      <td>-113</td>\n",
       "      <td>735</td>\n",
       "      <td>2021-03-09 10:18:44.405</td>\n",
       "      <td>9</td>\n",
       "      <td>11</td>\n",
       "      <td>18</td>\n",
       "      <td>44</td>\n",
       "    </tr>\n",
       "    <tr>\n",
       "      <th>15</th>\n",
       "      <td>21.23318</td>\n",
       "      <td>49.00081</td>\n",
       "      <td>8</td>\n",
       "      <td>T</td>\n",
       "      <td>12</td>\n",
       "      <td>1</td>\n",
       "      <td>Trojica</td>\n",
       "      <td>0</td>\n",
       "      <td>156</td>\n",
       "      <td>Poliklinika</td>\n",
       "      <td>640</td>\n",
       "      <td>640</td>\n",
       "      <td>-132</td>\n",
       "      <td>741</td>\n",
       "      <td>2021-03-09 10:18:44.405</td>\n",
       "      <td>9</td>\n",
       "      <td>11</td>\n",
       "      <td>18</td>\n",
       "      <td>44</td>\n",
       "    </tr>\n",
       "    <tr>\n",
       "      <th>16</th>\n",
       "      <td>21.24216</td>\n",
       "      <td>48.99567</td>\n",
       "      <td>1</td>\n",
       "      <td>T</td>\n",
       "      <td>8</td>\n",
       "      <td>205</td>\n",
       "      <td>Divadlo Jonáša Záborského</td>\n",
       "      <td>0</td>\n",
       "      <td>2</td>\n",
       "      <td>Na Hlavnej</td>\n",
       "      <td>290</td>\n",
       "      <td>290</td>\n",
       "      <td>-7</td>\n",
       "      <td>738</td>\n",
       "      <td>2021-03-09 10:18:44.405</td>\n",
       "      <td>9</td>\n",
       "      <td>11</td>\n",
       "      <td>18</td>\n",
       "      <td>44</td>\n",
       "    </tr>\n",
       "    <tr>\n",
       "      <th>17</th>\n",
       "      <td>21.25008</td>\n",
       "      <td>49.00842</td>\n",
       "      <td>7</td>\n",
       "      <td>P</td>\n",
       "      <td>5</td>\n",
       "      <td>80</td>\n",
       "      <td>Dopravný podnik</td>\n",
       "      <td>1</td>\n",
       "      <td>79</td>\n",
       "      <td>Rázcestie Kúty</td>\n",
       "      <td>563</td>\n",
       "      <td>563</td>\n",
       "      <td>-72</td>\n",
       "      <td>740</td>\n",
       "      <td>2021-03-09 10:18:44.405</td>\n",
       "      <td>9</td>\n",
       "      <td>11</td>\n",
       "      <td>18</td>\n",
       "      <td>44</td>\n",
       "    </tr>\n",
       "    <tr>\n",
       "      <th>18</th>\n",
       "      <td>21.23695</td>\n",
       "      <td>48.99634</td>\n",
       "      <td>32</td>\n",
       "      <td>P</td>\n",
       "      <td>1</td>\n",
       "      <td>531</td>\n",
       "      <td>Okružná</td>\n",
       "      <td>1</td>\n",
       "      <td>532</td>\n",
       "      <td>Floriánova</td>\n",
       "      <td>400</td>\n",
       "      <td>400</td>\n",
       "      <td>53</td>\n",
       "      <td>350</td>\n",
       "      <td>2021-03-09 10:19:44.390</td>\n",
       "      <td>9</td>\n",
       "      <td>11</td>\n",
       "      <td>19</td>\n",
       "      <td>44</td>\n",
       "    </tr>\n",
       "    <tr>\n",
       "      <th>19</th>\n",
       "      <td>21.26432</td>\n",
       "      <td>48.98699</td>\n",
       "      <td>38</td>\n",
       "      <td>T</td>\n",
       "      <td>3</td>\n",
       "      <td>40</td>\n",
       "      <td>Jurkovičova</td>\n",
       "      <td>0</td>\n",
       "      <td>39</td>\n",
       "      <td>Martina Benku</td>\n",
       "      <td>803</td>\n",
       "      <td>803</td>\n",
       "      <td>-16</td>\n",
       "      <td>724</td>\n",
       "      <td>2021-03-09 10:14:44.354</td>\n",
       "      <td>9</td>\n",
       "      <td>11</td>\n",
       "      <td>14</td>\n",
       "      <td>44</td>\n",
       "    </tr>\n",
       "    <tr>\n",
       "      <th>20</th>\n",
       "      <td>21.26646</td>\n",
       "      <td>49.01176</td>\n",
       "      <td>28</td>\n",
       "      <td>T</td>\n",
       "      <td>15</td>\n",
       "      <td>80</td>\n",
       "      <td>Dopravný podnik</td>\n",
       "      <td>0</td>\n",
       "      <td>507</td>\n",
       "      <td>Nižnianska</td>\n",
       "      <td>1707</td>\n",
       "      <td>1596</td>\n",
       "      <td>53</td>\n",
       "      <td>356</td>\n",
       "      <td>2021-03-09 10:15:14.382</td>\n",
       "      <td>9</td>\n",
       "      <td>11</td>\n",
       "      <td>15</td>\n",
       "      <td>14</td>\n",
       "    </tr>\n",
       "    <tr>\n",
       "      <th>21</th>\n",
       "      <td>21.26747</td>\n",
       "      <td>49.01162</td>\n",
       "      <td>28</td>\n",
       "      <td>T</td>\n",
       "      <td>15</td>\n",
       "      <td>80</td>\n",
       "      <td>Dopravný podnik</td>\n",
       "      <td>0</td>\n",
       "      <td>507</td>\n",
       "      <td>Nižnianska</td>\n",
       "      <td>1707</td>\n",
       "      <td>1666</td>\n",
       "      <td>47</td>\n",
       "      <td>356</td>\n",
       "      <td>2021-03-09 10:15:29.382</td>\n",
       "      <td>9</td>\n",
       "      <td>11</td>\n",
       "      <td>15</td>\n",
       "      <td>29</td>\n",
       "    </tr>\n",
       "    <tr>\n",
       "      <th>22</th>\n",
       "      <td>21.24149</td>\n",
       "      <td>48.99209</td>\n",
       "      <td>32A</td>\n",
       "      <td>T</td>\n",
       "      <td>6</td>\n",
       "      <td>4</td>\n",
       "      <td>Čierny most</td>\n",
       "      <td>0</td>\n",
       "      <td>531</td>\n",
       "      <td>Okružná</td>\n",
       "      <td>850</td>\n",
       "      <td>646</td>\n",
       "      <td>119</td>\n",
       "      <td>350</td>\n",
       "      <td>2021-03-09 10:15:29.382</td>\n",
       "      <td>9</td>\n",
       "      <td>11</td>\n",
       "      <td>15</td>\n",
       "      <td>29</td>\n",
       "    </tr>\n",
       "    <tr>\n",
       "      <th>23</th>\n",
       "      <td>21.25025</td>\n",
       "      <td>48.98251</td>\n",
       "      <td>39</td>\n",
       "      <td>T</td>\n",
       "      <td>5</td>\n",
       "      <td>7</td>\n",
       "      <td>Nový Solivar</td>\n",
       "      <td>0</td>\n",
       "      <td>35</td>\n",
       "      <td>Železničná stanica</td>\n",
       "      <td>654</td>\n",
       "      <td>418</td>\n",
       "      <td>-109</td>\n",
       "      <td>354</td>\n",
       "      <td>2021-03-09 10:15:44.382</td>\n",
       "      <td>9</td>\n",
       "      <td>11</td>\n",
       "      <td>15</td>\n",
       "      <td>44</td>\n",
       "    </tr>\n",
       "    <tr>\n",
       "      <th>24</th>\n",
       "      <td>21.26378</td>\n",
       "      <td>48.97892</td>\n",
       "      <td>19</td>\n",
       "      <td>T</td>\n",
       "      <td>6</td>\n",
       "      <td>38</td>\n",
       "      <td>Pavla Horova</td>\n",
       "      <td>0</td>\n",
       "      <td>37</td>\n",
       "      <td>Lesnícka</td>\n",
       "      <td>571</td>\n",
       "      <td>513</td>\n",
       "      <td>-54</td>\n",
       "      <td>407</td>\n",
       "      <td>2021-03-09 10:16:14.382</td>\n",
       "      <td>9</td>\n",
       "      <td>11</td>\n",
       "      <td>16</td>\n",
       "      <td>14</td>\n",
       "    </tr>\n",
       "    <tr>\n",
       "      <th>25</th>\n",
       "      <td>21.28516</td>\n",
       "      <td>49.04908</td>\n",
       "      <td>21</td>\n",
       "      <td>T</td>\n",
       "      <td>4</td>\n",
       "      <td>90</td>\n",
       "      <td>Nám. J.Kolarčíka</td>\n",
       "      <td>1</td>\n",
       "      <td>89</td>\n",
       "      <td>Červený mostík</td>\n",
       "      <td>400</td>\n",
       "      <td>400</td>\n",
       "      <td>-64</td>\n",
       "      <td>370</td>\n",
       "      <td>2021-03-09 10:16:29.390</td>\n",
       "      <td>9</td>\n",
       "      <td>11</td>\n",
       "      <td>16</td>\n",
       "      <td>29</td>\n",
       "    </tr>\n",
       "    <tr>\n",
       "      <th>26</th>\n",
       "      <td>21.24987</td>\n",
       "      <td>48.98433</td>\n",
       "      <td>39</td>\n",
       "      <td>T</td>\n",
       "      <td>5</td>\n",
       "      <td>7</td>\n",
       "      <td>Nový Solivar</td>\n",
       "      <td>0</td>\n",
       "      <td>35</td>\n",
       "      <td>Železničná stanica</td>\n",
       "      <td>654</td>\n",
       "      <td>654</td>\n",
       "      <td>-124</td>\n",
       "      <td>354</td>\n",
       "      <td>2021-03-09 10:16:29.390</td>\n",
       "      <td>9</td>\n",
       "      <td>11</td>\n",
       "      <td>16</td>\n",
       "      <td>29</td>\n",
       "    </tr>\n",
       "    <tr>\n",
       "      <th>27</th>\n",
       "      <td>21.24987</td>\n",
       "      <td>48.98432</td>\n",
       "      <td>46</td>\n",
       "      <td>T</td>\n",
       "      <td>11</td>\n",
       "      <td>35</td>\n",
       "      <td>Železničná stanica</td>\n",
       "      <td>0</td>\n",
       "      <td>4</td>\n",
       "      <td>Čierny most</td>\n",
       "      <td>650</td>\n",
       "      <td>23</td>\n",
       "      <td>-10</td>\n",
       "      <td>394</td>\n",
       "      <td>2021-03-09 10:16:44.387</td>\n",
       "      <td>9</td>\n",
       "      <td>11</td>\n",
       "      <td>16</td>\n",
       "      <td>44</td>\n",
       "    </tr>\n",
       "    <tr>\n",
       "      <th>28</th>\n",
       "      <td>21.24528</td>\n",
       "      <td>48.99159</td>\n",
       "      <td>8</td>\n",
       "      <td>P</td>\n",
       "      <td>10</td>\n",
       "      <td>2</td>\n",
       "      <td>Na Hlavnej</td>\n",
       "      <td>1</td>\n",
       "      <td>3</td>\n",
       "      <td>Veľká pošta</td>\n",
       "      <td>555</td>\n",
       "      <td>555</td>\n",
       "      <td>8</td>\n",
       "      <td>723</td>\n",
       "      <td>2021-03-09 10:17:14.393</td>\n",
       "      <td>9</td>\n",
       "      <td>11</td>\n",
       "      <td>17</td>\n",
       "      <td>14</td>\n",
       "    </tr>\n",
       "    <tr>\n",
       "      <th>29</th>\n",
       "      <td>21.25045</td>\n",
       "      <td>48.98145</td>\n",
       "      <td>38</td>\n",
       "      <td>P</td>\n",
       "      <td>12</td>\n",
       "      <td>35</td>\n",
       "      <td>Železničná stanica</td>\n",
       "      <td>1</td>\n",
       "      <td>529</td>\n",
       "      <td>Škára</td>\n",
       "      <td>850</td>\n",
       "      <td>170</td>\n",
       "      <td>-212</td>\n",
       "      <td>744</td>\n",
       "      <td>2021-03-09 10:17:29.390</td>\n",
       "      <td>9</td>\n",
       "      <td>11</td>\n",
       "      <td>17</td>\n",
       "      <td>29</td>\n",
       "    </tr>\n",
       "    <tr>\n",
       "      <th>30</th>\n",
       "      <td>21.25665</td>\n",
       "      <td>48.98139</td>\n",
       "      <td>11</td>\n",
       "      <td>T</td>\n",
       "      <td>5</td>\n",
       "      <td>510</td>\n",
       "      <td>Suvorovova</td>\n",
       "      <td>0</td>\n",
       "      <td>529</td>\n",
       "      <td>Škára</td>\n",
       "      <td>1150</td>\n",
       "      <td>1021</td>\n",
       "      <td>-84</td>\n",
       "      <td>385</td>\n",
       "      <td>2021-03-09 10:17:29.390</td>\n",
       "      <td>9</td>\n",
       "      <td>11</td>\n",
       "      <td>17</td>\n",
       "      <td>29</td>\n",
       "    </tr>\n",
       "    <tr>\n",
       "      <th>31</th>\n",
       "      <td>21.24212</td>\n",
       "      <td>48.99567</td>\n",
       "      <td>22</td>\n",
       "      <td>T</td>\n",
       "      <td>17</td>\n",
       "      <td>205</td>\n",
       "      <td>Divadlo Jonáša Záborského</td>\n",
       "      <td>0</td>\n",
       "      <td>2</td>\n",
       "      <td>Na Hlavnej</td>\n",
       "      <td>290</td>\n",
       "      <td>290</td>\n",
       "      <td>-3</td>\n",
       "      <td>396</td>\n",
       "      <td>2021-03-09 10:17:29.390</td>\n",
       "      <td>9</td>\n",
       "      <td>11</td>\n",
       "      <td>17</td>\n",
       "      <td>29</td>\n",
       "    </tr>\n",
       "    <tr>\n",
       "      <th>32</th>\n",
       "      <td>21.26406</td>\n",
       "      <td>48.97931</td>\n",
       "      <td>4</td>\n",
       "      <td>P</td>\n",
       "      <td>14</td>\n",
       "      <td>529</td>\n",
       "      <td>Škára</td>\n",
       "      <td>1</td>\n",
       "      <td>37</td>\n",
       "      <td>Lesnícka</td>\n",
       "      <td>840</td>\n",
       "      <td>840</td>\n",
       "      <td>-175</td>\n",
       "      <td>729</td>\n",
       "      <td>2021-03-09 10:17:29.390</td>\n",
       "      <td>9</td>\n",
       "      <td>11</td>\n",
       "      <td>17</td>\n",
       "      <td>29</td>\n",
       "    </tr>\n",
       "    <tr>\n",
       "      <th>33</th>\n",
       "      <td>21.24987</td>\n",
       "      <td>48.98435</td>\n",
       "      <td>4</td>\n",
       "      <td>T</td>\n",
       "      <td>7</td>\n",
       "      <td>529</td>\n",
       "      <td>Škára</td>\n",
       "      <td>0</td>\n",
       "      <td>35</td>\n",
       "      <td>Železničná stanica</td>\n",
       "      <td>850</td>\n",
       "      <td>819</td>\n",
       "      <td>-27</td>\n",
       "      <td>722</td>\n",
       "      <td>2021-03-09 10:17:44.389</td>\n",
       "      <td>9</td>\n",
       "      <td>11</td>\n",
       "      <td>17</td>\n",
       "      <td>44</td>\n",
       "    </tr>\n",
       "    <tr>\n",
       "      <th>34</th>\n",
       "      <td>21.24175</td>\n",
       "      <td>48.99601</td>\n",
       "      <td>23</td>\n",
       "      <td>P</td>\n",
       "      <td>1</td>\n",
       "      <td>1</td>\n",
       "      <td>Trojica</td>\n",
       "      <td>1</td>\n",
       "      <td>2</td>\n",
       "      <td>Na Hlavnej</td>\n",
       "      <td>394</td>\n",
       "      <td>394</td>\n",
       "      <td>58</td>\n",
       "      <td>399</td>\n",
       "      <td>2021-03-09 10:17:44.389</td>\n",
       "      <td>9</td>\n",
       "      <td>11</td>\n",
       "      <td>17</td>\n",
       "      <td>44</td>\n",
       "    </tr>\n",
       "    <tr>\n",
       "      <th>35</th>\n",
       "      <td>21.24175</td>\n",
       "      <td>48.99600</td>\n",
       "      <td>23</td>\n",
       "      <td>P</td>\n",
       "      <td>1</td>\n",
       "      <td>1</td>\n",
       "      <td>Trojica</td>\n",
       "      <td>1</td>\n",
       "      <td>2</td>\n",
       "      <td>Na Hlavnej</td>\n",
       "      <td>394</td>\n",
       "      <td>394</td>\n",
       "      <td>44</td>\n",
       "      <td>399</td>\n",
       "      <td>2021-03-09 10:17:59.392</td>\n",
       "      <td>9</td>\n",
       "      <td>11</td>\n",
       "      <td>17</td>\n",
       "      <td>59</td>\n",
       "    </tr>\n",
       "    <tr>\n",
       "      <th>36</th>\n",
       "      <td>21.25247</td>\n",
       "      <td>48.98446</td>\n",
       "      <td>11</td>\n",
       "      <td>T</td>\n",
       "      <td>6</td>\n",
       "      <td>529</td>\n",
       "      <td>Škára</td>\n",
       "      <td>1</td>\n",
       "      <td>5</td>\n",
       "      <td>Východná</td>\n",
       "      <td>400</td>\n",
       "      <td>376</td>\n",
       "      <td>-62</td>\n",
       "      <td>385</td>\n",
       "      <td>2021-03-09 10:18:14.395</td>\n",
       "      <td>9</td>\n",
       "      <td>11</td>\n",
       "      <td>18</td>\n",
       "      <td>14</td>\n",
       "    </tr>\n",
       "    <tr>\n",
       "      <th>37</th>\n",
       "      <td>21.26925</td>\n",
       "      <td>48.99615</td>\n",
       "      <td>8</td>\n",
       "      <td>T</td>\n",
       "      <td>1</td>\n",
       "      <td>36</td>\n",
       "      <td>Sibírska</td>\n",
       "      <td>0</td>\n",
       "      <td>41</td>\n",
       "      <td>Karpatská</td>\n",
       "      <td>716</td>\n",
       "      <td>716</td>\n",
       "      <td>19</td>\n",
       "      <td>727</td>\n",
       "      <td>2021-03-09 10:18:14.395</td>\n",
       "      <td>9</td>\n",
       "      <td>11</td>\n",
       "      <td>18</td>\n",
       "      <td>14</td>\n",
       "    </tr>\n",
       "    <tr>\n",
       "      <th>38</th>\n",
       "      <td>21.26389</td>\n",
       "      <td>48.98379</td>\n",
       "      <td>4</td>\n",
       "      <td>P</td>\n",
       "      <td>15</td>\n",
       "      <td>37</td>\n",
       "      <td>Lesnícka</td>\n",
       "      <td>1</td>\n",
       "      <td>38</td>\n",
       "      <td>Pavla Horova</td>\n",
       "      <td>510</td>\n",
       "      <td>510</td>\n",
       "      <td>-184</td>\n",
       "      <td>729</td>\n",
       "      <td>2021-03-09 10:18:44.405</td>\n",
       "      <td>9</td>\n",
       "      <td>11</td>\n",
       "      <td>18</td>\n",
       "      <td>44</td>\n",
       "    </tr>\n",
       "    <tr>\n",
       "      <th>39</th>\n",
       "      <td>21.22390</td>\n",
       "      <td>49.00174</td>\n",
       "      <td>4</td>\n",
       "      <td>P</td>\n",
       "      <td>6</td>\n",
       "      <td>188</td>\n",
       "      <td>Volgogradská</td>\n",
       "      <td>1</td>\n",
       "      <td>187</td>\n",
       "      <td>Clementisova</td>\n",
       "      <td>350</td>\n",
       "      <td>350</td>\n",
       "      <td>-15</td>\n",
       "      <td>728</td>\n",
       "      <td>2021-03-09 10:18:44.405</td>\n",
       "      <td>9</td>\n",
       "      <td>11</td>\n",
       "      <td>18</td>\n",
       "      <td>44</td>\n",
       "    </tr>\n",
       "    <tr>\n",
       "      <th>40</th>\n",
       "      <td>21.23929</td>\n",
       "      <td>49.00020</td>\n",
       "      <td>22</td>\n",
       "      <td>T</td>\n",
       "      <td>18</td>\n",
       "      <td>2</td>\n",
       "      <td>Na Hlavnej</td>\n",
       "      <td>0</td>\n",
       "      <td>1</td>\n",
       "      <td>Trojica</td>\n",
       "      <td>560</td>\n",
       "      <td>560</td>\n",
       "      <td>32</td>\n",
       "      <td>396</td>\n",
       "      <td>2021-03-09 10:18:59.401</td>\n",
       "      <td>9</td>\n",
       "      <td>11</td>\n",
       "      <td>18</td>\n",
       "      <td>59</td>\n",
       "    </tr>\n",
       "    <tr>\n",
       "      <th>41</th>\n",
       "      <td>21.26648</td>\n",
       "      <td>48.97739</td>\n",
       "      <td>1</td>\n",
       "      <td>P</td>\n",
       "      <td>13</td>\n",
       "      <td>529</td>\n",
       "      <td>Škára</td>\n",
       "      <td>1</td>\n",
       "      <td>53</td>\n",
       "      <td>Solivarská</td>\n",
       "      <td>860</td>\n",
       "      <td>860</td>\n",
       "      <td>-108</td>\n",
       "      <td>735</td>\n",
       "      <td>2021-03-09 10:19:14.400</td>\n",
       "      <td>9</td>\n",
       "      <td>11</td>\n",
       "      <td>19</td>\n",
       "      <td>14</td>\n",
       "    </tr>\n",
       "    <tr>\n",
       "      <th>42</th>\n",
       "      <td>21.24706</td>\n",
       "      <td>48.98952</td>\n",
       "      <td>46</td>\n",
       "      <td>T</td>\n",
       "      <td>11</td>\n",
       "      <td>35</td>\n",
       "      <td>Železničná stanica</td>\n",
       "      <td>0</td>\n",
       "      <td>4</td>\n",
       "      <td>Čierny most</td>\n",
       "      <td>650</td>\n",
       "      <td>650</td>\n",
       "      <td>-34</td>\n",
       "      <td>394</td>\n",
       "      <td>2021-03-09 10:19:14.400</td>\n",
       "      <td>9</td>\n",
       "      <td>11</td>\n",
       "      <td>19</td>\n",
       "      <td>14</td>\n",
       "    </tr>\n",
       "    <tr>\n",
       "      <th>43</th>\n",
       "      <td>21.23485</td>\n",
       "      <td>49.02866</td>\n",
       "      <td>12</td>\n",
       "      <td>P</td>\n",
       "      <td>2</td>\n",
       "      <td>525</td>\n",
       "      <td>Dúbravská</td>\n",
       "      <td>0</td>\n",
       "      <td>526</td>\n",
       "      <td>Pri kaplnke</td>\n",
       "      <td>310</td>\n",
       "      <td>254</td>\n",
       "      <td>-59</td>\n",
       "      <td>402</td>\n",
       "      <td>2021-03-09 10:19:14.400</td>\n",
       "      <td>9</td>\n",
       "      <td>11</td>\n",
       "      <td>19</td>\n",
       "      <td>14</td>\n",
       "    </tr>\n",
       "    <tr>\n",
       "      <th>44</th>\n",
       "      <td>21.25055</td>\n",
       "      <td>48.98163</td>\n",
       "      <td>38</td>\n",
       "      <td>T</td>\n",
       "      <td>7</td>\n",
       "      <td>529</td>\n",
       "      <td>Škára</td>\n",
       "      <td>0</td>\n",
       "      <td>35</td>\n",
       "      <td>Železničná stanica</td>\n",
       "      <td>850</td>\n",
       "      <td>540</td>\n",
       "      <td>-4</td>\n",
       "      <td>724</td>\n",
       "      <td>2021-03-09 10:19:44.390</td>\n",
       "      <td>9</td>\n",
       "      <td>11</td>\n",
       "      <td>19</td>\n",
       "      <td>44</td>\n",
       "    </tr>\n",
       "    <tr>\n",
       "      <th>45</th>\n",
       "      <td>21.26743</td>\n",
       "      <td>48.99387</td>\n",
       "      <td>8</td>\n",
       "      <td>T</td>\n",
       "      <td>2</td>\n",
       "      <td>41</td>\n",
       "      <td>Karpatská</td>\n",
       "      <td>0</td>\n",
       "      <td>40</td>\n",
       "      <td>Jurkovičova</td>\n",
       "      <td>305</td>\n",
       "      <td>305</td>\n",
       "      <td>-4</td>\n",
       "      <td>727</td>\n",
       "      <td>2021-03-09 10:19:44.390</td>\n",
       "      <td>9</td>\n",
       "      <td>11</td>\n",
       "      <td>19</td>\n",
       "      <td>44</td>\n",
       "    </tr>\n",
       "    <tr>\n",
       "      <th>46</th>\n",
       "      <td>21.22234</td>\n",
       "      <td>49.01139</td>\n",
       "      <td>38</td>\n",
       "      <td>T</td>\n",
       "      <td>17</td>\n",
       "      <td>190</td>\n",
       "      <td>VUKOV</td>\n",
       "      <td>0</td>\n",
       "      <td>191</td>\n",
       "      <td>Centrum</td>\n",
       "      <td>730</td>\n",
       "      <td>86</td>\n",
       "      <td>-28</td>\n",
       "      <td>746</td>\n",
       "      <td>2021-03-09 10:14:14.349</td>\n",
       "      <td>9</td>\n",
       "      <td>11</td>\n",
       "      <td>14</td>\n",
       "      <td>14</td>\n",
       "    </tr>\n",
       "    <tr>\n",
       "      <th>47</th>\n",
       "      <td>21.26376</td>\n",
       "      <td>48.97884</td>\n",
       "      <td>4</td>\n",
       "      <td>T</td>\n",
       "      <td>5</td>\n",
       "      <td>38</td>\n",
       "      <td>Pavla Horova</td>\n",
       "      <td>0</td>\n",
       "      <td>37</td>\n",
       "      <td>Lesnícka</td>\n",
       "      <td>571</td>\n",
       "      <td>571</td>\n",
       "      <td>-57</td>\n",
       "      <td>722</td>\n",
       "      <td>2021-03-09 10:14:29.354</td>\n",
       "      <td>9</td>\n",
       "      <td>11</td>\n",
       "      <td>14</td>\n",
       "      <td>29</td>\n",
       "    </tr>\n",
       "    <tr>\n",
       "      <th>48</th>\n",
       "      <td>21.25122</td>\n",
       "      <td>48.97857</td>\n",
       "      <td>39</td>\n",
       "      <td>T</td>\n",
       "      <td>4</td>\n",
       "      <td>8</td>\n",
       "      <td>Košická</td>\n",
       "      <td>0</td>\n",
       "      <td>7</td>\n",
       "      <td>Nový Solivar</td>\n",
       "      <td>654</td>\n",
       "      <td>614</td>\n",
       "      <td>-70</td>\n",
       "      <td>354</td>\n",
       "      <td>2021-03-09 10:14:29.354</td>\n",
       "      <td>9</td>\n",
       "      <td>11</td>\n",
       "      <td>14</td>\n",
       "      <td>29</td>\n",
       "    </tr>\n",
       "    <tr>\n",
       "      <th>49</th>\n",
       "      <td>21.23979</td>\n",
       "      <td>48.99920</td>\n",
       "      <td>8</td>\n",
       "      <td>P</td>\n",
       "      <td>8</td>\n",
       "      <td>156</td>\n",
       "      <td>Poliklinika</td>\n",
       "      <td>1</td>\n",
       "      <td>1</td>\n",
       "      <td>Trojica</td>\n",
       "      <td>530</td>\n",
       "      <td>530</td>\n",
       "      <td>-54</td>\n",
       "      <td>723</td>\n",
       "      <td>2021-03-09 10:14:29.354</td>\n",
       "      <td>9</td>\n",
       "      <td>11</td>\n",
       "      <td>14</td>\n",
       "      <td>29</td>\n",
       "    </tr>\n",
       "  </tbody>\n",
       "</table>\n",
       "</div>"
      ],
      "text/plain": [
       "         lon       lat ROUTE_NUMBER DIRECTION  BUS_STOP_ORDER_NUM  \\\n",
       "0   21.25039  48.98166            1         P                  12   \n",
       "1   21.24213  48.99564            2         T                   6   \n",
       "2   21.22315  49.01565           38         T                  17   \n",
       "3   21.26354  48.98381           38         T                   4   \n",
       "4   21.28670  49.05149           21         T                   3   \n",
       "5   21.24170  48.99604            8         P                   9   \n",
       "6   21.22235  49.01223            4         P                   3   \n",
       "7   21.19808  48.99278           18         P                   4   \n",
       "8   21.25255  48.98319           46         T                  10   \n",
       "9   21.23602  48.99727           29         P                   7   \n",
       "10  21.22474  49.02082           38         T                  18   \n",
       "11  21.24528  48.99160            8         P                  10   \n",
       "12  21.24214  48.99566           15         T                   5   \n",
       "13  21.28349  49.04030           21         T                   6   \n",
       "14  21.26394  48.97766            1         P                  13   \n",
       "15  21.23318  49.00081            8         T                  12   \n",
       "16  21.24216  48.99567            1         T                   8   \n",
       "17  21.25008  49.00842            7         P                   5   \n",
       "18  21.23695  48.99634           32         P                   1   \n",
       "19  21.26432  48.98699           38         T                   3   \n",
       "20  21.26646  49.01176           28         T                  15   \n",
       "21  21.26747  49.01162           28         T                  15   \n",
       "22  21.24149  48.99209          32A         T                   6   \n",
       "23  21.25025  48.98251           39         T                   5   \n",
       "24  21.26378  48.97892           19         T                   6   \n",
       "25  21.28516  49.04908           21         T                   4   \n",
       "26  21.24987  48.98433           39         T                   5   \n",
       "27  21.24987  48.98432           46         T                  11   \n",
       "28  21.24528  48.99159            8         P                  10   \n",
       "29  21.25045  48.98145           38         P                  12   \n",
       "30  21.25665  48.98139           11         T                   5   \n",
       "31  21.24212  48.99567           22         T                  17   \n",
       "32  21.26406  48.97931            4         P                  14   \n",
       "33  21.24987  48.98435            4         T                   7   \n",
       "34  21.24175  48.99601           23         P                   1   \n",
       "35  21.24175  48.99600           23         P                   1   \n",
       "36  21.25247  48.98446           11         T                   6   \n",
       "37  21.26925  48.99615            8         T                   1   \n",
       "38  21.26389  48.98379            4         P                  15   \n",
       "39  21.22390  49.00174            4         P                   6   \n",
       "40  21.23929  49.00020           22         T                  18   \n",
       "41  21.26648  48.97739            1         P                  13   \n",
       "42  21.24706  48.98952           46         T                  11   \n",
       "43  21.23485  49.02866           12         P                   2   \n",
       "44  21.25055  48.98163           38         T                   7   \n",
       "45  21.26743  48.99387            8         T                   2   \n",
       "46  21.22234  49.01139           38         T                  17   \n",
       "47  21.26376  48.97884            4         T                   5   \n",
       "48  21.25122  48.97857           39         T                   4   \n",
       "49  21.23979  48.99920            8         P                   8   \n",
       "\n",
       "    BUS_STOP_NUM_1               Current_Stop  BUS_STOP_SUB_NUM_2  \\\n",
       "0               35         Železničná stanica                   1   \n",
       "1              205  Divadlo Jonáša Záborského                   0   \n",
       "2              190                      VUKOV                   0   \n",
       "3               39              Martina Benku                   0   \n",
       "4               91                    V kopci                   1   \n",
       "5                1                    Trojica                   1   \n",
       "6              191                    Centrum                   1   \n",
       "7              168                Kvašná voda                   1   \n",
       "8              529                      Škára                   0   \n",
       "9              157                   Levočská                   0   \n",
       "10             191                    Centrum                   0   \n",
       "11               2                 Na Hlavnej                   1   \n",
       "12             205  Divadlo Jonáša Záborského                   0   \n",
       "13              88                    Ihrisko                   1   \n",
       "14             529                      Škára                   1   \n",
       "15               1                    Trojica                   0   \n",
       "16             205  Divadlo Jonáša Záborského                   0   \n",
       "17              80            Dopravný podnik                   1   \n",
       "18             531                    Okružná                   1   \n",
       "19              40                Jurkovičova                   0   \n",
       "20              80            Dopravný podnik                   0   \n",
       "21              80            Dopravný podnik                   0   \n",
       "22               4                Čierny most                   0   \n",
       "23               7               Nový Solivar                   0   \n",
       "24              38               Pavla Horova                   0   \n",
       "25              90           Nám. J.Kolarčíka                   1   \n",
       "26               7               Nový Solivar                   0   \n",
       "27              35         Železničná stanica                   0   \n",
       "28               2                 Na Hlavnej                   1   \n",
       "29              35         Železničná stanica                   1   \n",
       "30             510                 Suvorovova                   0   \n",
       "31             205  Divadlo Jonáša Záborského                   0   \n",
       "32             529                      Škára                   1   \n",
       "33             529                      Škára                   0   \n",
       "34               1                    Trojica                   1   \n",
       "35               1                    Trojica                   1   \n",
       "36             529                      Škára                   1   \n",
       "37              36                   Sibírska                   0   \n",
       "38              37                   Lesnícka                   1   \n",
       "39             188               Volgogradská                   1   \n",
       "40               2                 Na Hlavnej                   0   \n",
       "41             529                      Škára                   1   \n",
       "42              35         Železničná stanica                   0   \n",
       "43             525                  Dúbravská                   0   \n",
       "44             529                      Škára                   0   \n",
       "45              41                  Karpatská                   0   \n",
       "46             190                      VUKOV                   0   \n",
       "47              38               Pavla Horova                   0   \n",
       "48               8                    Košická                   0   \n",
       "49             156                Poliklinika                   1   \n",
       "\n",
       "    BUS_STOP_NUM_2           Next_Stop  PLANNED_ROAD  REAL_ROAD  DELAY  \\\n",
       "0              529               Škára           850        154    -48   \n",
       "1                2          Na Hlavnej           290        290    -13   \n",
       "2              191             Centrum           730        557     13   \n",
       "3               38        Pavla Horova           370        370     -4   \n",
       "4               90    Nám. J.Kolarčíka           490        490    -57   \n",
       "5                2          Na Hlavnej           394        394     -4   \n",
       "6              190               VUKOV           517        517     -4   \n",
       "7              167           Vydumanec           560        560     40   \n",
       "8               35  Železničná stanica           850        262    -30   \n",
       "9              532          Floriánova          1200       1200    -36   \n",
       "10             192        Prostějovská           457        457     13   \n",
       "11               3         Veľká pošta           555        555      5   \n",
       "12               2          Na Hlavnej           290        290     17   \n",
       "13              87           Gribľovec           805        805    -57   \n",
       "14              53          Solivarská           860        680   -113   \n",
       "15             156         Poliklinika           640        640   -132   \n",
       "16               2          Na Hlavnej           290        290     -7   \n",
       "17              79      Rázcestie Kúty           563        563    -72   \n",
       "18             532          Floriánova           400        400     53   \n",
       "19              39       Martina Benku           803        803    -16   \n",
       "20             507          Nižnianska          1707       1596     53   \n",
       "21             507          Nižnianska          1707       1666     47   \n",
       "22             531             Okružná           850        646    119   \n",
       "23              35  Železničná stanica           654        418   -109   \n",
       "24              37            Lesnícka           571        513    -54   \n",
       "25              89      Červený mostík           400        400    -64   \n",
       "26              35  Železničná stanica           654        654   -124   \n",
       "27               4         Čierny most           650         23    -10   \n",
       "28               3         Veľká pošta           555        555      8   \n",
       "29             529               Škára           850        170   -212   \n",
       "30             529               Škára          1150       1021    -84   \n",
       "31               2          Na Hlavnej           290        290     -3   \n",
       "32              37            Lesnícka           840        840   -175   \n",
       "33              35  Železničná stanica           850        819    -27   \n",
       "34               2          Na Hlavnej           394        394     58   \n",
       "35               2          Na Hlavnej           394        394     44   \n",
       "36               5            Východná           400        376    -62   \n",
       "37              41           Karpatská           716        716     19   \n",
       "38              38        Pavla Horova           510        510   -184   \n",
       "39             187        Clementisova           350        350    -15   \n",
       "40               1             Trojica           560        560     32   \n",
       "41              53          Solivarská           860        860   -108   \n",
       "42               4         Čierny most           650        650    -34   \n",
       "43             526         Pri kaplnke           310        254    -59   \n",
       "44              35  Železničná stanica           850        540     -4   \n",
       "45              40         Jurkovičova           305        305     -4   \n",
       "46             191             Centrum           730         86    -28   \n",
       "47              37            Lesnícka           571        571    -57   \n",
       "48               7        Nový Solivar           654        614    -70   \n",
       "49               1             Trojica           530        530    -54   \n",
       "\n",
       "    VEHICLE_NUMBER            Current_Time  Current_Day  Current_Hour  \\\n",
       "0              735 2021-03-09 10:14:44.354            9            11   \n",
       "1              734 2021-03-09 10:14:44.354            9            11   \n",
       "2              746 2021-03-09 10:14:44.354            9            11   \n",
       "3              724 2021-03-09 10:15:29.382            9            11   \n",
       "4              370 2021-03-09 10:15:29.382            9            11   \n",
       "5              723 2021-03-09 10:15:29.382            9            11   \n",
       "6              728 2021-03-09 10:15:29.382            9            11   \n",
       "7              364 2021-03-09 10:15:44.382            9            11   \n",
       "8              394 2021-03-09 10:15:44.382            9            11   \n",
       "9              393 2021-03-09 10:15:59.385            9            11   \n",
       "10             746 2021-03-09 10:16:29.390            9            11   \n",
       "11             723 2021-03-09 10:17:29.390            9            11   \n",
       "12             380 2021-03-09 10:18:14.395            9            11   \n",
       "13             370 2021-03-09 10:18:29.406            9            11   \n",
       "14             735 2021-03-09 10:18:44.405            9            11   \n",
       "15             741 2021-03-09 10:18:44.405            9            11   \n",
       "16             738 2021-03-09 10:18:44.405            9            11   \n",
       "17             740 2021-03-09 10:18:44.405            9            11   \n",
       "18             350 2021-03-09 10:19:44.390            9            11   \n",
       "19             724 2021-03-09 10:14:44.354            9            11   \n",
       "20             356 2021-03-09 10:15:14.382            9            11   \n",
       "21             356 2021-03-09 10:15:29.382            9            11   \n",
       "22             350 2021-03-09 10:15:29.382            9            11   \n",
       "23             354 2021-03-09 10:15:44.382            9            11   \n",
       "24             407 2021-03-09 10:16:14.382            9            11   \n",
       "25             370 2021-03-09 10:16:29.390            9            11   \n",
       "26             354 2021-03-09 10:16:29.390            9            11   \n",
       "27             394 2021-03-09 10:16:44.387            9            11   \n",
       "28             723 2021-03-09 10:17:14.393            9            11   \n",
       "29             744 2021-03-09 10:17:29.390            9            11   \n",
       "30             385 2021-03-09 10:17:29.390            9            11   \n",
       "31             396 2021-03-09 10:17:29.390            9            11   \n",
       "32             729 2021-03-09 10:17:29.390            9            11   \n",
       "33             722 2021-03-09 10:17:44.389            9            11   \n",
       "34             399 2021-03-09 10:17:44.389            9            11   \n",
       "35             399 2021-03-09 10:17:59.392            9            11   \n",
       "36             385 2021-03-09 10:18:14.395            9            11   \n",
       "37             727 2021-03-09 10:18:14.395            9            11   \n",
       "38             729 2021-03-09 10:18:44.405            9            11   \n",
       "39             728 2021-03-09 10:18:44.405            9            11   \n",
       "40             396 2021-03-09 10:18:59.401            9            11   \n",
       "41             735 2021-03-09 10:19:14.400            9            11   \n",
       "42             394 2021-03-09 10:19:14.400            9            11   \n",
       "43             402 2021-03-09 10:19:14.400            9            11   \n",
       "44             724 2021-03-09 10:19:44.390            9            11   \n",
       "45             727 2021-03-09 10:19:44.390            9            11   \n",
       "46             746 2021-03-09 10:14:14.349            9            11   \n",
       "47             722 2021-03-09 10:14:29.354            9            11   \n",
       "48             354 2021-03-09 10:14:29.354            9            11   \n",
       "49             723 2021-03-09 10:14:29.354            9            11   \n",
       "\n",
       "    Current_Minutes  Current_Seconds  \n",
       "0                14               44  \n",
       "1                14               44  \n",
       "2                14               44  \n",
       "3                15               29  \n",
       "4                15               29  \n",
       "5                15               29  \n",
       "6                15               29  \n",
       "7                15               44  \n",
       "8                15               44  \n",
       "9                15               59  \n",
       "10               16               29  \n",
       "11               17               29  \n",
       "12               18               14  \n",
       "13               18               29  \n",
       "14               18               44  \n",
       "15               18               44  \n",
       "16               18               44  \n",
       "17               18               44  \n",
       "18               19               44  \n",
       "19               14               44  \n",
       "20               15               14  \n",
       "21               15               29  \n",
       "22               15               29  \n",
       "23               15               44  \n",
       "24               16               14  \n",
       "25               16               29  \n",
       "26               16               29  \n",
       "27               16               44  \n",
       "28               17               14  \n",
       "29               17               29  \n",
       "30               17               29  \n",
       "31               17               29  \n",
       "32               17               29  \n",
       "33               17               44  \n",
       "34               17               44  \n",
       "35               17               59  \n",
       "36               18               14  \n",
       "37               18               14  \n",
       "38               18               44  \n",
       "39               18               44  \n",
       "40               18               59  \n",
       "41               19               14  \n",
       "42               19               14  \n",
       "43               19               14  \n",
       "44               19               44  \n",
       "45               19               44  \n",
       "46               14               14  \n",
       "47               14               29  \n",
       "48               14               29  \n",
       "49               14               29  "
      ]
     },
     "execution_count": 94,
     "metadata": {},
     "output_type": "execute_result"
    }
   ],
   "source": [
    "df = pd.read_json(path_or_buf = 'predictionQuery_MHD2_withoutDelete.json', orient='records')\n",
    "df = pd.DataFrame(data=df)\n",
    "#df = pd.read_csv('predictionQuery_MHD.csv')\n",
    "df.head(50)"
   ]
  },
  {
   "cell_type": "code",
   "execution_count": 95,
   "metadata": {},
   "outputs": [
    {
     "data": {
      "text/html": [
       "<div>\n",
       "<style scoped>\n",
       "    .dataframe tbody tr th:only-of-type {\n",
       "        vertical-align: middle;\n",
       "    }\n",
       "\n",
       "    .dataframe tbody tr th {\n",
       "        vertical-align: top;\n",
       "    }\n",
       "\n",
       "    .dataframe thead th {\n",
       "        text-align: right;\n",
       "    }\n",
       "</style>\n",
       "<table border=\"1\" class=\"dataframe\">\n",
       "  <thead>\n",
       "    <tr style=\"text-align: right;\">\n",
       "      <th></th>\n",
       "      <th>lon</th>\n",
       "      <th>lat</th>\n",
       "      <th>BUS_STOP_ORDER_NUM</th>\n",
       "      <th>BUS_STOP_NUM_1</th>\n",
       "      <th>BUS_STOP_SUB_NUM_2</th>\n",
       "      <th>BUS_STOP_NUM_2</th>\n",
       "      <th>PLANNED_ROAD</th>\n",
       "      <th>REAL_ROAD</th>\n",
       "      <th>DELAY</th>\n",
       "      <th>VEHICLE_NUMBER</th>\n",
       "      <th>Current_Day</th>\n",
       "      <th>Current_Hour</th>\n",
       "      <th>Current_Minutes</th>\n",
       "      <th>Current_Seconds</th>\n",
       "    </tr>\n",
       "  </thead>\n",
       "  <tbody>\n",
       "    <tr>\n",
       "      <th>count</th>\n",
       "      <td>20863.000000</td>\n",
       "      <td>20863.000000</td>\n",
       "      <td>20863.000000</td>\n",
       "      <td>20863.000000</td>\n",
       "      <td>20863.000000</td>\n",
       "      <td>20863.000000</td>\n",
       "      <td>20863.000000</td>\n",
       "      <td>20863.000000</td>\n",
       "      <td>20863.000000</td>\n",
       "      <td>20863.000000</td>\n",
       "      <td>20863.000000</td>\n",
       "      <td>20863.000000</td>\n",
       "      <td>20863.000000</td>\n",
       "      <td>20863.000000</td>\n",
       "    </tr>\n",
       "    <tr>\n",
       "      <th>mean</th>\n",
       "      <td>21.245664</td>\n",
       "      <td>48.997531</td>\n",
       "      <td>8.536500</td>\n",
       "      <td>124.871447</td>\n",
       "      <td>0.548004</td>\n",
       "      <td>119.975219</td>\n",
       "      <td>624.063797</td>\n",
       "      <td>469.432296</td>\n",
       "      <td>-37.496429</td>\n",
       "      <td>535.128074</td>\n",
       "      <td>9.097014</td>\n",
       "      <td>12.438432</td>\n",
       "      <td>29.374682</td>\n",
       "      <td>28.876240</td>\n",
       "    </tr>\n",
       "    <tr>\n",
       "      <th>std</th>\n",
       "      <td>0.020491</td>\n",
       "      <td>0.015761</td>\n",
       "      <td>5.490215</td>\n",
       "      <td>145.462938</td>\n",
       "      <td>0.605145</td>\n",
       "      <td>141.935842</td>\n",
       "      <td>541.093415</td>\n",
       "      <td>382.009848</td>\n",
       "      <td>148.780247</td>\n",
       "      <td>224.260066</td>\n",
       "      <td>0.546805</td>\n",
       "      <td>4.469770</td>\n",
       "      <td>16.492934</td>\n",
       "      <td>17.427963</td>\n",
       "    </tr>\n",
       "    <tr>\n",
       "      <th>min</th>\n",
       "      <td>21.164730</td>\n",
       "      <td>48.942360</td>\n",
       "      <td>1.000000</td>\n",
       "      <td>1.000000</td>\n",
       "      <td>0.000000</td>\n",
       "      <td>1.000000</td>\n",
       "      <td>0.000000</td>\n",
       "      <td>0.000000</td>\n",
       "      <td>-8640.000000</td>\n",
       "      <td>345.000000</td>\n",
       "      <td>8.000000</td>\n",
       "      <td>0.000000</td>\n",
       "      <td>0.000000</td>\n",
       "      <td>0.000000</td>\n",
       "    </tr>\n",
       "    <tr>\n",
       "      <th>25%</th>\n",
       "      <td>21.235960</td>\n",
       "      <td>48.986650</td>\n",
       "      <td>4.000000</td>\n",
       "      <td>26.000000</td>\n",
       "      <td>0.000000</td>\n",
       "      <td>25.000000</td>\n",
       "      <td>394.000000</td>\n",
       "      <td>284.000000</td>\n",
       "      <td>-77.000000</td>\n",
       "      <td>380.000000</td>\n",
       "      <td>9.000000</td>\n",
       "      <td>9.000000</td>\n",
       "      <td>16.000000</td>\n",
       "      <td>15.000000</td>\n",
       "    </tr>\n",
       "    <tr>\n",
       "      <th>50%</th>\n",
       "      <td>21.242980</td>\n",
       "      <td>48.996010</td>\n",
       "      <td>8.000000</td>\n",
       "      <td>79.000000</td>\n",
       "      <td>1.000000</td>\n",
       "      <td>78.000000</td>\n",
       "      <td>517.000000</td>\n",
       "      <td>422.000000</td>\n",
       "      <td>-22.000000</td>\n",
       "      <td>400.000000</td>\n",
       "      <td>9.000000</td>\n",
       "      <td>13.000000</td>\n",
       "      <td>29.000000</td>\n",
       "      <td>30.000000</td>\n",
       "    </tr>\n",
       "    <tr>\n",
       "      <th>75%</th>\n",
       "      <td>21.257020</td>\n",
       "      <td>49.003650</td>\n",
       "      <td>12.000000</td>\n",
       "      <td>187.000000</td>\n",
       "      <td>1.000000</td>\n",
       "      <td>180.000000</td>\n",
       "      <td>716.000000</td>\n",
       "      <td>590.000000</td>\n",
       "      <td>19.000000</td>\n",
       "      <td>731.000000</td>\n",
       "      <td>9.000000</td>\n",
       "      <td>15.000000</td>\n",
       "      <td>43.000000</td>\n",
       "      <td>45.000000</td>\n",
       "    </tr>\n",
       "    <tr>\n",
       "      <th>max</th>\n",
       "      <td>21.333700</td>\n",
       "      <td>49.065900</td>\n",
       "      <td>32.000000</td>\n",
       "      <td>557.000000</td>\n",
       "      <td>4.000000</td>\n",
       "      <td>557.000000</td>\n",
       "      <td>8500.000000</td>\n",
       "      <td>8370.000000</td>\n",
       "      <td>2069.000000</td>\n",
       "      <td>3433.000000</td>\n",
       "      <td>10.000000</td>\n",
       "      <td>23.000000</td>\n",
       "      <td>59.000000</td>\n",
       "      <td>59.000000</td>\n",
       "    </tr>\n",
       "  </tbody>\n",
       "</table>\n",
       "</div>"
      ],
      "text/plain": [
       "                lon           lat  BUS_STOP_ORDER_NUM  BUS_STOP_NUM_1  \\\n",
       "count  20863.000000  20863.000000        20863.000000    20863.000000   \n",
       "mean      21.245664     48.997531            8.536500      124.871447   \n",
       "std        0.020491      0.015761            5.490215      145.462938   \n",
       "min       21.164730     48.942360            1.000000        1.000000   \n",
       "25%       21.235960     48.986650            4.000000       26.000000   \n",
       "50%       21.242980     48.996010            8.000000       79.000000   \n",
       "75%       21.257020     49.003650           12.000000      187.000000   \n",
       "max       21.333700     49.065900           32.000000      557.000000   \n",
       "\n",
       "       BUS_STOP_SUB_NUM_2  BUS_STOP_NUM_2  PLANNED_ROAD     REAL_ROAD  \\\n",
       "count        20863.000000    20863.000000  20863.000000  20863.000000   \n",
       "mean             0.548004      119.975219    624.063797    469.432296   \n",
       "std              0.605145      141.935842    541.093415    382.009848   \n",
       "min              0.000000        1.000000      0.000000      0.000000   \n",
       "25%              0.000000       25.000000    394.000000    284.000000   \n",
       "50%              1.000000       78.000000    517.000000    422.000000   \n",
       "75%              1.000000      180.000000    716.000000    590.000000   \n",
       "max              4.000000      557.000000   8500.000000   8370.000000   \n",
       "\n",
       "              DELAY  VEHICLE_NUMBER   Current_Day  Current_Hour  \\\n",
       "count  20863.000000    20863.000000  20863.000000  20863.000000   \n",
       "mean     -37.496429      535.128074      9.097014     12.438432   \n",
       "std      148.780247      224.260066      0.546805      4.469770   \n",
       "min    -8640.000000      345.000000      8.000000      0.000000   \n",
       "25%      -77.000000      380.000000      9.000000      9.000000   \n",
       "50%      -22.000000      400.000000      9.000000     13.000000   \n",
       "75%       19.000000      731.000000      9.000000     15.000000   \n",
       "max     2069.000000     3433.000000     10.000000     23.000000   \n",
       "\n",
       "       Current_Minutes  Current_Seconds  \n",
       "count     20863.000000     20863.000000  \n",
       "mean         29.374682        28.876240  \n",
       "std          16.492934        17.427963  \n",
       "min           0.000000         0.000000  \n",
       "25%          16.000000        15.000000  \n",
       "50%          29.000000        30.000000  \n",
       "75%          43.000000        45.000000  \n",
       "max          59.000000        59.000000  "
      ]
     },
     "execution_count": 95,
     "metadata": {},
     "output_type": "execute_result"
    }
   ],
   "source": [
    "df.describe()"
   ]
  },
  {
   "cell_type": "code",
   "execution_count": 96,
   "metadata": {},
   "outputs": [
    {
     "data": {
      "text/plain": [
       "lon                   0\n",
       "lat                   0\n",
       "ROUTE_NUMBER          0\n",
       "DIRECTION             0\n",
       "BUS_STOP_ORDER_NUM    0\n",
       "BUS_STOP_NUM_1        0\n",
       "Current_Stop          0\n",
       "BUS_STOP_SUB_NUM_2    0\n",
       "BUS_STOP_NUM_2        0\n",
       "Next_Stop             0\n",
       "PLANNED_ROAD          0\n",
       "REAL_ROAD             0\n",
       "DELAY                 0\n",
       "VEHICLE_NUMBER        0\n",
       "Current_Time          0\n",
       "Current_Day           0\n",
       "Current_Hour          0\n",
       "Current_Minutes       0\n",
       "Current_Seconds       0\n",
       "dtype: int64"
      ]
     },
     "execution_count": 96,
     "metadata": {},
     "output_type": "execute_result"
    }
   ],
   "source": [
    "df.isnull().sum()"
   ]
  },
  {
   "cell_type": "code",
   "execution_count": 97,
   "metadata": {},
   "outputs": [
    {
     "data": {
      "text/plain": [
       "lon                          float64\n",
       "lat                          float64\n",
       "ROUTE_NUMBER                  object\n",
       "DIRECTION                     object\n",
       "BUS_STOP_ORDER_NUM             int64\n",
       "BUS_STOP_NUM_1                 int64\n",
       "Current_Stop                  object\n",
       "BUS_STOP_SUB_NUM_2             int64\n",
       "BUS_STOP_NUM_2                 int64\n",
       "Next_Stop                     object\n",
       "PLANNED_ROAD                   int64\n",
       "REAL_ROAD                      int64\n",
       "DELAY                          int64\n",
       "VEHICLE_NUMBER                 int64\n",
       "Current_Time          datetime64[ns]\n",
       "Current_Day                    int64\n",
       "Current_Hour                   int64\n",
       "Current_Minutes                int64\n",
       "Current_Seconds                int64\n",
       "dtype: object"
      ]
     },
     "execution_count": 97,
     "metadata": {},
     "output_type": "execute_result"
    }
   ],
   "source": [
    "df.dtypes"
   ]
  },
  {
   "cell_type": "code",
   "execution_count": 98,
   "metadata": {},
   "outputs": [],
   "source": [
    "#def f(x):\n",
    "#    if(x == 'T'):\n",
    "#        return 0\n",
    "#    elif(x == 'P'):\n",
    "#        return 1\n",
    "#    elif(x == 'D'):\n",
    "#        return 2\n",
    "#    elif(x == 'Z'):\n",
    "#        return 3\n",
    "#    elif(x == 'R'):\n",
    "#        return 4\n",
    "\n",
    "#df['DIRECTION'] = [f(x) for x in df['DIRECTION']]\n",
    "#df['DIRECTION']"
   ]
  },
  {
   "cell_type": "code",
   "execution_count": 99,
   "metadata": {},
   "outputs": [
    {
     "data": {
      "text/plain": [
       "[('PLANNED_ROAD', 'REAL_ROAD')]"
      ]
     },
     "execution_count": 99,
     "metadata": {},
     "output_type": "execute_result"
    }
   ],
   "source": [
    "corr = df.corr()#Lists all pairs of highly collinear variables\n",
    "indices = np.where(corr > 0.3)\n",
    "indices = [(corr.columns[x], corr.columns[y]) for x, y in zip(*indices)\n",
    "                                        if x != y and x < y]\n",
    "indices"
   ]
  },
  {
   "cell_type": "code",
   "execution_count": 100,
   "metadata": {},
   "outputs": [
    {
     "data": {
      "text/plain": [
       "[]"
      ]
     },
     "execution_count": 100,
     "metadata": {},
     "output_type": "execute_result"
    }
   ],
   "source": [
    "corr = df.corr()#Lists all pairs of highly collinear variables\n",
    "indices = np.where(corr < -0.3)\n",
    "indices = [(corr.columns[x], corr.columns[y]) for x, y in zip(*indices)\n",
    "                                        if x != y and x < y]\n",
    "indices"
   ]
  },
  {
   "cell_type": "code",
   "execution_count": 101,
   "metadata": {},
   "outputs": [],
   "source": [
    "df = df.drop(['BUS_STOP_ORDER_NUM',\n",
    "              'PLANNED_ROAD','REAL_ROAD','BUS_STOP_NUM_1','BUS_STOP_SUB_NUM_2',\n",
    "              'Next_Stop','BUS_STOP_NUM_2','Current_Time'\n",
    "              ],axis =1, errors='ignore')\n"
   ]
  },
  {
   "cell_type": "code",
   "execution_count": 102,
   "metadata": {},
   "outputs": [
    {
     "data": {
      "text/html": [
       "<div>\n",
       "<style scoped>\n",
       "    .dataframe tbody tr th:only-of-type {\n",
       "        vertical-align: middle;\n",
       "    }\n",
       "\n",
       "    .dataframe tbody tr th {\n",
       "        vertical-align: top;\n",
       "    }\n",
       "\n",
       "    .dataframe thead th {\n",
       "        text-align: right;\n",
       "    }\n",
       "</style>\n",
       "<table border=\"1\" class=\"dataframe\">\n",
       "  <thead>\n",
       "    <tr style=\"text-align: right;\">\n",
       "      <th></th>\n",
       "      <th>lon</th>\n",
       "      <th>lat</th>\n",
       "      <th>ROUTE_NUMBER</th>\n",
       "      <th>DIRECTION</th>\n",
       "      <th>Current_Stop</th>\n",
       "      <th>DELAY</th>\n",
       "      <th>VEHICLE_NUMBER</th>\n",
       "      <th>Current_Day</th>\n",
       "      <th>Current_Hour</th>\n",
       "      <th>Current_Minutes</th>\n",
       "      <th>Current_Seconds</th>\n",
       "    </tr>\n",
       "  </thead>\n",
       "  <tbody>\n",
       "    <tr>\n",
       "      <th>0</th>\n",
       "      <td>21.25039</td>\n",
       "      <td>48.98166</td>\n",
       "      <td>1</td>\n",
       "      <td>P</td>\n",
       "      <td>Železničná stanica</td>\n",
       "      <td>-48</td>\n",
       "      <td>735</td>\n",
       "      <td>9</td>\n",
       "      <td>11</td>\n",
       "      <td>14</td>\n",
       "      <td>44</td>\n",
       "    </tr>\n",
       "    <tr>\n",
       "      <th>1</th>\n",
       "      <td>21.24213</td>\n",
       "      <td>48.99564</td>\n",
       "      <td>2</td>\n",
       "      <td>T</td>\n",
       "      <td>Divadlo Jonáša Záborského</td>\n",
       "      <td>-13</td>\n",
       "      <td>734</td>\n",
       "      <td>9</td>\n",
       "      <td>11</td>\n",
       "      <td>14</td>\n",
       "      <td>44</td>\n",
       "    </tr>\n",
       "    <tr>\n",
       "      <th>2</th>\n",
       "      <td>21.22315</td>\n",
       "      <td>49.01565</td>\n",
       "      <td>38</td>\n",
       "      <td>T</td>\n",
       "      <td>VUKOV</td>\n",
       "      <td>13</td>\n",
       "      <td>746</td>\n",
       "      <td>9</td>\n",
       "      <td>11</td>\n",
       "      <td>14</td>\n",
       "      <td>44</td>\n",
       "    </tr>\n",
       "    <tr>\n",
       "      <th>3</th>\n",
       "      <td>21.26354</td>\n",
       "      <td>48.98381</td>\n",
       "      <td>38</td>\n",
       "      <td>T</td>\n",
       "      <td>Martina Benku</td>\n",
       "      <td>-4</td>\n",
       "      <td>724</td>\n",
       "      <td>9</td>\n",
       "      <td>11</td>\n",
       "      <td>15</td>\n",
       "      <td>29</td>\n",
       "    </tr>\n",
       "    <tr>\n",
       "      <th>4</th>\n",
       "      <td>21.28670</td>\n",
       "      <td>49.05149</td>\n",
       "      <td>21</td>\n",
       "      <td>T</td>\n",
       "      <td>V kopci</td>\n",
       "      <td>-57</td>\n",
       "      <td>370</td>\n",
       "      <td>9</td>\n",
       "      <td>11</td>\n",
       "      <td>15</td>\n",
       "      <td>29</td>\n",
       "    </tr>\n",
       "  </tbody>\n",
       "</table>\n",
       "</div>"
      ],
      "text/plain": [
       "        lon       lat ROUTE_NUMBER DIRECTION               Current_Stop  \\\n",
       "0  21.25039  48.98166            1         P         Železničná stanica   \n",
       "1  21.24213  48.99564            2         T  Divadlo Jonáša Záborského   \n",
       "2  21.22315  49.01565           38         T                      VUKOV   \n",
       "3  21.26354  48.98381           38         T              Martina Benku   \n",
       "4  21.28670  49.05149           21         T                    V kopci   \n",
       "\n",
       "   DELAY  VEHICLE_NUMBER  Current_Day  Current_Hour  Current_Minutes  \\\n",
       "0    -48             735            9            11               14   \n",
       "1    -13             734            9            11               14   \n",
       "2     13             746            9            11               14   \n",
       "3     -4             724            9            11               15   \n",
       "4    -57             370            9            11               15   \n",
       "\n",
       "   Current_Seconds  \n",
       "0               44  \n",
       "1               44  \n",
       "2               44  \n",
       "3               29  \n",
       "4               29  "
      ]
     },
     "execution_count": 102,
     "metadata": {},
     "output_type": "execute_result"
    }
   ],
   "source": [
    "df.head(5)"
   ]
  },
  {
   "cell_type": "code",
   "execution_count": 103,
   "metadata": {},
   "outputs": [],
   "source": [
    "def toString(x):\n",
    "    return str(x)\n",
    "    \n",
    "df['ROUTE_NUMBER'] = [toString(x) for x in df['ROUTE_NUMBER']]"
   ]
  },
  {
   "cell_type": "code",
   "execution_count": 104,
   "metadata": {},
   "outputs": [
    {
     "data": {
      "text/plain": [
       "0         1\n",
       "1         2\n",
       "2        38\n",
       "3        38\n",
       "4        21\n",
       "         ..\n",
       "20858    22\n",
       "20859    15\n",
       "20860    18\n",
       "20861    5D\n",
       "20862     4\n",
       "Name: ROUTE_NUMBER, Length: 20863, dtype: object"
      ]
     },
     "execution_count": 104,
     "metadata": {},
     "output_type": "execute_result"
    }
   ],
   "source": [
    "df['ROUTE_NUMBER'] "
   ]
  },
  {
   "cell_type": "code",
   "execution_count": 105,
   "metadata": {},
   "outputs": [
    {
     "data": {
      "text/plain": [
       "<AxesSubplot:>"
      ]
     },
     "execution_count": 105,
     "metadata": {},
     "output_type": "execute_result"
    },
    {
     "data": {
      "image/png": "[encoded data removed]",
      "text/plain": [
       "<Figure size 432x288 with 2 Axes>"
      ]
     },
     "metadata": {},
     "output_type": "display_data"
    }
   ],
   "source": [
    "seaborn.set(style='white')\n",
    "cmap = seaborn.diverging_palette(220, 10, as_cmap=True)\n",
    "seaborn.heatmap(df.corr(),cmap=cmap)"
   ]
  },
  {
   "cell_type": "code",
   "execution_count": 106,
   "metadata": {},
   "outputs": [
    {
     "data": {
      "text/plain": [
       "lon                0\n",
       "lat                0\n",
       "ROUTE_NUMBER       0\n",
       "DIRECTION          0\n",
       "Current_Stop       0\n",
       "DELAY              0\n",
       "VEHICLE_NUMBER     0\n",
       "Current_Day        0\n",
       "Current_Hour       0\n",
       "Current_Minutes    0\n",
       "Current_Seconds    0\n",
       "dtype: int64"
      ]
     },
     "execution_count": 106,
     "metadata": {},
     "output_type": "execute_result"
    }
   ],
   "source": [
    "df.isnull().sum()"
   ]
  },
  {
   "cell_type": "code",
   "execution_count": 107,
   "metadata": {},
   "outputs": [],
   "source": [
    "def LabelEncoding(col):\n",
    "    encoder = LabelEncoder()\n",
    "    encoder.fit(df[col])\n",
    "    list(encoder.classes_)\n",
    "    return encoder.transform(df[col])\n",
    "\n",
    "def KBinsDiscretizing(currCol):\n",
    "    discretizer = KBinsDiscretizer(n_bins=5, encode='ordinal', strategy='uniform')\n",
    "    discretizer.fit(df[currCol])\n",
    "    return discretizer.transform(df[currCol])\n",
    "\n",
    "df['Current_Stop_Encoded']=LabelEncoding('Current_Stop')\n",
    "df['lon_Encoded']=LabelEncoding('lon')\n",
    "df['lat_Encoded']=LabelEncoding('lat')\n",
    "df['Current_Seconds_Encoded']=LabelEncoding('Current_Seconds')\n",
    "df['Current_Minutes_Encoded']=LabelEncoding('Current_Minutes')\n",
    "df['Current_Hour_Encoded']= LabelEncoding('Current_Hour')\n",
    "df['Current_Day_Encoded']= LabelEncoding('Current_Day')\n",
    "df['DIRECTION_Encoded']= LabelEncoding('DIRECTION')\n",
    "df['RouteNumber_Encoded'] = LabelEncoding('ROUTE_NUMBER')"
   ]
  },
  {
   "cell_type": "code",
   "execution_count": 108,
   "metadata": {},
   "outputs": [
    {
     "data": {
      "text/html": [
       "<div>\n",
       "<style scoped>\n",
       "    .dataframe tbody tr th:only-of-type {\n",
       "        vertical-align: middle;\n",
       "    }\n",
       "\n",
       "    .dataframe tbody tr th {\n",
       "        vertical-align: top;\n",
       "    }\n",
       "\n",
       "    .dataframe thead th {\n",
       "        text-align: right;\n",
       "    }\n",
       "</style>\n",
       "<table border=\"1\" class=\"dataframe\">\n",
       "  <thead>\n",
       "    <tr style=\"text-align: right;\">\n",
       "      <th></th>\n",
       "      <th>lon</th>\n",
       "      <th>lat</th>\n",
       "      <th>ROUTE_NUMBER</th>\n",
       "      <th>DIRECTION</th>\n",
       "      <th>Current_Stop</th>\n",
       "      <th>DELAY</th>\n",
       "      <th>VEHICLE_NUMBER</th>\n",
       "      <th>Current_Day</th>\n",
       "      <th>Current_Hour</th>\n",
       "      <th>Current_Minutes</th>\n",
       "      <th>Current_Seconds</th>\n",
       "      <th>Current_Stop_Encoded</th>\n",
       "      <th>lon_Encoded</th>\n",
       "      <th>lat_Encoded</th>\n",
       "      <th>Current_Seconds_Encoded</th>\n",
       "      <th>Current_Minutes_Encoded</th>\n",
       "      <th>Current_Hour_Encoded</th>\n",
       "      <th>Current_Day_Encoded</th>\n",
       "      <th>DIRECTION_Encoded</th>\n",
       "      <th>RouteNumber_Encoded</th>\n",
       "    </tr>\n",
       "  </thead>\n",
       "  <tbody>\n",
       "    <tr>\n",
       "      <th>0</th>\n",
       "      <td>21.25039</td>\n",
       "      <td>48.98166</td>\n",
       "      <td>1</td>\n",
       "      <td>P</td>\n",
       "      <td>Železničná stanica</td>\n",
       "      <td>-48</td>\n",
       "      <td>735</td>\n",
       "      <td>9</td>\n",
       "      <td>11</td>\n",
       "      <td>14</td>\n",
       "      <td>44</td>\n",
       "      <td>245</td>\n",
       "      <td>1946</td>\n",
       "      <td>535</td>\n",
       "      <td>42</td>\n",
       "      <td>14</td>\n",
       "      <td>10</td>\n",
       "      <td>1</td>\n",
       "      <td>2</td>\n",
       "      <td>2</td>\n",
       "    </tr>\n",
       "    <tr>\n",
       "      <th>1</th>\n",
       "      <td>21.24213</td>\n",
       "      <td>48.99564</td>\n",
       "      <td>2</td>\n",
       "      <td>T</td>\n",
       "      <td>Divadlo Jonáša Záborského</td>\n",
       "      <td>-13</td>\n",
       "      <td>734</td>\n",
       "      <td>9</td>\n",
       "      <td>11</td>\n",
       "      <td>14</td>\n",
       "      <td>44</td>\n",
       "      <td>19</td>\n",
       "      <td>1427</td>\n",
       "      <td>1270</td>\n",
       "      <td>42</td>\n",
       "      <td>14</td>\n",
       "      <td>10</td>\n",
       "      <td>1</td>\n",
       "      <td>4</td>\n",
       "      <td>12</td>\n",
       "    </tr>\n",
       "    <tr>\n",
       "      <th>2</th>\n",
       "      <td>21.22315</td>\n",
       "      <td>49.01565</td>\n",
       "      <td>38</td>\n",
       "      <td>T</td>\n",
       "      <td>VUKOV</td>\n",
       "      <td>13</td>\n",
       "      <td>746</td>\n",
       "      <td>9</td>\n",
       "      <td>11</td>\n",
       "      <td>14</td>\n",
       "      <td>44</td>\n",
       "      <td>195</td>\n",
       "      <td>542</td>\n",
       "      <td>2127</td>\n",
       "      <td>42</td>\n",
       "      <td>14</td>\n",
       "      <td>10</td>\n",
       "      <td>1</td>\n",
       "      <td>4</td>\n",
       "      <td>29</td>\n",
       "    </tr>\n",
       "    <tr>\n",
       "      <th>3</th>\n",
       "      <td>21.26354</td>\n",
       "      <td>48.98381</td>\n",
       "      <td>38</td>\n",
       "      <td>T</td>\n",
       "      <td>Martina Benku</td>\n",
       "      <td>-4</td>\n",
       "      <td>724</td>\n",
       "      <td>9</td>\n",
       "      <td>11</td>\n",
       "      <td>15</td>\n",
       "      <td>29</td>\n",
       "      <td>89</td>\n",
       "      <td>2382</td>\n",
       "      <td>659</td>\n",
       "      <td>28</td>\n",
       "      <td>15</td>\n",
       "      <td>10</td>\n",
       "      <td>1</td>\n",
       "      <td>4</td>\n",
       "      <td>29</td>\n",
       "    </tr>\n",
       "    <tr>\n",
       "      <th>4</th>\n",
       "      <td>21.28670</td>\n",
       "      <td>49.05149</td>\n",
       "      <td>21</td>\n",
       "      <td>T</td>\n",
       "      <td>V kopci</td>\n",
       "      <td>-57</td>\n",
       "      <td>370</td>\n",
       "      <td>9</td>\n",
       "      <td>11</td>\n",
       "      <td>15</td>\n",
       "      <td>29</td>\n",
       "      <td>194</td>\n",
       "      <td>3209</td>\n",
       "      <td>2767</td>\n",
       "      <td>28</td>\n",
       "      <td>15</td>\n",
       "      <td>10</td>\n",
       "      <td>1</td>\n",
       "      <td>4</td>\n",
       "      <td>13</td>\n",
       "    </tr>\n",
       "  </tbody>\n",
       "</table>\n",
       "</div>"
      ],
      "text/plain": [
       "        lon       lat ROUTE_NUMBER DIRECTION               Current_Stop  \\\n",
       "0  21.25039  48.98166            1         P         Železničná stanica   \n",
       "1  21.24213  48.99564            2         T  Divadlo Jonáša Záborského   \n",
       "2  21.22315  49.01565           38         T                      VUKOV   \n",
       "3  21.26354  48.98381           38         T              Martina Benku   \n",
       "4  21.28670  49.05149           21         T                    V kopci   \n",
       "\n",
       "   DELAY  VEHICLE_NUMBER  Current_Day  Current_Hour  Current_Minutes  \\\n",
       "0    -48             735            9            11               14   \n",
       "1    -13             734            9            11               14   \n",
       "2     13             746            9            11               14   \n",
       "3     -4             724            9            11               15   \n",
       "4    -57             370            9            11               15   \n",
       "\n",
       "   Current_Seconds  Current_Stop_Encoded  lon_Encoded  lat_Encoded  \\\n",
       "0               44                   245         1946          535   \n",
       "1               44                    19         1427         1270   \n",
       "2               44                   195          542         2127   \n",
       "3               29                    89         2382          659   \n",
       "4               29                   194         3209         2767   \n",
       "\n",
       "   Current_Seconds_Encoded  Current_Minutes_Encoded  Current_Hour_Encoded  \\\n",
       "0                       42                       14                    10   \n",
       "1                       42                       14                    10   \n",
       "2                       42                       14                    10   \n",
       "3                       28                       15                    10   \n",
       "4                       28                       15                    10   \n",
       "\n",
       "   Current_Day_Encoded  DIRECTION_Encoded  RouteNumber_Encoded  \n",
       "0                    1                  2                    2  \n",
       "1                    1                  4                   12  \n",
       "2                    1                  4                   29  \n",
       "3                    1                  4                   29  \n",
       "4                    1                  4                   13  "
      ]
     },
     "execution_count": 108,
     "metadata": {},
     "output_type": "execute_result"
    }
   ],
   "source": [
    "df.head(5)"
   ]
  },
  {
   "cell_type": "code",
   "execution_count": 109,
   "metadata": {},
   "outputs": [],
   "source": [
    "df = df.drop(['Current_Stop','Current_Hour','Current_Minutes',\n",
    "              'Current_Seconds','lon','lat',\n",
    "              'PLANNED_ROAD','REAL_ROAD',\n",
    "              'Current_Time','DIRECTION','ROUTE_NUMBER',\n",
    "              'Current_Day'],axis =1, errors='ignore')"
   ]
  },
  {
   "cell_type": "code",
   "execution_count": 110,
   "metadata": {},
   "outputs": [
    {
     "data": {
      "text/html": [
       "<div>\n",
       "<style scoped>\n",
       "    .dataframe tbody tr th:only-of-type {\n",
       "        vertical-align: middle;\n",
       "    }\n",
       "\n",
       "    .dataframe tbody tr th {\n",
       "        vertical-align: top;\n",
       "    }\n",
       "\n",
       "    .dataframe thead th {\n",
       "        text-align: right;\n",
       "    }\n",
       "</style>\n",
       "<table border=\"1\" class=\"dataframe\">\n",
       "  <thead>\n",
       "    <tr style=\"text-align: right;\">\n",
       "      <th></th>\n",
       "      <th>DELAY</th>\n",
       "      <th>VEHICLE_NUMBER</th>\n",
       "      <th>Current_Stop_Encoded</th>\n",
       "      <th>lon_Encoded</th>\n",
       "      <th>lat_Encoded</th>\n",
       "      <th>Current_Seconds_Encoded</th>\n",
       "      <th>Current_Minutes_Encoded</th>\n",
       "      <th>Current_Hour_Encoded</th>\n",
       "      <th>Current_Day_Encoded</th>\n",
       "      <th>DIRECTION_Encoded</th>\n",
       "      <th>RouteNumber_Encoded</th>\n",
       "    </tr>\n",
       "  </thead>\n",
       "  <tbody>\n",
       "    <tr>\n",
       "      <th>0</th>\n",
       "      <td>-48</td>\n",
       "      <td>735</td>\n",
       "      <td>245</td>\n",
       "      <td>1946</td>\n",
       "      <td>535</td>\n",
       "      <td>42</td>\n",
       "      <td>14</td>\n",
       "      <td>10</td>\n",
       "      <td>1</td>\n",
       "      <td>2</td>\n",
       "      <td>2</td>\n",
       "    </tr>\n",
       "    <tr>\n",
       "      <th>1</th>\n",
       "      <td>-13</td>\n",
       "      <td>734</td>\n",
       "      <td>19</td>\n",
       "      <td>1427</td>\n",
       "      <td>1270</td>\n",
       "      <td>42</td>\n",
       "      <td>14</td>\n",
       "      <td>10</td>\n",
       "      <td>1</td>\n",
       "      <td>4</td>\n",
       "      <td>12</td>\n",
       "    </tr>\n",
       "    <tr>\n",
       "      <th>2</th>\n",
       "      <td>13</td>\n",
       "      <td>746</td>\n",
       "      <td>195</td>\n",
       "      <td>542</td>\n",
       "      <td>2127</td>\n",
       "      <td>42</td>\n",
       "      <td>14</td>\n",
       "      <td>10</td>\n",
       "      <td>1</td>\n",
       "      <td>4</td>\n",
       "      <td>29</td>\n",
       "    </tr>\n",
       "    <tr>\n",
       "      <th>3</th>\n",
       "      <td>-4</td>\n",
       "      <td>724</td>\n",
       "      <td>89</td>\n",
       "      <td>2382</td>\n",
       "      <td>659</td>\n",
       "      <td>28</td>\n",
       "      <td>15</td>\n",
       "      <td>10</td>\n",
       "      <td>1</td>\n",
       "      <td>4</td>\n",
       "      <td>29</td>\n",
       "    </tr>\n",
       "    <tr>\n",
       "      <th>4</th>\n",
       "      <td>-57</td>\n",
       "      <td>370</td>\n",
       "      <td>194</td>\n",
       "      <td>3209</td>\n",
       "      <td>2767</td>\n",
       "      <td>28</td>\n",
       "      <td>15</td>\n",
       "      <td>10</td>\n",
       "      <td>1</td>\n",
       "      <td>4</td>\n",
       "      <td>13</td>\n",
       "    </tr>\n",
       "  </tbody>\n",
       "</table>\n",
       "</div>"
      ],
      "text/plain": [
       "   DELAY  VEHICLE_NUMBER  Current_Stop_Encoded  lon_Encoded  lat_Encoded  \\\n",
       "0    -48             735                   245         1946          535   \n",
       "1    -13             734                    19         1427         1270   \n",
       "2     13             746                   195          542         2127   \n",
       "3     -4             724                    89         2382          659   \n",
       "4    -57             370                   194         3209         2767   \n",
       "\n",
       "   Current_Seconds_Encoded  Current_Minutes_Encoded  Current_Hour_Encoded  \\\n",
       "0                       42                       14                    10   \n",
       "1                       42                       14                    10   \n",
       "2                       42                       14                    10   \n",
       "3                       28                       15                    10   \n",
       "4                       28                       15                    10   \n",
       "\n",
       "   Current_Day_Encoded  DIRECTION_Encoded  RouteNumber_Encoded  \n",
       "0                    1                  2                    2  \n",
       "1                    1                  4                   12  \n",
       "2                    1                  4                   29  \n",
       "3                    1                  4                   29  \n",
       "4                    1                  4                   13  "
      ]
     },
     "execution_count": 110,
     "metadata": {},
     "output_type": "execute_result"
    }
   ],
   "source": [
    "df.head(5)"
   ]
  },
  {
   "cell_type": "code",
   "execution_count": 111,
   "metadata": {},
   "outputs": [
    {
     "data": {
      "text/plain": [
       "[]"
      ]
     },
     "execution_count": 111,
     "metadata": {},
     "output_type": "execute_result"
    }
   ],
   "source": [
    "corr = df.corr()#Lists all pairs of highly collinear variables\n",
    "indices = np.where(corr > 0.3)\n",
    "indices = [(corr.columns[x], corr.columns[y]) for x, y in zip(*indices)\n",
    "                                        if x != y and x < y]\n",
    "indices"
   ]
  },
  {
   "cell_type": "code",
   "execution_count": 112,
   "metadata": {},
   "outputs": [
    {
     "data": {
      "text/plain": [
       "[]"
      ]
     },
     "execution_count": 112,
     "metadata": {},
     "output_type": "execute_result"
    }
   ],
   "source": [
    "corr = df.corr()#Lists all pairs of highly collinear variables\n",
    "indices = np.where(corr < -0.3)\n",
    "indices = [(corr.columns[x], corr.columns[y]) for x, y in zip(*indices)\n",
    "                                        if x != y and x < y]\n",
    "indices"
   ]
  },
  {
   "cell_type": "code",
   "execution_count": 113,
   "metadata": {},
   "outputs": [],
   "source": [
    "df = df.drop(['lon_Encoded','Current_Day_Encoded'],axis =1, errors='ignore')"
   ]
  },
  {
   "cell_type": "code",
   "execution_count": 114,
   "metadata": {},
   "outputs": [
    {
     "data": {
      "text/html": [
       "<div>\n",
       "<style scoped>\n",
       "    .dataframe tbody tr th:only-of-type {\n",
       "        vertical-align: middle;\n",
       "    }\n",
       "\n",
       "    .dataframe tbody tr th {\n",
       "        vertical-align: top;\n",
       "    }\n",
       "\n",
       "    .dataframe thead th {\n",
       "        text-align: right;\n",
       "    }\n",
       "</style>\n",
       "<table border=\"1\" class=\"dataframe\">\n",
       "  <thead>\n",
       "    <tr style=\"text-align: right;\">\n",
       "      <th></th>\n",
       "      <th>DELAY</th>\n",
       "      <th>VEHICLE_NUMBER</th>\n",
       "      <th>Current_Stop_Encoded</th>\n",
       "      <th>lat_Encoded</th>\n",
       "      <th>Current_Seconds_Encoded</th>\n",
       "      <th>Current_Minutes_Encoded</th>\n",
       "      <th>Current_Hour_Encoded</th>\n",
       "      <th>DIRECTION_Encoded</th>\n",
       "      <th>RouteNumber_Encoded</th>\n",
       "    </tr>\n",
       "  </thead>\n",
       "  <tbody>\n",
       "    <tr>\n",
       "      <th>0</th>\n",
       "      <td>-48</td>\n",
       "      <td>735</td>\n",
       "      <td>245</td>\n",
       "      <td>535</td>\n",
       "      <td>42</td>\n",
       "      <td>14</td>\n",
       "      <td>10</td>\n",
       "      <td>2</td>\n",
       "      <td>2</td>\n",
       "    </tr>\n",
       "    <tr>\n",
       "      <th>1</th>\n",
       "      <td>-13</td>\n",
       "      <td>734</td>\n",
       "      <td>19</td>\n",
       "      <td>1270</td>\n",
       "      <td>42</td>\n",
       "      <td>14</td>\n",
       "      <td>10</td>\n",
       "      <td>4</td>\n",
       "      <td>12</td>\n",
       "    </tr>\n",
       "    <tr>\n",
       "      <th>2</th>\n",
       "      <td>13</td>\n",
       "      <td>746</td>\n",
       "      <td>195</td>\n",
       "      <td>2127</td>\n",
       "      <td>42</td>\n",
       "      <td>14</td>\n",
       "      <td>10</td>\n",
       "      <td>4</td>\n",
       "      <td>29</td>\n",
       "    </tr>\n",
       "    <tr>\n",
       "      <th>3</th>\n",
       "      <td>-4</td>\n",
       "      <td>724</td>\n",
       "      <td>89</td>\n",
       "      <td>659</td>\n",
       "      <td>28</td>\n",
       "      <td>15</td>\n",
       "      <td>10</td>\n",
       "      <td>4</td>\n",
       "      <td>29</td>\n",
       "    </tr>\n",
       "    <tr>\n",
       "      <th>4</th>\n",
       "      <td>-57</td>\n",
       "      <td>370</td>\n",
       "      <td>194</td>\n",
       "      <td>2767</td>\n",
       "      <td>28</td>\n",
       "      <td>15</td>\n",
       "      <td>10</td>\n",
       "      <td>4</td>\n",
       "      <td>13</td>\n",
       "    </tr>\n",
       "    <tr>\n",
       "      <th>5</th>\n",
       "      <td>-4</td>\n",
       "      <td>723</td>\n",
       "      <td>192</td>\n",
       "      <td>1282</td>\n",
       "      <td>28</td>\n",
       "      <td>15</td>\n",
       "      <td>10</td>\n",
       "      <td>2</td>\n",
       "      <td>41</td>\n",
       "    </tr>\n",
       "    <tr>\n",
       "      <th>6</th>\n",
       "      <td>-4</td>\n",
       "      <td>728</td>\n",
       "      <td>10</td>\n",
       "      <td>1996</td>\n",
       "      <td>28</td>\n",
       "      <td>15</td>\n",
       "      <td>10</td>\n",
       "      <td>2</td>\n",
       "      <td>31</td>\n",
       "    </tr>\n",
       "    <tr>\n",
       "      <th>7</th>\n",
       "      <td>40</td>\n",
       "      <td>364</td>\n",
       "      <td>74</td>\n",
       "      <td>1082</td>\n",
       "      <td>42</td>\n",
       "      <td>15</td>\n",
       "      <td>10</td>\n",
       "      <td>2</td>\n",
       "      <td>10</td>\n",
       "    </tr>\n",
       "    <tr>\n",
       "      <th>8</th>\n",
       "      <td>-30</td>\n",
       "      <td>394</td>\n",
       "      <td>241</td>\n",
       "      <td>617</td>\n",
       "      <td>42</td>\n",
       "      <td>15</td>\n",
       "      <td>10</td>\n",
       "      <td>4</td>\n",
       "      <td>37</td>\n",
       "    </tr>\n",
       "    <tr>\n",
       "      <th>9</th>\n",
       "      <td>-36</td>\n",
       "      <td>393</td>\n",
       "      <td>83</td>\n",
       "      <td>1374</td>\n",
       "      <td>57</td>\n",
       "      <td>15</td>\n",
       "      <td>10</td>\n",
       "      <td>2</td>\n",
       "      <td>20</td>\n",
       "    </tr>\n",
       "  </tbody>\n",
       "</table>\n",
       "</div>"
      ],
      "text/plain": [
       "   DELAY  VEHICLE_NUMBER  Current_Stop_Encoded  lat_Encoded  \\\n",
       "0    -48             735                   245          535   \n",
       "1    -13             734                    19         1270   \n",
       "2     13             746                   195         2127   \n",
       "3     -4             724                    89          659   \n",
       "4    -57             370                   194         2767   \n",
       "5     -4             723                   192         1282   \n",
       "6     -4             728                    10         1996   \n",
       "7     40             364                    74         1082   \n",
       "8    -30             394                   241          617   \n",
       "9    -36             393                    83         1374   \n",
       "\n",
       "   Current_Seconds_Encoded  Current_Minutes_Encoded  Current_Hour_Encoded  \\\n",
       "0                       42                       14                    10   \n",
       "1                       42                       14                    10   \n",
       "2                       42                       14                    10   \n",
       "3                       28                       15                    10   \n",
       "4                       28                       15                    10   \n",
       "5                       28                       15                    10   \n",
       "6                       28                       15                    10   \n",
       "7                       42                       15                    10   \n",
       "8                       42                       15                    10   \n",
       "9                       57                       15                    10   \n",
       "\n",
       "   DIRECTION_Encoded  RouteNumber_Encoded  \n",
       "0                  2                    2  \n",
       "1                  4                   12  \n",
       "2                  4                   29  \n",
       "3                  4                   29  \n",
       "4                  4                   13  \n",
       "5                  2                   41  \n",
       "6                  2                   31  \n",
       "7                  2                   10  \n",
       "8                  4                   37  \n",
       "9                  2                   20  "
      ]
     },
     "execution_count": 114,
     "metadata": {},
     "output_type": "execute_result"
    },
    {
     "data": {
      "image/png": "[encoded data removed]",
      "text/plain": [
       "<Figure size 432x288 with 2 Axes>"
      ]
     },
     "metadata": {},
     "output_type": "display_data"
    }
   ],
   "source": [
    "seaborn.heatmap(df.corr(),cmap=cmap)\n",
    "df.head(10)"
   ]
  },
  {
   "cell_type": "markdown",
   "metadata": {},
   "source": [
    "#### TrainTest Spit"
   ]
  },
  {
   "cell_type": "code",
   "execution_count": 115,
   "metadata": {},
   "outputs": [],
   "source": [
    "train_x, test_x, train_y, test_y = train_test_split(df.drop('DELAY', axis=1), df['DELAY'], test_size=0.3, random_state=1234)"
   ]
  },
  {
   "cell_type": "code",
   "execution_count": 116,
   "metadata": {},
   "outputs": [
    {
     "name": "stdout",
     "output_type": "stream",
     "text": [
      "(14604, 8, 6259, 8)\n"
     ]
    }
   ],
   "source": [
    "print(train_x.shape +  test_x.shape)"
   ]
  },
  {
   "cell_type": "code",
   "execution_count": 117,
   "metadata": {},
   "outputs": [
    {
     "name": "stdout",
     "output_type": "stream",
     "text": [
      "(14604, 6259)\n"
     ]
    }
   ],
   "source": [
    "print(train_y.shape +  test_y.shape)"
   ]
  },
  {
   "cell_type": "code",
   "execution_count": 118,
   "metadata": {},
   "outputs": [
    {
     "name": "stdout",
     "output_type": "stream",
     "text": [
      "<class 'pandas.core.frame.DataFrame'>\n",
      "Int64Index: 14604 entries, 4356 to 1318\n",
      "Data columns (total 8 columns):\n",
      " #   Column                   Non-Null Count  Dtype\n",
      "---  ------                   --------------  -----\n",
      " 0   VEHICLE_NUMBER           14604 non-null  int64\n",
      " 1   Current_Stop_Encoded     14604 non-null  int32\n",
      " 2   lat_Encoded              14604 non-null  int64\n",
      " 3   Current_Seconds_Encoded  14604 non-null  int64\n",
      " 4   Current_Minutes_Encoded  14604 non-null  int64\n",
      " 5   Current_Hour_Encoded     14604 non-null  int64\n",
      " 6   DIRECTION_Encoded        14604 non-null  int32\n",
      " 7   RouteNumber_Encoded      14604 non-null  int32\n",
      "dtypes: int32(3), int64(5)\n",
      "memory usage: 855.7 KB\n",
      "None\n",
      "<class 'pandas.core.frame.DataFrame'>\n",
      "Int64Index: 6259 entries, 13349 to 6079\n",
      "Data columns (total 8 columns):\n",
      " #   Column                   Non-Null Count  Dtype\n",
      "---  ------                   --------------  -----\n",
      " 0   VEHICLE_NUMBER           6259 non-null   int64\n",
      " 1   Current_Stop_Encoded     6259 non-null   int32\n",
      " 2   lat_Encoded              6259 non-null   int64\n",
      " 3   Current_Seconds_Encoded  6259 non-null   int64\n",
      " 4   Current_Minutes_Encoded  6259 non-null   int64\n",
      " 5   Current_Hour_Encoded     6259 non-null   int64\n",
      " 6   DIRECTION_Encoded        6259 non-null   int32\n",
      " 7   RouteNumber_Encoded      6259 non-null   int32\n",
      "dtypes: int32(3), int64(5)\n",
      "memory usage: 366.7 KB\n",
      "None\n"
     ]
    }
   ],
   "source": [
    "print(train_x.info()) \n",
    "print(test_x.info())"
   ]
  },
  {
   "cell_type": "markdown",
   "metadata": {},
   "source": [
    "### Models"
   ]
  },
  {
   "cell_type": "markdown",
   "metadata": {},
   "source": [
    "#### GridSearch for RandomForest"
   ]
  },
  {
   "cell_type": "code",
   "execution_count": 119,
   "metadata": {
    "scrolled": true
   },
   "outputs": [
    {
     "name": "stdout",
     "output_type": "stream",
     "text": [
      "Random forest Grid Search with non-redundant variables took [ 1:51:06.693871 ] seconds.\n"
     ]
    }
   ],
   "source": [
    "startTimeGS = datetime.now()\n",
    "param_grid = {'n_estimators': [10,15,20,25,100,500,600,700,800,900,1000]}\n",
    "\n",
    "grid_rf = GridSearchCV(RandomForestRegressor(), param_grid, cv=10)\n",
    "grid_rf.fit(train_x, train_y)\n",
    "bestModel = grid_rf.best_estimator_\n",
    "bestParameters = grid_rf.best_params_\n",
    "gridScores = grid_rf.score\n",
    "print('Random forest Grid Search with non-redundant variables took [', datetime.now() - startTimeGS, '] seconds.')"
   ]
  },
  {
   "cell_type": "code",
   "execution_count": 120,
   "metadata": {},
   "outputs": [
    {
     "name": "stdout",
     "output_type": "stream",
     "text": [
      "RandomForestRegressor()\n",
      "{'n_estimators': 100}\n"
     ]
    },
    {
     "data": {
      "text/plain": [
       "<bound method BaseSearchCV.score of GridSearchCV(cv=10, estimator=RandomForestRegressor(),\n",
       "             param_grid={'n_estimators': [10, 15, 20, 25, 100, 500, 600, 700,\n",
       "                                          800, 900, 1000]})>"
      ]
     },
     "execution_count": 120,
     "metadata": {},
     "output_type": "execute_result"
    }
   ],
   "source": [
    "print(bestModel)\n",
    "print(bestParameters)\n",
    "gridScores"
   ]
  },
  {
   "cell_type": "code",
   "execution_count": 121,
   "metadata": {},
   "outputs": [
    {
     "name": "stdout",
     "output_type": "stream",
     "text": [
      "0.6630789639267574\n",
      "0.20853319603746615\n",
      "[0.81116677 0.63412438 0.72189683 0.25388421 0.77893439 0.84793357\n",
      " 0.77768332 0.80052341 0.73672258 0.26792018]\n"
     ]
    },
    {
     "data": {
      "text/plain": [
       "0.6089819004217611"
      ]
     },
     "execution_count": 121,
     "metadata": {},
     "output_type": "execute_result"
    }
   ],
   "source": [
    "regr = RandomForestRegressor(n_estimators = bestParameters.get('n_estimators'),\n",
    "                             random_state = 1234)\n",
    "regr.fit(train_x, train_y)\n",
    "folds = KFold(n_splits = 10, shuffle = True, random_state = 1234)\n",
    "scores = cross_val_score(regr, df.drop('DELAY', axis=1), df['DELAY'], cv=folds,scoring='r2')\n",
    "y_pred = cross_val_predict(regr, df.drop('DELAY', axis=1), df['DELAY'], cv=folds)\n",
    "print(scores.mean())\n",
    "print(scores.std())\n",
    "print(scores)\n",
    "\n",
    "\n",
    "y_pred_Random_Forrest = regr.predict(test_x)\n",
    "regr.score(test_x,test_y)"
   ]
  },
  {
   "cell_type": "code",
   "execution_count": 122,
   "metadata": {},
   "outputs": [
    {
     "name": "stdout",
     "output_type": "stream",
     "text": [
      "Mean Absolute Error (MAE): 38.77581860787133\n",
      "Mean Squared Error (MSE): 7618.458513973097\n",
      "Root Mean Squared Error (RMSE): 87.2837815059195\n",
      "Explained Variance Score: 0.6092983542507077\n",
      "Max Error: 2043.77\n",
      "Median Absolute Error: 25.24\n",
      "R^2: 0.6089819004217611\n"
     ]
    }
   ],
   "source": [
    "y_true=test_y\n",
    "print('Mean Absolute Error (MAE):', metrics.mean_absolute_error(y_true, y_pred_Random_Forrest))\n",
    "print('Mean Squared Error (MSE):', metrics.mean_squared_error(y_true, y_pred_Random_Forrest))\n",
    "print('Root Mean Squared Error (RMSE):', metrics.mean_squared_error(y_true, y_pred_Random_Forrest, squared=False))\n",
    "print('Explained Variance Score:', metrics.explained_variance_score(y_true, y_pred_Random_Forrest))\n",
    "print('Max Error:', metrics.max_error(y_true, y_pred_Random_Forrest))\n",
    "print('Median Absolute Error:', metrics.median_absolute_error(y_true, y_pred_Random_Forrest))\n",
    "print('R^2:', metrics.r2_score(y_true, y_pred_Random_Forrest))"
   ]
  },
  {
   "cell_type": "code",
   "execution_count": 123,
   "metadata": {},
   "outputs": [
    {
     "data": {
      "text/plain": [
       "<AxesSubplot:title={'center':'Residuals'}, xlabel='DELAY', ylabel='DELAY'>"
      ]
     },
     "execution_count": 123,
     "metadata": {},
     "output_type": "execute_result"
    },
    {
     "data": {
      "image/png": "[encoded data removed]",
      "text/plain": [
       "<Figure size 432x288 with 1 Axes>"
      ]
     },
     "metadata": {},
     "output_type": "display_data"
    }
   ],
   "source": [
    "y_pred= y_pred_Random_Forrest\n",
    "residuals = test_y - y_pred\n",
    "plt.title('Residuals')\n",
    "sns.residplot(x=test_y, y=residuals, lowess=True, color=\"blue\")"
   ]
  },
  {
   "cell_type": "code",
   "execution_count": 124,
   "metadata": {},
   "outputs": [
    {
     "data": {
      "text/plain": [
       "Text(0.5, 1.0, 'Actual vs predicted')"
      ]
     },
     "execution_count": 124,
     "metadata": {},
     "output_type": "execute_result"
    },
    {
     "data": {
      "image/png": "[encoded data removed]",
      "text/plain": [
       "<Figure size 432x288 with 1 Axes>"
      ]
     },
     "metadata": {},
     "output_type": "display_data"
    }
   ],
   "source": [
    "y_pred= regr.predict(test_x)\n",
    "residuals = test_y - y_pred\n",
    "plt.scatter(x=test_y, y=y_pred,color = 'navy')\n",
    "plt.plot(test_y, test_y,color = 'cyan')\n",
    "plt.xlabel('Actual')\n",
    "plt.xlabel('predicted')\n",
    "plt.title('Actual vs predicted')"
   ]
  },
  {
   "cell_type": "code",
   "execution_count": 125,
   "metadata": {},
   "outputs": [
    {
     "data": {
      "image/png": "[encoded data removed]",
      "text/plain": [
       "<Figure size 432x288 with 1 Axes>"
      ]
     },
     "metadata": {},
     "output_type": "display_data"
    }
   ],
   "source": [
    "plt.style.use('ggplot')\n",
    "plt.ylabel('count of residuals')\n",
    "plt.xlabel('Delay')\n",
    "plt.hist(residuals, bins='auto')\n",
    "plt.title(\"Histogram of Residuals from Random_Forrest with auto bins\")\n",
    "plt.show()"
   ]
  },
  {
   "cell_type": "code",
   "execution_count": 126,
   "metadata": {},
   "outputs": [
    {
     "data": {
      "image/png": "[encoded data removed]",
      "text/plain": [
       "<Figure size 432x288 with 1 Axes>"
      ]
     },
     "metadata": {},
     "output_type": "display_data"
    }
   ],
   "source": [
    "plt.style.use('ggplot')\n",
    "plt.ylabel('Count of residuals')\n",
    "plt.xlabel('Delay')\n",
    "plt.title(\"Histogram with auto bins\")\n",
    "density, bins, _ = plt.hist(residuals, bins='auto')\n",
    "count, _ = np.histogram(residuals, bins)\n",
    "for x,y,num in zip(bins, density, count):\n",
    "    if num != 0:\n",
    "        plt.text(x, y+0.05, num, fontsize=12, rotation=0) # x,y,str"
   ]
  },
  {
   "cell_type": "code",
   "execution_count": null,
   "metadata": {},
   "outputs": [],
   "source": []
  },
  {
   "cell_type": "markdown",
   "metadata": {},
   "source": [
    "#### GridSearch for Linear Regression"
   ]
  },
  {
   "cell_type": "code",
   "execution_count": 127,
   "metadata": {},
   "outputs": [
    {
     "name": "stdout",
     "output_type": "stream",
     "text": [
      "LinearRegression(fit_intercept=False, normalize=True)\n",
      "{'copy_X': True, 'fit_intercept': False, 'normalize': True}\n"
     ]
    },
    {
     "data": {
      "text/plain": [
       "<bound method BaseSearchCV.score of GridSearchCV(cv=10, estimator=LinearRegression(),\n",
       "             param_grid={'copy_X': [True, False],\n",
       "                         'fit_intercept': [True, False],\n",
       "                         'normalize': [True, False]})>"
      ]
     },
     "execution_count": 127,
     "metadata": {},
     "output_type": "execute_result"
    }
   ],
   "source": [
    "param_grid = {'fit_intercept':[True,False], 'normalize':[True,False], 'copy_X':[True,False]}\n",
    "grid_search = GridSearchCV(LinearRegression(), param_grid, cv = 10)\n",
    "grid_search.fit(train_x, train_y)\n",
    "\n",
    "bestModel = grid_search.best_estimator_\n",
    "bestParameters = grid_search.best_params_\n",
    "gridScores = grid_search.score\n",
    "print(bestModel)\n",
    "print(bestParameters)\n",
    "gridScores"
   ]
  },
  {
   "cell_type": "code",
   "execution_count": 128,
   "metadata": {},
   "outputs": [
    {
     "name": "stdout",
     "output_type": "stream",
     "text": [
      "0.009499965947528388\n",
      "0.0032508610423472935\n",
      "[0.01440741 0.00824871 0.00698012 0.0070938  0.00952858 0.01446898\n",
      " 0.01061128 0.00687298 0.00435545 0.01243236]\n"
     ]
    },
    {
     "data": {
      "text/plain": [
       "0.00957373869731315"
      ]
     },
     "execution_count": 128,
     "metadata": {},
     "output_type": "execute_result"
    }
   ],
   "source": [
    "regressor = LinearRegression(fit_intercept=bestParameters.get('fit_intercept'),\n",
    "                             normalize=bestParameters.get('normalize'), \n",
    "                             copy_X=bestParameters.get('copy_X'))  \n",
    "regressor.fit(train_x, train_y)\n",
    "folds = KFold(n_splits = 10, shuffle = True, random_state = 1234)\n",
    "scores = cross_val_score(regressor, df.drop('DELAY', axis=1), df['DELAY'], cv=folds,scoring='r2')\n",
    "y_pred = cross_val_predict(regressor, df.drop('DELAY', axis=1), df['DELAY'], cv=folds)\n",
    "print(scores.mean())\n",
    "print(scores.std())\n",
    "print(scores)\n",
    "\n",
    "\n",
    "y_pred_Linear_Regression = regressor.predict(test_x)\n",
    "regressor.score(test_x,test_y)"
   ]
  },
  {
   "cell_type": "code",
   "execution_count": 129,
   "metadata": {},
   "outputs": [
    {
     "name": "stdout",
     "output_type": "stream",
     "text": [
      "Mean Absolute Error (MAE): 71.45633286626753\n",
      "Mean Squared Error (MSE): 19297.115379116138\n",
      "Root Mean Squared Error (RMSE): 138.91405752880496\n",
      "Explained Variance Score: 0.01029338544605618\n",
      "Max Error: 4831.711413121301\n",
      "Median Absolute Error: 51.53166428900414\n",
      "R^2: 0.00957373869731315\n"
     ]
    }
   ],
   "source": [
    "y_pred= y_pred_Linear_Regression\n",
    "y_true=test_y\n",
    "print('Mean Absolute Error (MAE):', metrics.mean_absolute_error(y_true, y_pred))\n",
    "print('Mean Squared Error (MSE):', metrics.mean_squared_error(y_true, y_pred))\n",
    "print('Root Mean Squared Error (RMSE):', metrics.mean_squared_error(y_true, y_pred, squared=False))\n",
    "print('Explained Variance Score:', metrics.explained_variance_score(y_true, y_pred))\n",
    "print('Max Error:', metrics.max_error(y_true, y_pred))\n",
    "print('Median Absolute Error:', metrics.median_absolute_error(y_true, y_pred))\n",
    "print('R^2:', metrics.r2_score(y_true, y_pred))"
   ]
  },
  {
   "cell_type": "code",
   "execution_count": 130,
   "metadata": {},
   "outputs": [
    {
     "data": {
      "text/plain": [
       "<AxesSubplot:title={'center':'Residuals'}, xlabel='DELAY', ylabel='DELAY'>"
      ]
     },
     "execution_count": 130,
     "metadata": {},
     "output_type": "execute_result"
    },
    {
     "data": {
      "image/png": "[encoded data removed]",
      "text/plain": [
       "<Figure size 432x288 with 1 Axes>"
      ]
     },
     "metadata": {},
     "output_type": "display_data"
    }
   ],
   "source": [
    "residuals = test_y - y_pred\n",
    "plt.title('Residuals')\n",
    "sns.residplot(x=test_y, y=residuals, lowess=True, color=\"blue\")"
   ]
  },
  {
   "cell_type": "code",
   "execution_count": 131,
   "metadata": {},
   "outputs": [
    {
     "data": {
      "text/plain": [
       "Text(0.5, 1.0, 'Actual vs predicted')"
      ]
     },
     "execution_count": 131,
     "metadata": {},
     "output_type": "execute_result"
    },
    {
     "data": {
      "image/png": "[encoded data removed]",
      "text/plain": [
       "<Figure size 432x288 with 1 Axes>"
      ]
     },
     "metadata": {},
     "output_type": "display_data"
    }
   ],
   "source": [
    "y_pred= regressor.predict(test_x)\n",
    "residuals = test_y - y_pred\n",
    "plt.scatter(x=test_y, y=y_pred,color = 'navy')\n",
    "plt.plot(test_y, test_y,color = 'cyan')\n",
    "plt.title('Actual vs predicted')"
   ]
  },
  {
   "cell_type": "code",
   "execution_count": 132,
   "metadata": {},
   "outputs": [
    {
     "data": {
      "image/png": "[encoded data removed]",
      "text/plain": [
       "<Figure size 432x288 with 1 Axes>"
      ]
     },
     "metadata": {},
     "output_type": "display_data"
    }
   ],
   "source": [
    "plt.style.use('ggplot')\n",
    "plt.ylabel('count of residuals')\n",
    "plt.xlabel('Delay')\n",
    "plt.hist(residuals, bins='auto')\n",
    "plt.title(\"Histogram of Residuals from Linear Regression with auto bins\")\n",
    "plt.show()"
   ]
  },
  {
   "cell_type": "code",
   "execution_count": 133,
   "metadata": {},
   "outputs": [
    {
     "data": {
      "image/png": "[encoded data removed]",
      "text/plain": [
       "<Figure size 432x288 with 1 Axes>"
      ]
     },
     "metadata": {},
     "output_type": "display_data"
    }
   ],
   "source": [
    "plt.style.use('ggplot')\n",
    "plt.ylabel('Count of residuals')\n",
    "plt.xlabel('Delay')\n",
    "plt.title(\"Histogram with auto bins\")\n",
    "density, bins, _ = plt.hist(residuals, bins='auto')\n",
    "count, _ = np.histogram(residuals, bins)\n",
    "for x,y,num in zip(bins, density, count):\n",
    "    if num != 0:\n",
    "        plt.text(x, y+0.05, num, fontsize=12, rotation=0) # x,y,str"
   ]
  },
  {
   "cell_type": "code",
   "execution_count": null,
   "metadata": {},
   "outputs": [],
   "source": []
  },
  {
   "cell_type": "markdown",
   "metadata": {},
   "source": [
    "#### GridsearchCV for SVR"
   ]
  },
  {
   "cell_type": "code",
   "execution_count": 134,
   "metadata": {},
   "outputs": [
    {
     "name": "stdout",
     "output_type": "stream",
     "text": [
      "SVR(C=100, gamma=0.01)\n",
      "{'C': 100, 'gamma': 0.01}\n"
     ]
    },
    {
     "data": {
      "text/plain": [
       "<bound method BaseSearchCV.score of GridSearchCV(cv=10, estimator=SVR(),\n",
       "             param_grid={'C': [0.001, 0.01, 10, 100],\n",
       "                         'gamma': [0.001, 0.01, 0.1, 0.001]})>"
      ]
     },
     "execution_count": 134,
     "metadata": {},
     "output_type": "execute_result"
    }
   ],
   "source": [
    "from sklearn.svm import SVR\n",
    "from sklearn.model_selection import GridSearchCV\n",
    "\n",
    "param_grid = {'C': [0.001, 0.01, 10, 100], 'gamma' : [0.001, 0.01, 0.1, 0.001]}\n",
    "grid_search = GridSearchCV(SVR(), param_grid, cv = 10)\n",
    "grid_search.fit(train_x, train_y)\n",
    "\n",
    "bestModel = grid_search.best_estimator_\n",
    "bestParameters = grid_search.best_params_\n",
    "gridScores = grid_search.score\n",
    "print(bestModel)\n",
    "print(bestParameters)\n",
    "gridScores"
   ]
  },
  {
   "cell_type": "markdown",
   "metadata": {},
   "source": [
    "#### SVR"
   ]
  },
  {
   "cell_type": "code",
   "execution_count": 135,
   "metadata": {},
   "outputs": [
    {
     "name": "stdout",
     "output_type": "stream",
     "text": [
      "0.19131687094772923\n",
      "0.08167111519776599\n",
      "[0.24416637 0.21808751 0.10957697 0.06336933 0.16384166 0.16327625\n",
      " 0.28226821 0.1042993  0.22621133 0.33807177]\n"
     ]
    },
    {
     "data": {
      "text/plain": [
       "0.15839137081752608"
      ]
     },
     "execution_count": 135,
     "metadata": {},
     "output_type": "execute_result"
    }
   ],
   "source": [
    "svr_rbf = SVR(kernel='rbf', \n",
    "              C=bestParameters.get('C'),\n",
    "              gamma=bestParameters.get('gamma'), epsilon=1)\n",
    "svr_rbf.fit(train_x, train_y)\n",
    "folds = KFold(n_splits = 10, shuffle = True, random_state = 1234)\n",
    "scores = cross_val_score(svr_rbf, df.drop('DELAY', axis=1), df['DELAY'], cv=folds,scoring='r2')\n",
    "y_pred = cross_val_predict(svr_rbf, df.drop('DELAY', axis=1), df['DELAY'], cv=folds)\n",
    "print(scores.mean())\n",
    "print(scores.std())\n",
    "print(scores)\n",
    "y_pred_svr = svr_rbf.predict(test_x)\n",
    "svr_rbf.score(test_x,test_y)"
   ]
  },
  {
   "cell_type": "code",
   "execution_count": 136,
   "metadata": {},
   "outputs": [
    {
     "name": "stdout",
     "output_type": "stream",
     "text": [
      "Mean Absolute Error (MAE): 63.28255180286032\n",
      "Mean Squared Error (MSE): 16397.605208925925\n",
      "Root Mean Squared Error (RMSE): 128.05313431902368\n",
      "Explained Variance Score: 0.15855863930548542\n",
      "Max Error: 4842.906491424741\n",
      "Median Absolute Error: 45.25481713336541\n",
      "R^2: 0.15839137081752608\n"
     ]
    }
   ],
   "source": [
    "y_pred= y_pred_svr\n",
    "y_true=test_y\n",
    "print('Mean Absolute Error (MAE):', metrics.mean_absolute_error(y_true, y_pred))\n",
    "print('Mean Squared Error (MSE):', metrics.mean_squared_error(y_true, y_pred))\n",
    "print('Root Mean Squared Error (RMSE):', metrics.mean_squared_error(y_true, y_pred, squared=False))\n",
    "print('Explained Variance Score:', metrics.explained_variance_score(y_true, y_pred))\n",
    "print('Max Error:', metrics.max_error(y_true, y_pred))\n",
    "print('Median Absolute Error:', metrics.median_absolute_error(y_true, y_pred))\n",
    "print('R^2:', metrics.r2_score(y_true, y_pred))"
   ]
  },
  {
   "cell_type": "code",
   "execution_count": 137,
   "metadata": {},
   "outputs": [
    {
     "data": {
      "text/plain": [
       "<AxesSubplot:title={'center':'Residuals'}, xlabel='DELAY', ylabel='DELAY'>"
      ]
     },
     "execution_count": 137,
     "metadata": {},
     "output_type": "execute_result"
    },
    {
     "data": {
      "image/png": "[encoded data removed]",
      "text/plain": [
       "<Figure size 432x288 with 1 Axes>"
      ]
     },
     "metadata": {},
     "output_type": "display_data"
    }
   ],
   "source": [
    "residuals = test_y - y_pred\n",
    "plt.title('Residuals')\n",
    "sns.residplot(x=test_y, y=residuals, lowess=True, color=\"blue\")"
   ]
  },
  {
   "cell_type": "code",
   "execution_count": 138,
   "metadata": {},
   "outputs": [
    {
     "data": {
      "text/plain": [
       "Text(0.5, 1.0, 'Actual vs predicted')"
      ]
     },
     "execution_count": 138,
     "metadata": {},
     "output_type": "execute_result"
    },
    {
     "data": {
      "image/png": "[encoded data removed]",
      "text/plain": [
       "<Figure size 432x288 with 1 Axes>"
      ]
     },
     "metadata": {},
     "output_type": "display_data"
    }
   ],
   "source": [
    "y_pred= svr_rbf.predict(test_x)\n",
    "residuals = test_y - y_pred\n",
    "plt.xlabel('Actual')\n",
    "plt.ylabel('Predicted')\n",
    "plt.scatter(x=test_y, y=y_pred,color = 'navy')\n",
    "plt.plot(test_y, test_y,color = 'cyan')\n",
    "plt.title('Actual vs predicted')"
   ]
  },
  {
   "cell_type": "code",
   "execution_count": 139,
   "metadata": {},
   "outputs": [
    {
     "data": {
      "image/png": "[encoded data removed]",
      "text/plain": [
       "<Figure size 432x288 with 1 Axes>"
      ]
     },
     "metadata": {},
     "output_type": "display_data"
    }
   ],
   "source": [
    "plt.style.use('ggplot')\n",
    "plt.ylabel('count of residuals')\n",
    "plt.xlabel('Delay')\n",
    "plt.hist(residuals, bins='auto')\n",
    "plt.title(\"Histogram of Residuals from SVR with auto bins\")\n",
    "plt.show()"
   ]
  },
  {
   "cell_type": "code",
   "execution_count": 140,
   "metadata": {},
   "outputs": [
    {
     "data": {
      "image/png": "[encoded data removed]",
      "text/plain": [
       "<Figure size 432x288 with 1 Axes>"
      ]
     },
     "metadata": {},
     "output_type": "display_data"
    }
   ],
   "source": [
    "plt.style.use('ggplot')\n",
    "plt.ylabel('Count of residuals')\n",
    "plt.xlabel('Delay')\n",
    "plt.title(\"Histogram with auto bins\")\n",
    "density, bins, _ = plt.hist(residuals, bins='auto')\n",
    "count, _ = np.histogram(residuals, bins)\n",
    "for x,y,num in zip(bins, density, count):\n",
    "    if num != 0:\n",
    "        plt.text(x, y+0.05, num, fontsize=12, rotation=0) # x,y,str"
   ]
  },
  {
   "cell_type": "code",
   "execution_count": null,
   "metadata": {},
   "outputs": [],
   "source": []
  },
  {
   "cell_type": "markdown",
   "metadata": {},
   "source": [
    "#### GridSearch for XGBoost model"
   ]
  },
  {
   "cell_type": "code",
   "execution_count": 141,
   "metadata": {},
   "outputs": [
    {
     "name": "stdout",
     "output_type": "stream",
     "text": [
      "XGBRegressor(base_score=0.5, booster='gbtree', colsample_bylevel=1,\n",
      "             colsample_bynode=1, colsample_bytree=1, gamma=0, gpu_id=-1,\n",
      "             importance_type='gain', interaction_constraints='',\n",
      "             learning_rate=0.300000012, max_delta_step=0, max_depth=7,\n",
      "             min_child_weight=1, missing=nan, monotone_constraints='()',\n",
      "             n_estimators=1000, n_jobs=8, num_parallel_tree=1, random_state=0,\n",
      "             reg_alpha=0, reg_lambda=1, scale_pos_weight=1, subsample=1,\n",
      "             tree_method='exact', validate_parameters=1, verbosity=None)\n",
      "{'max_depth': 7, 'n_estimators': 1000}\n"
     ]
    },
    {
     "data": {
      "text/plain": [
       "<bound method BaseSearchCV.score of GridSearchCV(cv=10,\n",
       "             estimator=XGBRegressor(base_score=None, booster=None,\n",
       "                                    colsample_bylevel=None,\n",
       "                                    colsample_bynode=None,\n",
       "                                    colsample_bytree=None, gamma=None,\n",
       "                                    gpu_id=None, importance_type='gain',\n",
       "                                    interaction_constraints=None,\n",
       "                                    learning_rate=None, max_delta_step=None,\n",
       "                                    max_depth=None, min_child_weight=None,\n",
       "                                    missing=nan, monotone_constraints=None,\n",
       "                                    n_estimators=100, n_jobs=None,\n",
       "                                    num_parallel_tree=None, random_state=None,\n",
       "                                    reg_alpha=None, reg_lambda=None,\n",
       "                                    scale_pos_weight=None, subsample=None,\n",
       "                                    tree_method=None, validate_parameters=None,\n",
       "                                    verbosity=None),\n",
       "             param_grid={'max_depth': [1, 2, 3, 4, 5, 6, 7, 8, 9, 10],\n",
       "                         'n_estimators': [10, 15, 20, 25, 100, 500, 600, 700,\n",
       "                                          800, 900, 1000]})>"
      ]
     },
     "execution_count": 141,
     "metadata": {},
     "output_type": "execute_result"
    }
   ],
   "source": [
    "param_grid = {'max_depth' : [1,2,3,4,5,6,7,8,9,10],\n",
    "              'n_estimators': [10,15,20,25,100,500,600,700,800,900,1000]\n",
    "             }\n",
    "grid_search = GridSearchCV(xgb.XGBRegressor(objective ='reg:squarederror'), param_grid, cv = 10)\n",
    "grid_search.fit(train_x, train_y)\n",
    "\n",
    "bestModel = grid_search.best_estimator_\n",
    "bestParameters = grid_search.best_params_\n",
    "gridScores = grid_search.score\n",
    "print(bestModel)\n",
    "print(bestParameters)\n",
    "gridScores"
   ]
  },
  {
   "cell_type": "markdown",
   "metadata": {},
   "source": [
    "#### XGBoost model"
   ]
  },
  {
   "cell_type": "code",
   "execution_count": 142,
   "metadata": {},
   "outputs": [
    {
     "name": "stdout",
     "output_type": "stream",
     "text": [
      "0.4353841534492934\n",
      "0.2414057786614438\n",
      "[ 0.61277042 -0.08351008  0.63554016  0.18804442  0.6634345   0.26064651\n",
      "  0.42127975  0.70875243  0.57454787  0.37233558]\n",
      "0.38737643630848806\n"
     ]
    }
   ],
   "source": [
    "xg_reg = xgb.XGBRegressor(objective ='reg:squarederror', \n",
    "                          colsample_bytree = 0.8, \n",
    "                          learning_rate = 1,\n",
    "                          max_depth = bestParameters.get('max_depth'), \n",
    "                          alpha = 10, \n",
    "                          n_estimators = bestParameters.get('n_estimators'))\n",
    "xg_reg.fit(train_x,train_y)\n",
    "folds = KFold(n_splits = 10, shuffle = True, random_state = 1234)\n",
    "scores= cross_val_score(xg_reg, df.drop('DELAY', axis=1), df['DELAY'], cv=folds,scoring='r2')\n",
    "y_pred = cross_val_predict(xg_reg, df.drop('DELAY', axis=1), df['DELAY'], cv=folds)\n",
    "print(scores.mean())\n",
    "print(scores.std())\n",
    "print(scores)\n",
    "\n",
    "preds_y = xg_reg.predict(test_x)\n",
    "rmse = np.sqrt(mean_squared_error(test_y, preds_y))\n",
    "print(xg_reg.score(test_x,test_y))"
   ]
  },
  {
   "cell_type": "code",
   "execution_count": 143,
   "metadata": {},
   "outputs": [
    {
     "name": "stdout",
     "output_type": "stream",
     "text": [
      "Mean Absolute Error (MAE): 50.51530350359771\n",
      "Mean Squared Error (MSE): 11936.141088354578\n",
      "Root Mean Squared Error (RMSE): 109.25264796953243\n",
      "Explained Variance Score: 0.3875352289968944\n",
      "Max Error: 4330.8095703125\n",
      "Median Absolute Error: 34.422481536865234\n",
      "R^2: 0.38737643630848806\n"
     ]
    }
   ],
   "source": [
    "y_pred= preds_y\n",
    "y_true=test_y\n",
    "print('Mean Absolute Error (MAE):', metrics.mean_absolute_error(y_true, y_pred))\n",
    "print('Mean Squared Error (MSE):', metrics.mean_squared_error(y_true, y_pred))\n",
    "print('Root Mean Squared Error (RMSE):', metrics.mean_squared_error(y_true, y_pred, squared=False))\n",
    "print('Explained Variance Score:', metrics.explained_variance_score(y_true, y_pred))\n",
    "print('Max Error:', metrics.max_error(y_true, y_pred))\n",
    "print('Median Absolute Error:', metrics.median_absolute_error(y_true, y_pred))\n",
    "print('R^2:', metrics.r2_score(y_true, y_pred))"
   ]
  },
  {
   "cell_type": "code",
   "execution_count": 144,
   "metadata": {},
   "outputs": [
    {
     "data": {
      "text/plain": [
       "<AxesSubplot:title={'center':'Residuals'}, xlabel='DELAY', ylabel='DELAY'>"
      ]
     },
     "execution_count": 144,
     "metadata": {},
     "output_type": "execute_result"
    },
    {
     "data": {
      "image/png": "[encoded data removed]",
      "text/plain": [
       "<Figure size 432x288 with 1 Axes>"
      ]
     },
     "metadata": {},
     "output_type": "display_data"
    }
   ],
   "source": [
    "residuals = test_y - y_pred\n",
    "plt.title('Residuals')\n",
    "sns.residplot(x=test_y, y=residuals, lowess=True, color=\"blue\")"
   ]
  },
  {
   "cell_type": "code",
   "execution_count": 145,
   "metadata": {},
   "outputs": [
    {
     "data": {
      "text/plain": [
       "Text(0.5, 1.0, 'Actual vs predicted')"
      ]
     },
     "execution_count": 145,
     "metadata": {},
     "output_type": "execute_result"
    },
    {
     "data": {
      "image/png": "[encoded data removed]",
      "text/plain": [
       "<Figure size 432x288 with 1 Axes>"
      ]
     },
     "metadata": {},
     "output_type": "display_data"
    }
   ],
   "source": [
    "y_pred= xg_reg.predict(test_x)\n",
    "residuals = test_y - y_pred\n",
    "plt.scatter(x=test_y, y=y_pred,color = 'navy')\n",
    "plt.plot(test_y, test_y,color = 'cyan')\n",
    "plt.title('Actual vs predicted')"
   ]
  },
  {
   "cell_type": "code",
   "execution_count": 146,
   "metadata": {},
   "outputs": [
    {
     "data": {
      "image/png": "[encoded data removed]",
      "text/plain": [
       "<Figure size 432x288 with 1 Axes>"
      ]
     },
     "metadata": {},
     "output_type": "display_data"
    }
   ],
   "source": [
    "plt.style.use('ggplot')\n",
    "plt.ylabel('count of residuals')\n",
    "plt.xlabel('Delay')\n",
    "plt.hist(residuals, bins='auto')\n",
    "plt.title(\"Histogram with auto bins\")\n",
    "plt.show()"
   ]
  },
  {
   "cell_type": "code",
   "execution_count": 147,
   "metadata": {},
   "outputs": [
    {
     "data": {
      "image/png": "[encoded data removed]",
      "text/plain": [
       "<Figure size 432x288 with 1 Axes>"
      ]
     },
     "metadata": {},
     "output_type": "display_data"
    }
   ],
   "source": [
    "plt.style.use('ggplot')\n",
    "plt.ylabel('Count of residuals')\n",
    "plt.xlabel('Delay')\n",
    "plt.title(\"Histogram with auto bins\")\n",
    "density, bins, _ = plt.hist(residuals, bins='auto')\n",
    "count, _ = np.histogram(residuals, bins)\n",
    "for x,y,num in zip(bins, density, count):\n",
    "    if num != 0:\n",
    "        plt.text(x, y+0.05, num, fontsize=12, rotation=0) # x,y,str"
   ]
  },
  {
   "cell_type": "code",
   "execution_count": null,
   "metadata": {},
   "outputs": [],
   "source": []
  },
  {
   "cell_type": "markdown",
   "metadata": {},
   "source": [
    "#### GridSearch for DecisionTree"
   ]
  },
  {
   "cell_type": "code",
   "execution_count": 148,
   "metadata": {},
   "outputs": [
    {
     "name": "stdout",
     "output_type": "stream",
     "text": [
      "MLPRegressor Grid Search with non-redundant variables took [ 0:05:48.901721 ] seconds.\n"
     ]
    }
   ],
   "source": [
    "startTimeGS = datetime.now()\n",
    "param_grid = {'criterion':['mse', 'friedman_mse', 'mae'],\n",
    "              'splitter':['best','random']}\n",
    "\n",
    "grid_rf = GridSearchCV(DecisionTreeRegressor(random_state =  0), param_grid, cv=10)\n",
    "grid_rf.fit(train_x, train_y)\n",
    "bestModel = grid_rf.best_estimator_\n",
    "bestParameters = grid_rf.best_params_\n",
    "gridScores = grid_rf.score\n",
    "print('MLPRegressor Grid Search with non-redundant variables took [', datetime.now() - startTimeGS, '] seconds.')"
   ]
  },
  {
   "cell_type": "code",
   "execution_count": 149,
   "metadata": {},
   "outputs": [
    {
     "name": "stdout",
     "output_type": "stream",
     "text": [
      "DecisionTreeRegressor(criterion='mae', random_state=0)\n",
      "{'criterion': 'mae', 'splitter': 'best'}\n"
     ]
    },
    {
     "data": {
      "text/plain": [
       "<bound method BaseSearchCV.score of GridSearchCV(cv=10, estimator=DecisionTreeRegressor(random_state=0),\n",
       "             param_grid={'criterion': ['mse', 'friedman_mse', 'mae'],\n",
       "                         'splitter': ['best', 'random']})>"
      ]
     },
     "execution_count": 149,
     "metadata": {},
     "output_type": "execute_result"
    }
   ],
   "source": [
    "print(bestModel)\n",
    "print(bestParameters)\n",
    "gridScores"
   ]
  },
  {
   "cell_type": "markdown",
   "metadata": {},
   "source": [
    "#### DecisionTree"
   ]
  },
  {
   "cell_type": "code",
   "execution_count": 150,
   "metadata": {},
   "outputs": [
    {
     "name": "stdout",
     "output_type": "stream",
     "text": [
      "-0.030512176061762396\n",
      "1.0537569632135106\n",
      "[ 0.62847251  0.22312728  0.50618977  0.17562923 -2.95973247  0.60434679\n",
      "  0.58751221 -0.78080973  0.5120316   0.19811104]\n"
     ]
    },
    {
     "data": {
      "text/plain": [
       "0.1645724652795305"
      ]
     },
     "execution_count": 150,
     "metadata": {},
     "output_type": "execute_result"
    }
   ],
   "source": [
    "regr = DecisionTreeRegressor(criterion = bestParameters.get('criterion'),\n",
    "                             splitter = bestParameters.get('splitter'))\n",
    "regr.fit(train_x, train_y)\n",
    "folds = KFold(n_splits = 10, shuffle = True, random_state = 1234)\n",
    "scores = cross_val_score(regr, df.drop('DELAY', axis=1), df['DELAY'], cv=folds,scoring='r2')\n",
    "y_pred = cross_val_predict(regr, df.drop('DELAY', axis=1), df['DELAY'], cv=folds)\n",
    "print(scores.mean())\n",
    "print(scores.std())\n",
    "print(scores)\n",
    "\n",
    "\n",
    "y_pred_svr = regr.predict(test_x)\n",
    "regr.score(test_x,test_y)"
   ]
  },
  {
   "cell_type": "code",
   "execution_count": 151,
   "metadata": {},
   "outputs": [
    {
     "name": "stdout",
     "output_type": "stream",
     "text": [
      "Mean Absolute Error (MAE): 61.746924428822496\n",
      "Mean Squared Error (MSE): 16277.174948074773\n",
      "Root Mean Squared Error (RMSE): 127.58203223054089\n",
      "Explained Variance Score: 0.1646833078684805\n",
      "Max Error: 2324.0\n",
      "Median Absolute Error: 40.0\n",
      "R^2: 0.1645724652795305\n"
     ]
    }
   ],
   "source": [
    "y_pred= y_pred_svr\n",
    "y_true=test_y\n",
    "print('Mean Absolute Error (MAE):', metrics.mean_absolute_error(y_true, y_pred))\n",
    "print('Mean Squared Error (MSE):', metrics.mean_squared_error(y_true, y_pred))\n",
    "print('Root Mean Squared Error (RMSE):', metrics.mean_squared_error(y_true, y_pred, squared=False))\n",
    "print('Explained Variance Score:', metrics.explained_variance_score(y_true, y_pred))\n",
    "print('Max Error:', metrics.max_error(y_true, y_pred))\n",
    "print('Median Absolute Error:', metrics.median_absolute_error(y_true, y_pred))\n",
    "print('R^2:', metrics.r2_score(y_true, y_pred))"
   ]
  },
  {
   "cell_type": "code",
   "execution_count": 152,
   "metadata": {},
   "outputs": [
    {
     "data": {
      "text/plain": [
       "<AxesSubplot:title={'center':'Residuals'}, xlabel='DELAY', ylabel='DELAY'>"
      ]
     },
     "execution_count": 152,
     "metadata": {},
     "output_type": "execute_result"
    },
    {
     "data": {
      "image/png": "[encoded data removed]",
      "text/plain": [
       "<Figure size 432x288 with 1 Axes>"
      ]
     },
     "metadata": {},
     "output_type": "display_data"
    }
   ],
   "source": [
    "residuals = test_y - y_pred\n",
    "plt.title('Residuals')\n",
    "sns.residplot(x=test_y, y=residuals, lowess=True, color=\"blue\")"
   ]
  },
  {
   "cell_type": "code",
   "execution_count": 153,
   "metadata": {},
   "outputs": [
    {
     "data": {
      "text/plain": [
       "Text(0.5, 1.0, 'Actual vs predicted')"
      ]
     },
     "execution_count": 153,
     "metadata": {},
     "output_type": "execute_result"
    },
    {
     "data": {
      "image/png": "[encoded data removed]",
      "text/plain": [
       "<Figure size 432x288 with 1 Axes>"
      ]
     },
     "metadata": {},
     "output_type": "display_data"
    }
   ],
   "source": [
    "y_pred= regr.predict(test_x)\n",
    "residuals = test_y - y_pred\n",
    "plt.scatter(x=test_y, y=y_pred,color = 'navy')\n",
    "plt.plot(test_y, test_y,color = 'cyan')\n",
    "plt.title('Actual vs predicted')"
   ]
  },
  {
   "cell_type": "code",
   "execution_count": 154,
   "metadata": {},
   "outputs": [
    {
     "data": {
      "image/png": "[encoded data removed]",
      "text/plain": [
       "<Figure size 432x288 with 1 Axes>"
      ]
     },
     "metadata": {},
     "output_type": "display_data"
    }
   ],
   "source": [
    "plt.style.use('ggplot')\n",
    "plt.ylabel('count of residuals')\n",
    "plt.xlabel('Delay')\n",
    "plt.hist(residuals, bins='auto')\n",
    "plt.title(\"Histogram with auto bins\")\n",
    "plt.show()"
   ]
  },
  {
   "cell_type": "code",
   "execution_count": 155,
   "metadata": {},
   "outputs": [
    {
     "data": {
      "image/png": "[encoded data removed]",
      "text/plain": [
       "<Figure size 432x288 with 1 Axes>"
      ]
     },
     "metadata": {},
     "output_type": "display_data"
    }
   ],
   "source": [
    "plt.style.use('ggplot')\n",
    "plt.ylabel('Count of residuals')\n",
    "plt.xlabel('Delay')\n",
    "plt.title(\"Histogram with auto bins\")\n",
    "density, bins, _ = plt.hist(residuals, bins='auto')\n",
    "count, _ = np.histogram(residuals, bins)\n",
    "for x,y,num in zip(bins, density, count):\n",
    "    if num != 0:\n",
    "        plt.text(x, y+0.05, num, fontsize=12, rotation=0) # x,y,str"
   ]
  },
  {
   "cell_type": "code",
   "execution_count": null,
   "metadata": {},
   "outputs": [],
   "source": []
  },
  {
   "cell_type": "code",
   "execution_count": null,
   "metadata": {},
   "outputs": [],
   "source": []
  },
  {
   "cell_type": "code",
   "execution_count": null,
   "metadata": {},
   "outputs": [],
   "source": []
  },
  {
   "cell_type": "code",
   "execution_count": null,
   "metadata": {},
   "outputs": [],
   "source": []
  }
 ],
 "metadata": {
  "kernelspec": {
   "display_name": "Python 3",
   "language": "python",
   "name": "python3"
  },
  "language_info": {
   "codemirror_mode": {
    "name": "ipython",
    "version": 3
   },
   "file_extension": ".py",
   "mimetype": "text/x-python",
   "name": "python",
   "nbconvert_exporter": "python",
   "pygments_lexer": "ipython3",
   "version": "3.8.5"
  }
 },
 "nbformat": 4,
 "nbformat_minor": 4
}
