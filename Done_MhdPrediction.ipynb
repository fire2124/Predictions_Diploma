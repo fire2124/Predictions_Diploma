{
 "cells": [
  {
   "cell_type": "code",
   "execution_count": 244,
   "metadata": {},
   "outputs": [],
   "source": [
    "import json\n",
    "import seaborn \n",
    "import seaborn as sns\n",
    "import numpy as np\n",
    "import pandas as pd\n",
    "import xgboost as xgb\n",
    "from sklearn import svm\n",
    "from sklearn import metrics\n",
    "from sklearn.svm import SVR\n",
    "from datetime import datetime\n",
    "from matplotlib import pyplot as plt\n",
    "from sklearn.decomposition import PCA\n",
    "from sklearn.tree import DecisionTreeRegressor\n",
    "from sklearn.linear_model import LinearRegression\n",
    "from sklearn.ensemble import RandomForestRegressor\n",
    "from sklearn.preprocessing import LabelEncoder,KBinsDiscretizer\n",
    "from sklearn.model_selection import train_test_split,GridSearchCV, cross_val_score,KFold,cross_val_predict\n",
    "from sklearn.metrics import r2_score,mean_squared_error,roc_curve,confusion_matrix,accuracy_score"
   ]
  },
  {
   "cell_type": "code",
   "execution_count": 418,
   "metadata": {
    "scrolled": true
   },
   "outputs": [
    {
     "data": {
      "text/html": [
       "<div>\n",
       "<style scoped>\n",
       "    .dataframe tbody tr th:only-of-type {\n",
       "        vertical-align: middle;\n",
       "    }\n",
       "\n",
       "    .dataframe tbody tr th {\n",
       "        vertical-align: top;\n",
       "    }\n",
       "\n",
       "    .dataframe thead th {\n",
       "        text-align: right;\n",
       "    }\n",
       "</style>\n",
       "<table border=\"1\" class=\"dataframe\">\n",
       "  <thead>\n",
       "    <tr style=\"text-align: right;\">\n",
       "      <th></th>\n",
       "      <th>lon</th>\n",
       "      <th>lat</th>\n",
       "      <th>ROUTE_NUMBER</th>\n",
       "      <th>DIRECTION</th>\n",
       "      <th>BUS_STOP_ORDER_NUM</th>\n",
       "      <th>BUS_STOP_NUM_1</th>\n",
       "      <th>Current_Stop</th>\n",
       "      <th>BUS_STOP_SUB_NUM_2</th>\n",
       "      <th>BUS_STOP_NUM_2</th>\n",
       "      <th>Next_Stop</th>\n",
       "      <th>PLANNED_ROAD</th>\n",
       "      <th>REAL_ROAD</th>\n",
       "      <th>DELAY</th>\n",
       "      <th>VEHICLE_NUMBER</th>\n",
       "      <th>Current_Time</th>\n",
       "      <th>Current_Day</th>\n",
       "      <th>Current_Hour</th>\n",
       "      <th>Current_Minutes</th>\n",
       "      <th>Current_Seconds</th>\n",
       "    </tr>\n",
       "  </thead>\n",
       "  <tbody>\n",
       "    <tr>\n",
       "      <th>0</th>\n",
       "      <td>21.25036</td>\n",
       "      <td>48.98171</td>\n",
       "      <td>1</td>\n",
       "      <td>P</td>\n",
       "      <td>12</td>\n",
       "      <td>35</td>\n",
       "      <td>Železničná stanica</td>\n",
       "      <td>1</td>\n",
       "      <td>529</td>\n",
       "      <td>Škára</td>\n",
       "      <td>850</td>\n",
       "      <td>139</td>\n",
       "      <td>-37</td>\n",
       "      <td>737</td>\n",
       "      <td>2021-03-10 11:14:22.617</td>\n",
       "      <td>10</td>\n",
       "      <td>12</td>\n",
       "      <td>14</td>\n",
       "      <td>22</td>\n",
       "    </tr>\n",
       "    <tr>\n",
       "      <th>1</th>\n",
       "      <td>21.24403</td>\n",
       "      <td>48.99333</td>\n",
       "      <td>2</td>\n",
       "      <td>T</td>\n",
       "      <td>6</td>\n",
       "      <td>205</td>\n",
       "      <td>Divadlo Jonáša Záborského</td>\n",
       "      <td>0</td>\n",
       "      <td>2</td>\n",
       "      <td>Na Hlavnej</td>\n",
       "      <td>290</td>\n",
       "      <td>17</td>\n",
       "      <td>-50</td>\n",
       "      <td>739</td>\n",
       "      <td>2021-03-10 11:14:22.617</td>\n",
       "      <td>10</td>\n",
       "      <td>12</td>\n",
       "      <td>14</td>\n",
       "      <td>22</td>\n",
       "    </tr>\n",
       "    <tr>\n",
       "      <th>2</th>\n",
       "      <td>21.25522</td>\n",
       "      <td>48.97044</td>\n",
       "      <td>10</td>\n",
       "      <td>P</td>\n",
       "      <td>10</td>\n",
       "      <td>8</td>\n",
       "      <td>Košická</td>\n",
       "      <td>1</td>\n",
       "      <td>63</td>\n",
       "      <td>Chalupkova</td>\n",
       "      <td>280</td>\n",
       "      <td>280</td>\n",
       "      <td>-96</td>\n",
       "      <td>396</td>\n",
       "      <td>2021-03-10 11:15:07.627</td>\n",
       "      <td>10</td>\n",
       "      <td>12</td>\n",
       "      <td>15</td>\n",
       "      <td>7</td>\n",
       "    </tr>\n",
       "    <tr>\n",
       "      <th>3</th>\n",
       "      <td>21.23688</td>\n",
       "      <td>49.01166</td>\n",
       "      <td>45</td>\n",
       "      <td>P</td>\n",
       "      <td>9</td>\n",
       "      <td>128</td>\n",
       "      <td>Pod Skalkou</td>\n",
       "      <td>1</td>\n",
       "      <td>127</td>\n",
       "      <td>Mičurinova</td>\n",
       "      <td>439</td>\n",
       "      <td>377</td>\n",
       "      <td>-61</td>\n",
       "      <td>359</td>\n",
       "      <td>2021-03-10 11:15:07.627</td>\n",
       "      <td>10</td>\n",
       "      <td>12</td>\n",
       "      <td>15</td>\n",
       "      <td>7</td>\n",
       "    </tr>\n",
       "    <tr>\n",
       "      <th>4</th>\n",
       "      <td>21.25696</td>\n",
       "      <td>49.01065</td>\n",
       "      <td>7</td>\n",
       "      <td>P</td>\n",
       "      <td>4</td>\n",
       "      <td>100</td>\n",
       "      <td>Ľubochnianska</td>\n",
       "      <td>1</td>\n",
       "      <td>80</td>\n",
       "      <td>Dopravný podnik</td>\n",
       "      <td>1112</td>\n",
       "      <td>1112</td>\n",
       "      <td>4</td>\n",
       "      <td>735</td>\n",
       "      <td>2021-03-10 11:16:22.643</td>\n",
       "      <td>10</td>\n",
       "      <td>12</td>\n",
       "      <td>16</td>\n",
       "      <td>22</td>\n",
       "    </tr>\n",
       "    <tr>\n",
       "      <th>5</th>\n",
       "      <td>21.19812</td>\n",
       "      <td>48.99274</td>\n",
       "      <td>18</td>\n",
       "      <td>P</td>\n",
       "      <td>4</td>\n",
       "      <td>168</td>\n",
       "      <td>Kvašná voda</td>\n",
       "      <td>1</td>\n",
       "      <td>167</td>\n",
       "      <td>Vydumanec</td>\n",
       "      <td>560</td>\n",
       "      <td>515</td>\n",
       "      <td>-8</td>\n",
       "      <td>3433</td>\n",
       "      <td>2021-03-10 11:16:22.643</td>\n",
       "      <td>10</td>\n",
       "      <td>12</td>\n",
       "      <td>16</td>\n",
       "      <td>22</td>\n",
       "    </tr>\n",
       "    <tr>\n",
       "      <th>6</th>\n",
       "      <td>21.22140</td>\n",
       "      <td>49.00694</td>\n",
       "      <td>4</td>\n",
       "      <td>P</td>\n",
       "      <td>4</td>\n",
       "      <td>190</td>\n",
       "      <td>VUKOV</td>\n",
       "      <td>1</td>\n",
       "      <td>189</td>\n",
       "      <td>Nám.Kráľ.pokoja</td>\n",
       "      <td>585</td>\n",
       "      <td>585</td>\n",
       "      <td>-42</td>\n",
       "      <td>745</td>\n",
       "      <td>2021-03-10 11:17:07.654</td>\n",
       "      <td>10</td>\n",
       "      <td>12</td>\n",
       "      <td>17</td>\n",
       "      <td>7</td>\n",
       "    </tr>\n",
       "    <tr>\n",
       "      <th>7</th>\n",
       "      <td>21.24409</td>\n",
       "      <td>48.99317</td>\n",
       "      <td>5</td>\n",
       "      <td>P</td>\n",
       "      <td>4</td>\n",
       "      <td>2</td>\n",
       "      <td>Na Hlavnej</td>\n",
       "      <td>1</td>\n",
       "      <td>3</td>\n",
       "      <td>Veľká pošta</td>\n",
       "      <td>555</td>\n",
       "      <td>363</td>\n",
       "      <td>-11</td>\n",
       "      <td>736</td>\n",
       "      <td>2021-03-10 11:19:52.694</td>\n",
       "      <td>10</td>\n",
       "      <td>12</td>\n",
       "      <td>19</td>\n",
       "      <td>52</td>\n",
       "    </tr>\n",
       "    <tr>\n",
       "      <th>8</th>\n",
       "      <td>21.23596</td>\n",
       "      <td>49.00090</td>\n",
       "      <td>32</td>\n",
       "      <td>P</td>\n",
       "      <td>2</td>\n",
       "      <td>532</td>\n",
       "      <td>Floriánova</td>\n",
       "      <td>1</td>\n",
       "      <td>156</td>\n",
       "      <td>Poliklinika</td>\n",
       "      <td>600</td>\n",
       "      <td>572</td>\n",
       "      <td>4</td>\n",
       "      <td>354</td>\n",
       "      <td>2021-03-10 11:22:07.731</td>\n",
       "      <td>10</td>\n",
       "      <td>12</td>\n",
       "      <td>22</td>\n",
       "      <td>7</td>\n",
       "    </tr>\n",
       "    <tr>\n",
       "      <th>9</th>\n",
       "      <td>21.22077</td>\n",
       "      <td>49.00360</td>\n",
       "      <td>38</td>\n",
       "      <td>P</td>\n",
       "      <td>5</td>\n",
       "      <td>189</td>\n",
       "      <td>Nám.Kráľ.pokoja</td>\n",
       "      <td>1</td>\n",
       "      <td>188</td>\n",
       "      <td>Volgogradská</td>\n",
       "      <td>387</td>\n",
       "      <td>387</td>\n",
       "      <td>22</td>\n",
       "      <td>744</td>\n",
       "      <td>2021-03-10 11:22:07.731</td>\n",
       "      <td>10</td>\n",
       "      <td>12</td>\n",
       "      <td>22</td>\n",
       "      <td>7</td>\n",
       "    </tr>\n",
       "    <tr>\n",
       "      <th>10</th>\n",
       "      <td>21.24173</td>\n",
       "      <td>48.99600</td>\n",
       "      <td>7</td>\n",
       "      <td>P</td>\n",
       "      <td>8</td>\n",
       "      <td>1</td>\n",
       "      <td>Trojica</td>\n",
       "      <td>1</td>\n",
       "      <td>2</td>\n",
       "      <td>Na Hlavnej</td>\n",
       "      <td>394</td>\n",
       "      <td>394</td>\n",
       "      <td>33</td>\n",
       "      <td>735</td>\n",
       "      <td>2021-03-10 11:22:52.745</td>\n",
       "      <td>10</td>\n",
       "      <td>12</td>\n",
       "      <td>22</td>\n",
       "      <td>52</td>\n",
       "    </tr>\n",
       "    <tr>\n",
       "      <th>11</th>\n",
       "      <td>21.24177</td>\n",
       "      <td>48.99609</td>\n",
       "      <td>41</td>\n",
       "      <td>T</td>\n",
       "      <td>3</td>\n",
       "      <td>2</td>\n",
       "      <td>Na Hlavnej</td>\n",
       "      <td>0</td>\n",
       "      <td>1</td>\n",
       "      <td>Trojica</td>\n",
       "      <td>560</td>\n",
       "      <td>61</td>\n",
       "      <td>-12</td>\n",
       "      <td>387</td>\n",
       "      <td>2021-03-10 11:22:52.745</td>\n",
       "      <td>10</td>\n",
       "      <td>12</td>\n",
       "      <td>22</td>\n",
       "      <td>52</td>\n",
       "    </tr>\n",
       "    <tr>\n",
       "      <th>12</th>\n",
       "      <td>21.23717</td>\n",
       "      <td>49.00618</td>\n",
       "      <td>39</td>\n",
       "      <td>T</td>\n",
       "      <td>10</td>\n",
       "      <td>1</td>\n",
       "      <td>Trojica</td>\n",
       "      <td>0</td>\n",
       "      <td>151</td>\n",
       "      <td>Bjornsonova</td>\n",
       "      <td>760</td>\n",
       "      <td>760</td>\n",
       "      <td>88</td>\n",
       "      <td>370</td>\n",
       "      <td>2021-03-10 11:22:52.745</td>\n",
       "      <td>10</td>\n",
       "      <td>12</td>\n",
       "      <td>22</td>\n",
       "      <td>52</td>\n",
       "    </tr>\n",
       "    <tr>\n",
       "      <th>13</th>\n",
       "      <td>21.23002</td>\n",
       "      <td>48.99423</td>\n",
       "      <td>5</td>\n",
       "      <td>T</td>\n",
       "      <td>1</td>\n",
       "      <td>195</td>\n",
       "      <td>Obrancov mieru</td>\n",
       "      <td>1</td>\n",
       "      <td>198</td>\n",
       "      <td>Duchnovičovo nám.</td>\n",
       "      <td>617</td>\n",
       "      <td>319</td>\n",
       "      <td>-35</td>\n",
       "      <td>739</td>\n",
       "      <td>2021-03-10 11:22:52.745</td>\n",
       "      <td>10</td>\n",
       "      <td>12</td>\n",
       "      <td>22</td>\n",
       "      <td>52</td>\n",
       "    </tr>\n",
       "    <tr>\n",
       "      <th>14</th>\n",
       "      <td>21.24403</td>\n",
       "      <td>48.99333</td>\n",
       "      <td>27</td>\n",
       "      <td>T</td>\n",
       "      <td>8</td>\n",
       "      <td>4</td>\n",
       "      <td>Čierny most</td>\n",
       "      <td>0</td>\n",
       "      <td>205</td>\n",
       "      <td>Divadlo Jonáša Záborského</td>\n",
       "      <td>461</td>\n",
       "      <td>461</td>\n",
       "      <td>9</td>\n",
       "      <td>390</td>\n",
       "      <td>2021-03-10 11:23:22.750</td>\n",
       "      <td>10</td>\n",
       "      <td>12</td>\n",
       "      <td>23</td>\n",
       "      <td>22</td>\n",
       "    </tr>\n",
       "    <tr>\n",
       "      <th>15</th>\n",
       "      <td>21.22394</td>\n",
       "      <td>49.00167</td>\n",
       "      <td>38</td>\n",
       "      <td>P</td>\n",
       "      <td>6</td>\n",
       "      <td>188</td>\n",
       "      <td>Volgogradská</td>\n",
       "      <td>1</td>\n",
       "      <td>187</td>\n",
       "      <td>Clementisova</td>\n",
       "      <td>350</td>\n",
       "      <td>350</td>\n",
       "      <td>4</td>\n",
       "      <td>744</td>\n",
       "      <td>2021-03-10 11:23:22.750</td>\n",
       "      <td>10</td>\n",
       "      <td>12</td>\n",
       "      <td>23</td>\n",
       "      <td>22</td>\n",
       "    </tr>\n",
       "    <tr>\n",
       "      <th>16</th>\n",
       "      <td>21.24269</td>\n",
       "      <td>48.98667</td>\n",
       "      <td>5</td>\n",
       "      <td>P</td>\n",
       "      <td>6</td>\n",
       "      <td>4</td>\n",
       "      <td>Čierny most</td>\n",
       "      <td>1</td>\n",
       "      <td>24</td>\n",
       "      <td>Štúrova</td>\n",
       "      <td>720</td>\n",
       "      <td>562</td>\n",
       "      <td>-41</td>\n",
       "      <td>736</td>\n",
       "      <td>2021-03-10 11:23:37.742</td>\n",
       "      <td>10</td>\n",
       "      <td>12</td>\n",
       "      <td>23</td>\n",
       "      <td>37</td>\n",
       "    </tr>\n",
       "    <tr>\n",
       "      <th>17</th>\n",
       "      <td>21.24431</td>\n",
       "      <td>48.99284</td>\n",
       "      <td>7</td>\n",
       "      <td>P</td>\n",
       "      <td>9</td>\n",
       "      <td>2</td>\n",
       "      <td>Na Hlavnej</td>\n",
       "      <td>1</td>\n",
       "      <td>3</td>\n",
       "      <td>Veľká pošta</td>\n",
       "      <td>555</td>\n",
       "      <td>398</td>\n",
       "      <td>56</td>\n",
       "      <td>735</td>\n",
       "      <td>2021-03-10 11:23:52.745</td>\n",
       "      <td>10</td>\n",
       "      <td>12</td>\n",
       "      <td>23</td>\n",
       "      <td>52</td>\n",
       "    </tr>\n",
       "    <tr>\n",
       "      <th>18</th>\n",
       "      <td>21.22224</td>\n",
       "      <td>49.01060</td>\n",
       "      <td>8</td>\n",
       "      <td>T</td>\n",
       "      <td>16</td>\n",
       "      <td>189</td>\n",
       "      <td>Nám.Kráľ.pokoja</td>\n",
       "      <td>0</td>\n",
       "      <td>190</td>\n",
       "      <td>VUKOV</td>\n",
       "      <td>438</td>\n",
       "      <td>438</td>\n",
       "      <td>-91</td>\n",
       "      <td>743</td>\n",
       "      <td>2021-03-10 11:24:07.747</td>\n",
       "      <td>10</td>\n",
       "      <td>12</td>\n",
       "      <td>24</td>\n",
       "      <td>7</td>\n",
       "    </tr>\n",
       "    <tr>\n",
       "      <th>19</th>\n",
       "      <td>21.26745</td>\n",
       "      <td>48.98959</td>\n",
       "      <td>4</td>\n",
       "      <td>P</td>\n",
       "      <td>17</td>\n",
       "      <td>39</td>\n",
       "      <td>Martina Benku</td>\n",
       "      <td>1</td>\n",
       "      <td>44</td>\n",
       "      <td>L.Novomeského</td>\n",
       "      <td>517</td>\n",
       "      <td>517</td>\n",
       "      <td>-336</td>\n",
       "      <td>742</td>\n",
       "      <td>2021-03-10 11:24:07.747</td>\n",
       "      <td>10</td>\n",
       "      <td>12</td>\n",
       "      <td>24</td>\n",
       "      <td>7</td>\n",
       "    </tr>\n",
       "    <tr>\n",
       "      <th>20</th>\n",
       "      <td>21.26405</td>\n",
       "      <td>48.97934</td>\n",
       "      <td>38</td>\n",
       "      <td>P</td>\n",
       "      <td>13</td>\n",
       "      <td>529</td>\n",
       "      <td>Škára</td>\n",
       "      <td>1</td>\n",
       "      <td>37</td>\n",
       "      <td>Lesnícka</td>\n",
       "      <td>840</td>\n",
       "      <td>840</td>\n",
       "      <td>-418</td>\n",
       "      <td>729</td>\n",
       "      <td>2021-03-10 11:24:22.745</td>\n",
       "      <td>10</td>\n",
       "      <td>12</td>\n",
       "      <td>24</td>\n",
       "      <td>22</td>\n",
       "    </tr>\n",
       "    <tr>\n",
       "      <th>21</th>\n",
       "      <td>21.26830</td>\n",
       "      <td>48.99441</td>\n",
       "      <td>10</td>\n",
       "      <td>P</td>\n",
       "      <td>17</td>\n",
       "      <td>40</td>\n",
       "      <td>Jurkovičova</td>\n",
       "      <td>1</td>\n",
       "      <td>41</td>\n",
       "      <td>Karpatská</td>\n",
       "      <td>353</td>\n",
       "      <td>21</td>\n",
       "      <td>-196</td>\n",
       "      <td>396</td>\n",
       "      <td>2021-03-10 11:24:52.744</td>\n",
       "      <td>10</td>\n",
       "      <td>12</td>\n",
       "      <td>24</td>\n",
       "      <td>52</td>\n",
       "    </tr>\n",
       "    <tr>\n",
       "      <th>22</th>\n",
       "      <td>21.27950</td>\n",
       "      <td>49.02634</td>\n",
       "      <td>21</td>\n",
       "      <td>T</td>\n",
       "      <td>11</td>\n",
       "      <td>84</td>\n",
       "      <td>Nová</td>\n",
       "      <td>1</td>\n",
       "      <td>82</td>\n",
       "      <td>Vranovská</td>\n",
       "      <td>700</td>\n",
       "      <td>25</td>\n",
       "      <td>-198</td>\n",
       "      <td>397</td>\n",
       "      <td>2021-03-10 11:24:52.744</td>\n",
       "      <td>10</td>\n",
       "      <td>12</td>\n",
       "      <td>24</td>\n",
       "      <td>52</td>\n",
       "    </tr>\n",
       "    <tr>\n",
       "      <th>23</th>\n",
       "      <td>21.23312</td>\n",
       "      <td>49.00080</td>\n",
       "      <td>23</td>\n",
       "      <td>P</td>\n",
       "      <td>5</td>\n",
       "      <td>156</td>\n",
       "      <td>Poliklinika</td>\n",
       "      <td>0</td>\n",
       "      <td>157</td>\n",
       "      <td>Levočská</td>\n",
       "      <td>789</td>\n",
       "      <td>21</td>\n",
       "      <td>-8</td>\n",
       "      <td>400</td>\n",
       "      <td>2021-03-10 11:25:37.746</td>\n",
       "      <td>10</td>\n",
       "      <td>12</td>\n",
       "      <td>25</td>\n",
       "      <td>37</td>\n",
       "    </tr>\n",
       "    <tr>\n",
       "      <th>24</th>\n",
       "      <td>21.23977</td>\n",
       "      <td>48.99915</td>\n",
       "      <td>4</td>\n",
       "      <td>P</td>\n",
       "      <td>8</td>\n",
       "      <td>156</td>\n",
       "      <td>Poliklinika</td>\n",
       "      <td>1</td>\n",
       "      <td>1</td>\n",
       "      <td>Trojica</td>\n",
       "      <td>530</td>\n",
       "      <td>530</td>\n",
       "      <td>-136</td>\n",
       "      <td>745</td>\n",
       "      <td>2021-03-10 11:25:52.745</td>\n",
       "      <td>10</td>\n",
       "      <td>12</td>\n",
       "      <td>25</td>\n",
       "      <td>52</td>\n",
       "    </tr>\n",
       "    <tr>\n",
       "      <th>25</th>\n",
       "      <td>21.23673</td>\n",
       "      <td>49.01115</td>\n",
       "      <td>2</td>\n",
       "      <td>P</td>\n",
       "      <td>3</td>\n",
       "      <td>128</td>\n",
       "      <td>Pod Skalkou</td>\n",
       "      <td>1</td>\n",
       "      <td>127</td>\n",
       "      <td>Mičurinova</td>\n",
       "      <td>439</td>\n",
       "      <td>439</td>\n",
       "      <td>-37</td>\n",
       "      <td>733</td>\n",
       "      <td>2021-03-10 11:25:52.745</td>\n",
       "      <td>10</td>\n",
       "      <td>12</td>\n",
       "      <td>25</td>\n",
       "      <td>52</td>\n",
       "    </tr>\n",
       "    <tr>\n",
       "      <th>26</th>\n",
       "      <td>21.22139</td>\n",
       "      <td>49.00679</td>\n",
       "      <td>8</td>\n",
       "      <td>P</td>\n",
       "      <td>5</td>\n",
       "      <td>189</td>\n",
       "      <td>Nám.Kráľ.pokoja</td>\n",
       "      <td>1</td>\n",
       "      <td>188</td>\n",
       "      <td>Volgogradská</td>\n",
       "      <td>387</td>\n",
       "      <td>23</td>\n",
       "      <td>29</td>\n",
       "      <td>724</td>\n",
       "      <td>2021-03-10 11:26:07.748</td>\n",
       "      <td>10</td>\n",
       "      <td>12</td>\n",
       "      <td>26</td>\n",
       "      <td>7</td>\n",
       "    </tr>\n",
       "    <tr>\n",
       "      <th>27</th>\n",
       "      <td>21.24351</td>\n",
       "      <td>49.00330</td>\n",
       "      <td>41</td>\n",
       "      <td>T</td>\n",
       "      <td>4</td>\n",
       "      <td>1</td>\n",
       "      <td>Trojica</td>\n",
       "      <td>0</td>\n",
       "      <td>78</td>\n",
       "      <td>Duklianska</td>\n",
       "      <td>540</td>\n",
       "      <td>540</td>\n",
       "      <td>-7</td>\n",
       "      <td>387</td>\n",
       "      <td>2021-03-10 11:26:37.746</td>\n",
       "      <td>10</td>\n",
       "      <td>12</td>\n",
       "      <td>26</td>\n",
       "      <td>37</td>\n",
       "    </tr>\n",
       "    <tr>\n",
       "      <th>28</th>\n",
       "      <td>21.22396</td>\n",
       "      <td>49.00172</td>\n",
       "      <td>8</td>\n",
       "      <td>P</td>\n",
       "      <td>6</td>\n",
       "      <td>188</td>\n",
       "      <td>Volgogradská</td>\n",
       "      <td>1</td>\n",
       "      <td>187</td>\n",
       "      <td>Clementisova</td>\n",
       "      <td>350</td>\n",
       "      <td>350</td>\n",
       "      <td>49</td>\n",
       "      <td>724</td>\n",
       "      <td>2021-03-10 11:27:37.748</td>\n",
       "      <td>10</td>\n",
       "      <td>12</td>\n",
       "      <td>27</td>\n",
       "      <td>37</td>\n",
       "    </tr>\n",
       "    <tr>\n",
       "      <th>29</th>\n",
       "      <td>21.24768</td>\n",
       "      <td>48.98856</td>\n",
       "      <td>5</td>\n",
       "      <td>T</td>\n",
       "      <td>4</td>\n",
       "      <td>25</td>\n",
       "      <td>Škultétyho</td>\n",
       "      <td>0</td>\n",
       "      <td>4</td>\n",
       "      <td>Čierny most</td>\n",
       "      <td>635</td>\n",
       "      <td>473</td>\n",
       "      <td>-46</td>\n",
       "      <td>739</td>\n",
       "      <td>2021-03-10 11:28:37.751</td>\n",
       "      <td>10</td>\n",
       "      <td>12</td>\n",
       "      <td>28</td>\n",
       "      <td>37</td>\n",
       "    </tr>\n",
       "    <tr>\n",
       "      <th>30</th>\n",
       "      <td>21.21361</td>\n",
       "      <td>49.00240</td>\n",
       "      <td>23</td>\n",
       "      <td>P</td>\n",
       "      <td>6</td>\n",
       "      <td>157</td>\n",
       "      <td>Levočská</td>\n",
       "      <td>0</td>\n",
       "      <td>158</td>\n",
       "      <td>Mýto</td>\n",
       "      <td>805</td>\n",
       "      <td>805</td>\n",
       "      <td>9</td>\n",
       "      <td>400</td>\n",
       "      <td>2021-03-10 11:29:07.746</td>\n",
       "      <td>10</td>\n",
       "      <td>12</td>\n",
       "      <td>29</td>\n",
       "      <td>7</td>\n",
       "    </tr>\n",
       "    <tr>\n",
       "      <th>31</th>\n",
       "      <td>21.24743</td>\n",
       "      <td>49.01074</td>\n",
       "      <td>41</td>\n",
       "      <td>T</td>\n",
       "      <td>6</td>\n",
       "      <td>104</td>\n",
       "      <td>K Surdoku</td>\n",
       "      <td>0</td>\n",
       "      <td>105</td>\n",
       "      <td>Pod Šibeňou</td>\n",
       "      <td>232</td>\n",
       "      <td>232</td>\n",
       "      <td>61</td>\n",
       "      <td>387</td>\n",
       "      <td>2021-03-10 11:29:22.751</td>\n",
       "      <td>10</td>\n",
       "      <td>12</td>\n",
       "      <td>29</td>\n",
       "      <td>22</td>\n",
       "    </tr>\n",
       "    <tr>\n",
       "      <th>32</th>\n",
       "      <td>21.22441</td>\n",
       "      <td>49.00167</td>\n",
       "      <td>4</td>\n",
       "      <td>T</td>\n",
       "      <td>13</td>\n",
       "      <td>156</td>\n",
       "      <td>Poliklinika</td>\n",
       "      <td>0</td>\n",
       "      <td>187</td>\n",
       "      <td>Clementisova</td>\n",
       "      <td>760</td>\n",
       "      <td>760</td>\n",
       "      <td>-4</td>\n",
       "      <td>722</td>\n",
       "      <td>2021-03-10 11:29:22.751</td>\n",
       "      <td>10</td>\n",
       "      <td>12</td>\n",
       "      <td>29</td>\n",
       "      <td>22</td>\n",
       "    </tr>\n",
       "    <tr>\n",
       "      <th>33</th>\n",
       "      <td>21.24400</td>\n",
       "      <td>48.99320</td>\n",
       "      <td>22</td>\n",
       "      <td>P</td>\n",
       "      <td>3</td>\n",
       "      <td>2</td>\n",
       "      <td>Na Hlavnej</td>\n",
       "      <td>1</td>\n",
       "      <td>3</td>\n",
       "      <td>Veľká pošta</td>\n",
       "      <td>555</td>\n",
       "      <td>348</td>\n",
       "      <td>72</td>\n",
       "      <td>3433</td>\n",
       "      <td>2021-03-10 11:29:22.751</td>\n",
       "      <td>10</td>\n",
       "      <td>12</td>\n",
       "      <td>29</td>\n",
       "      <td>22</td>\n",
       "    </tr>\n",
       "    <tr>\n",
       "      <th>34</th>\n",
       "      <td>21.23588</td>\n",
       "      <td>49.02062</td>\n",
       "      <td>14</td>\n",
       "      <td>T</td>\n",
       "      <td>6</td>\n",
       "      <td>128</td>\n",
       "      <td>Pod Skalkou</td>\n",
       "      <td>0</td>\n",
       "      <td>129</td>\n",
       "      <td>Rázc.Šidlovec</td>\n",
       "      <td>600</td>\n",
       "      <td>600</td>\n",
       "      <td>-2</td>\n",
       "      <td>386</td>\n",
       "      <td>2021-03-10 11:15:22.658</td>\n",
       "      <td>10</td>\n",
       "      <td>12</td>\n",
       "      <td>15</td>\n",
       "      <td>22</td>\n",
       "    </tr>\n",
       "    <tr>\n",
       "      <th>35</th>\n",
       "      <td>21.24213</td>\n",
       "      <td>48.99564</td>\n",
       "      <td>22</td>\n",
       "      <td>T</td>\n",
       "      <td>12</td>\n",
       "      <td>205</td>\n",
       "      <td>Divadlo Jonáša Záborského</td>\n",
       "      <td>0</td>\n",
       "      <td>2</td>\n",
       "      <td>Na Hlavnej</td>\n",
       "      <td>290</td>\n",
       "      <td>290</td>\n",
       "      <td>77</td>\n",
       "      <td>399</td>\n",
       "      <td>2021-03-10 11:16:07.648</td>\n",
       "      <td>10</td>\n",
       "      <td>12</td>\n",
       "      <td>16</td>\n",
       "      <td>7</td>\n",
       "    </tr>\n",
       "    <tr>\n",
       "      <th>36</th>\n",
       "      <td>21.23981</td>\n",
       "      <td>48.99927</td>\n",
       "      <td>2</td>\n",
       "      <td>T</td>\n",
       "      <td>7</td>\n",
       "      <td>2</td>\n",
       "      <td>Na Hlavnej</td>\n",
       "      <td>0</td>\n",
       "      <td>1</td>\n",
       "      <td>Trojica</td>\n",
       "      <td>560</td>\n",
       "      <td>427</td>\n",
       "      <td>-22</td>\n",
       "      <td>739</td>\n",
       "      <td>2021-03-10 11:16:07.648</td>\n",
       "      <td>10</td>\n",
       "      <td>12</td>\n",
       "      <td>16</td>\n",
       "      <td>7</td>\n",
       "    </tr>\n",
       "    <tr>\n",
       "      <th>37</th>\n",
       "      <td>21.23930</td>\n",
       "      <td>49.00007</td>\n",
       "      <td>23</td>\n",
       "      <td>T</td>\n",
       "      <td>10</td>\n",
       "      <td>156</td>\n",
       "      <td>Poliklinika</td>\n",
       "      <td>3</td>\n",
       "      <td>1</td>\n",
       "      <td>Trojica</td>\n",
       "      <td>530</td>\n",
       "      <td>428</td>\n",
       "      <td>-140</td>\n",
       "      <td>400</td>\n",
       "      <td>2021-03-10 11:18:07.674</td>\n",
       "      <td>10</td>\n",
       "      <td>12</td>\n",
       "      <td>18</td>\n",
       "      <td>7</td>\n",
       "    </tr>\n",
       "    <tr>\n",
       "      <th>38</th>\n",
       "      <td>21.26408</td>\n",
       "      <td>48.97935</td>\n",
       "      <td>4</td>\n",
       "      <td>P</td>\n",
       "      <td>14</td>\n",
       "      <td>529</td>\n",
       "      <td>Škára</td>\n",
       "      <td>1</td>\n",
       "      <td>37</td>\n",
       "      <td>Lesnícka</td>\n",
       "      <td>840</td>\n",
       "      <td>840</td>\n",
       "      <td>-342</td>\n",
       "      <td>742</td>\n",
       "      <td>2021-03-10 11:20:07.703</td>\n",
       "      <td>10</td>\n",
       "      <td>12</td>\n",
       "      <td>20</td>\n",
       "      <td>7</td>\n",
       "    </tr>\n",
       "    <tr>\n",
       "      <th>39</th>\n",
       "      <td>21.26383</td>\n",
       "      <td>48.98386</td>\n",
       "      <td>10</td>\n",
       "      <td>P</td>\n",
       "      <td>14</td>\n",
       "      <td>37</td>\n",
       "      <td>Lesnícka</td>\n",
       "      <td>1</td>\n",
       "      <td>38</td>\n",
       "      <td>Pavla Horova</td>\n",
       "      <td>510</td>\n",
       "      <td>510</td>\n",
       "      <td>-142</td>\n",
       "      <td>396</td>\n",
       "      <td>2021-03-10 11:20:52.706</td>\n",
       "      <td>10</td>\n",
       "      <td>12</td>\n",
       "      <td>20</td>\n",
       "      <td>52</td>\n",
       "    </tr>\n",
       "    <tr>\n",
       "      <th>40</th>\n",
       "      <td>21.26683</td>\n",
       "      <td>48.99302</td>\n",
       "      <td>8</td>\n",
       "      <td>T</td>\n",
       "      <td>3</td>\n",
       "      <td>40</td>\n",
       "      <td>Jurkovičova</td>\n",
       "      <td>0</td>\n",
       "      <td>39</td>\n",
       "      <td>Martina Benku</td>\n",
       "      <td>803</td>\n",
       "      <td>131</td>\n",
       "      <td>-110</td>\n",
       "      <td>728</td>\n",
       "      <td>2021-03-10 11:21:37.716</td>\n",
       "      <td>10</td>\n",
       "      <td>12</td>\n",
       "      <td>21</td>\n",
       "      <td>37</td>\n",
       "    </tr>\n",
       "    <tr>\n",
       "      <th>41</th>\n",
       "      <td>21.24004</td>\n",
       "      <td>48.99348</td>\n",
       "      <td>23</td>\n",
       "      <td>P</td>\n",
       "      <td>2</td>\n",
       "      <td>2</td>\n",
       "      <td>Na Hlavnej</td>\n",
       "      <td>1</td>\n",
       "      <td>531</td>\n",
       "      <td>Okružná</td>\n",
       "      <td>800</td>\n",
       "      <td>800</td>\n",
       "      <td>-57</td>\n",
       "      <td>400</td>\n",
       "      <td>2021-03-10 11:22:22.742</td>\n",
       "      <td>10</td>\n",
       "      <td>12</td>\n",
       "      <td>22</td>\n",
       "      <td>22</td>\n",
       "    </tr>\n",
       "    <tr>\n",
       "      <th>42</th>\n",
       "      <td>21.25703</td>\n",
       "      <td>49.01065</td>\n",
       "      <td>1</td>\n",
       "      <td>P</td>\n",
       "      <td>4</td>\n",
       "      <td>81</td>\n",
       "      <td>Šarišské Lúky</td>\n",
       "      <td>1</td>\n",
       "      <td>80</td>\n",
       "      <td>Dopravný podnik</td>\n",
       "      <td>1377</td>\n",
       "      <td>1377</td>\n",
       "      <td>-56</td>\n",
       "      <td>732</td>\n",
       "      <td>2021-03-10 11:22:22.742</td>\n",
       "      <td>10</td>\n",
       "      <td>12</td>\n",
       "      <td>22</td>\n",
       "      <td>22</td>\n",
       "    </tr>\n",
       "    <tr>\n",
       "      <th>43</th>\n",
       "      <td>21.24406</td>\n",
       "      <td>48.99330</td>\n",
       "      <td>4</td>\n",
       "      <td>T</td>\n",
       "      <td>10</td>\n",
       "      <td>205</td>\n",
       "      <td>Divadlo Jonáša Záborského</td>\n",
       "      <td>0</td>\n",
       "      <td>2</td>\n",
       "      <td>Na Hlavnej</td>\n",
       "      <td>290</td>\n",
       "      <td>23</td>\n",
       "      <td>-67</td>\n",
       "      <td>722</td>\n",
       "      <td>2021-03-10 11:22:37.735</td>\n",
       "      <td>10</td>\n",
       "      <td>12</td>\n",
       "      <td>22</td>\n",
       "      <td>37</td>\n",
       "    </tr>\n",
       "    <tr>\n",
       "      <th>44</th>\n",
       "      <td>21.24213</td>\n",
       "      <td>48.99565</td>\n",
       "      <td>11</td>\n",
       "      <td>T</td>\n",
       "      <td>1</td>\n",
       "      <td>205</td>\n",
       "      <td>Divadlo Jonáša Záborského</td>\n",
       "      <td>0</td>\n",
       "      <td>2</td>\n",
       "      <td>Na Hlavnej</td>\n",
       "      <td>290</td>\n",
       "      <td>290</td>\n",
       "      <td>12</td>\n",
       "      <td>380</td>\n",
       "      <td>2021-03-10 11:23:07.741</td>\n",
       "      <td>10</td>\n",
       "      <td>12</td>\n",
       "      <td>23</td>\n",
       "      <td>7</td>\n",
       "    </tr>\n",
       "    <tr>\n",
       "      <th>45</th>\n",
       "      <td>21.23314</td>\n",
       "      <td>49.00078</td>\n",
       "      <td>15</td>\n",
       "      <td>T</td>\n",
       "      <td>8</td>\n",
       "      <td>156</td>\n",
       "      <td>Poliklinika</td>\n",
       "      <td>0</td>\n",
       "      <td>195</td>\n",
       "      <td>Obrancov mieru</td>\n",
       "      <td>775</td>\n",
       "      <td>22</td>\n",
       "      <td>-53</td>\n",
       "      <td>385</td>\n",
       "      <td>2021-03-10 11:23:22.750</td>\n",
       "      <td>10</td>\n",
       "      <td>12</td>\n",
       "      <td>23</td>\n",
       "      <td>22</td>\n",
       "    </tr>\n",
       "    <tr>\n",
       "      <th>46</th>\n",
       "      <td>21.23658</td>\n",
       "      <td>49.01553</td>\n",
       "      <td>22</td>\n",
       "      <td>T</td>\n",
       "      <td>16</td>\n",
       "      <td>127</td>\n",
       "      <td>Mičurinova</td>\n",
       "      <td>0</td>\n",
       "      <td>128</td>\n",
       "      <td>Pod Skalkou</td>\n",
       "      <td>435</td>\n",
       "      <td>435</td>\n",
       "      <td>43</td>\n",
       "      <td>399</td>\n",
       "      <td>2021-03-10 11:23:37.742</td>\n",
       "      <td>10</td>\n",
       "      <td>12</td>\n",
       "      <td>23</td>\n",
       "      <td>37</td>\n",
       "    </tr>\n",
       "    <tr>\n",
       "      <th>47</th>\n",
       "      <td>21.27948</td>\n",
       "      <td>49.01205</td>\n",
       "      <td>28</td>\n",
       "      <td>P</td>\n",
       "      <td>1</td>\n",
       "      <td>99</td>\n",
       "      <td>Ľubotice</td>\n",
       "      <td>1</td>\n",
       "      <td>98</td>\n",
       "      <td>Šalgovická</td>\n",
       "      <td>430</td>\n",
       "      <td>430</td>\n",
       "      <td>-132</td>\n",
       "      <td>398</td>\n",
       "      <td>2021-03-10 11:23:37.742</td>\n",
       "      <td>10</td>\n",
       "      <td>12</td>\n",
       "      <td>23</td>\n",
       "      <td>37</td>\n",
       "    </tr>\n",
       "    <tr>\n",
       "      <th>48</th>\n",
       "      <td>21.26827</td>\n",
       "      <td>48.99438</td>\n",
       "      <td>10</td>\n",
       "      <td>P</td>\n",
       "      <td>16</td>\n",
       "      <td>39</td>\n",
       "      <td>Martina Benku</td>\n",
       "      <td>1</td>\n",
       "      <td>40</td>\n",
       "      <td>Jurkovičova</td>\n",
       "      <td>846</td>\n",
       "      <td>846</td>\n",
       "      <td>-178</td>\n",
       "      <td>396</td>\n",
       "      <td>2021-03-10 11:24:22.745</td>\n",
       "      <td>10</td>\n",
       "      <td>12</td>\n",
       "      <td>24</td>\n",
       "      <td>22</td>\n",
       "    </tr>\n",
       "    <tr>\n",
       "      <th>49</th>\n",
       "      <td>21.24216</td>\n",
       "      <td>48.99564</td>\n",
       "      <td>27</td>\n",
       "      <td>T</td>\n",
       "      <td>9</td>\n",
       "      <td>205</td>\n",
       "      <td>Divadlo Jonáša Záborského</td>\n",
       "      <td>0</td>\n",
       "      <td>2</td>\n",
       "      <td>Na Hlavnej</td>\n",
       "      <td>290</td>\n",
       "      <td>290</td>\n",
       "      <td>2</td>\n",
       "      <td>390</td>\n",
       "      <td>2021-03-10 11:24:22.745</td>\n",
       "      <td>10</td>\n",
       "      <td>12</td>\n",
       "      <td>24</td>\n",
       "      <td>22</td>\n",
       "    </tr>\n",
       "  </tbody>\n",
       "</table>\n",
       "</div>"
      ],
      "text/plain": [
       "         lon       lat ROUTE_NUMBER DIRECTION  BUS_STOP_ORDER_NUM  \\\n",
       "0   21.25036  48.98171            1         P                  12   \n",
       "1   21.24403  48.99333            2         T                   6   \n",
       "2   21.25522  48.97044           10         P                  10   \n",
       "3   21.23688  49.01166           45         P                   9   \n",
       "4   21.25696  49.01065            7         P                   4   \n",
       "5   21.19812  48.99274           18         P                   4   \n",
       "6   21.22140  49.00694            4         P                   4   \n",
       "7   21.24409  48.99317            5         P                   4   \n",
       "8   21.23596  49.00090           32         P                   2   \n",
       "9   21.22077  49.00360           38         P                   5   \n",
       "10  21.24173  48.99600            7         P                   8   \n",
       "11  21.24177  48.99609           41         T                   3   \n",
       "12  21.23717  49.00618           39         T                  10   \n",
       "13  21.23002  48.99423            5         T                   1   \n",
       "14  21.24403  48.99333           27         T                   8   \n",
       "15  21.22394  49.00167           38         P                   6   \n",
       "16  21.24269  48.98667            5         P                   6   \n",
       "17  21.24431  48.99284            7         P                   9   \n",
       "18  21.22224  49.01060            8         T                  16   \n",
       "19  21.26745  48.98959            4         P                  17   \n",
       "20  21.26405  48.97934           38         P                  13   \n",
       "21  21.26830  48.99441           10         P                  17   \n",
       "22  21.27950  49.02634           21         T                  11   \n",
       "23  21.23312  49.00080           23         P                   5   \n",
       "24  21.23977  48.99915            4         P                   8   \n",
       "25  21.23673  49.01115            2         P                   3   \n",
       "26  21.22139  49.00679            8         P                   5   \n",
       "27  21.24351  49.00330           41         T                   4   \n",
       "28  21.22396  49.00172            8         P                   6   \n",
       "29  21.24768  48.98856            5         T                   4   \n",
       "30  21.21361  49.00240           23         P                   6   \n",
       "31  21.24743  49.01074           41         T                   6   \n",
       "32  21.22441  49.00167            4         T                  13   \n",
       "33  21.24400  48.99320           22         P                   3   \n",
       "34  21.23588  49.02062           14         T                   6   \n",
       "35  21.24213  48.99564           22         T                  12   \n",
       "36  21.23981  48.99927            2         T                   7   \n",
       "37  21.23930  49.00007           23         T                  10   \n",
       "38  21.26408  48.97935            4         P                  14   \n",
       "39  21.26383  48.98386           10         P                  14   \n",
       "40  21.26683  48.99302            8         T                   3   \n",
       "41  21.24004  48.99348           23         P                   2   \n",
       "42  21.25703  49.01065            1         P                   4   \n",
       "43  21.24406  48.99330            4         T                  10   \n",
       "44  21.24213  48.99565           11         T                   1   \n",
       "45  21.23314  49.00078           15         T                   8   \n",
       "46  21.23658  49.01553           22         T                  16   \n",
       "47  21.27948  49.01205           28         P                   1   \n",
       "48  21.26827  48.99438           10         P                  16   \n",
       "49  21.24216  48.99564           27         T                   9   \n",
       "\n",
       "    BUS_STOP_NUM_1               Current_Stop  BUS_STOP_SUB_NUM_2  \\\n",
       "0               35         Železničná stanica                   1   \n",
       "1              205  Divadlo Jonáša Záborského                   0   \n",
       "2                8                    Košická                   1   \n",
       "3              128                Pod Skalkou                   1   \n",
       "4              100              Ľubochnianska                   1   \n",
       "5              168                Kvašná voda                   1   \n",
       "6              190                      VUKOV                   1   \n",
       "7                2                 Na Hlavnej                   1   \n",
       "8              532                 Floriánova                   1   \n",
       "9              189            Nám.Kráľ.pokoja                   1   \n",
       "10               1                    Trojica                   1   \n",
       "11               2                 Na Hlavnej                   0   \n",
       "12               1                    Trojica                   0   \n",
       "13             195             Obrancov mieru                   1   \n",
       "14               4                Čierny most                   0   \n",
       "15             188               Volgogradská                   1   \n",
       "16               4                Čierny most                   1   \n",
       "17               2                 Na Hlavnej                   1   \n",
       "18             189            Nám.Kráľ.pokoja                   0   \n",
       "19              39              Martina Benku                   1   \n",
       "20             529                      Škára                   1   \n",
       "21              40                Jurkovičova                   1   \n",
       "22              84                       Nová                   1   \n",
       "23             156                Poliklinika                   0   \n",
       "24             156                Poliklinika                   1   \n",
       "25             128                Pod Skalkou                   1   \n",
       "26             189            Nám.Kráľ.pokoja                   1   \n",
       "27               1                    Trojica                   0   \n",
       "28             188               Volgogradská                   1   \n",
       "29              25                 Škultétyho                   0   \n",
       "30             157                   Levočská                   0   \n",
       "31             104                  K Surdoku                   0   \n",
       "32             156                Poliklinika                   0   \n",
       "33               2                 Na Hlavnej                   1   \n",
       "34             128                Pod Skalkou                   0   \n",
       "35             205  Divadlo Jonáša Záborského                   0   \n",
       "36               2                 Na Hlavnej                   0   \n",
       "37             156                Poliklinika                   3   \n",
       "38             529                      Škára                   1   \n",
       "39              37                   Lesnícka                   1   \n",
       "40              40                Jurkovičova                   0   \n",
       "41               2                 Na Hlavnej                   1   \n",
       "42              81              Šarišské Lúky                   1   \n",
       "43             205  Divadlo Jonáša Záborského                   0   \n",
       "44             205  Divadlo Jonáša Záborského                   0   \n",
       "45             156                Poliklinika                   0   \n",
       "46             127                 Mičurinova                   0   \n",
       "47              99                   Ľubotice                   1   \n",
       "48              39              Martina Benku                   1   \n",
       "49             205  Divadlo Jonáša Záborského                   0   \n",
       "\n",
       "    BUS_STOP_NUM_2                  Next_Stop  PLANNED_ROAD  REAL_ROAD  DELAY  \\\n",
       "0              529                      Škára           850        139    -37   \n",
       "1                2                 Na Hlavnej           290         17    -50   \n",
       "2               63                 Chalupkova           280        280    -96   \n",
       "3              127                 Mičurinova           439        377    -61   \n",
       "4               80            Dopravný podnik          1112       1112      4   \n",
       "5              167                  Vydumanec           560        515     -8   \n",
       "6              189            Nám.Kráľ.pokoja           585        585    -42   \n",
       "7                3                Veľká pošta           555        363    -11   \n",
       "8              156                Poliklinika           600        572      4   \n",
       "9              188               Volgogradská           387        387     22   \n",
       "10               2                 Na Hlavnej           394        394     33   \n",
       "11               1                    Trojica           560         61    -12   \n",
       "12             151                Bjornsonova           760        760     88   \n",
       "13             198          Duchnovičovo nám.           617        319    -35   \n",
       "14             205  Divadlo Jonáša Záborského           461        461      9   \n",
       "15             187               Clementisova           350        350      4   \n",
       "16              24                    Štúrova           720        562    -41   \n",
       "17               3                Veľká pošta           555        398     56   \n",
       "18             190                      VUKOV           438        438    -91   \n",
       "19              44              L.Novomeského           517        517   -336   \n",
       "20              37                   Lesnícka           840        840   -418   \n",
       "21              41                  Karpatská           353         21   -196   \n",
       "22              82                  Vranovská           700         25   -198   \n",
       "23             157                   Levočská           789         21     -8   \n",
       "24               1                    Trojica           530        530   -136   \n",
       "25             127                 Mičurinova           439        439    -37   \n",
       "26             188               Volgogradská           387         23     29   \n",
       "27              78                 Duklianska           540        540     -7   \n",
       "28             187               Clementisova           350        350     49   \n",
       "29               4                Čierny most           635        473    -46   \n",
       "30             158                       Mýto           805        805      9   \n",
       "31             105                Pod Šibeňou           232        232     61   \n",
       "32             187               Clementisova           760        760     -4   \n",
       "33               3                Veľká pošta           555        348     72   \n",
       "34             129              Rázc.Šidlovec           600        600     -2   \n",
       "35               2                 Na Hlavnej           290        290     77   \n",
       "36               1                    Trojica           560        427    -22   \n",
       "37               1                    Trojica           530        428   -140   \n",
       "38              37                   Lesnícka           840        840   -342   \n",
       "39              38               Pavla Horova           510        510   -142   \n",
       "40              39              Martina Benku           803        131   -110   \n",
       "41             531                    Okružná           800        800    -57   \n",
       "42              80            Dopravný podnik          1377       1377    -56   \n",
       "43               2                 Na Hlavnej           290         23    -67   \n",
       "44               2                 Na Hlavnej           290        290     12   \n",
       "45             195             Obrancov mieru           775         22    -53   \n",
       "46             128                Pod Skalkou           435        435     43   \n",
       "47              98                 Šalgovická           430        430   -132   \n",
       "48              40                Jurkovičova           846        846   -178   \n",
       "49               2                 Na Hlavnej           290        290      2   \n",
       "\n",
       "    VEHICLE_NUMBER            Current_Time  Current_Day  Current_Hour  \\\n",
       "0              737 2021-03-10 11:14:22.617           10            12   \n",
       "1              739 2021-03-10 11:14:22.617           10            12   \n",
       "2              396 2021-03-10 11:15:07.627           10            12   \n",
       "3              359 2021-03-10 11:15:07.627           10            12   \n",
       "4              735 2021-03-10 11:16:22.643           10            12   \n",
       "5             3433 2021-03-10 11:16:22.643           10            12   \n",
       "6              745 2021-03-10 11:17:07.654           10            12   \n",
       "7              736 2021-03-10 11:19:52.694           10            12   \n",
       "8              354 2021-03-10 11:22:07.731           10            12   \n",
       "9              744 2021-03-10 11:22:07.731           10            12   \n",
       "10             735 2021-03-10 11:22:52.745           10            12   \n",
       "11             387 2021-03-10 11:22:52.745           10            12   \n",
       "12             370 2021-03-10 11:22:52.745           10            12   \n",
       "13             739 2021-03-10 11:22:52.745           10            12   \n",
       "14             390 2021-03-10 11:23:22.750           10            12   \n",
       "15             744 2021-03-10 11:23:22.750           10            12   \n",
       "16             736 2021-03-10 11:23:37.742           10            12   \n",
       "17             735 2021-03-10 11:23:52.745           10            12   \n",
       "18             743 2021-03-10 11:24:07.747           10            12   \n",
       "19             742 2021-03-10 11:24:07.747           10            12   \n",
       "20             729 2021-03-10 11:24:22.745           10            12   \n",
       "21             396 2021-03-10 11:24:52.744           10            12   \n",
       "22             397 2021-03-10 11:24:52.744           10            12   \n",
       "23             400 2021-03-10 11:25:37.746           10            12   \n",
       "24             745 2021-03-10 11:25:52.745           10            12   \n",
       "25             733 2021-03-10 11:25:52.745           10            12   \n",
       "26             724 2021-03-10 11:26:07.748           10            12   \n",
       "27             387 2021-03-10 11:26:37.746           10            12   \n",
       "28             724 2021-03-10 11:27:37.748           10            12   \n",
       "29             739 2021-03-10 11:28:37.751           10            12   \n",
       "30             400 2021-03-10 11:29:07.746           10            12   \n",
       "31             387 2021-03-10 11:29:22.751           10            12   \n",
       "32             722 2021-03-10 11:29:22.751           10            12   \n",
       "33            3433 2021-03-10 11:29:22.751           10            12   \n",
       "34             386 2021-03-10 11:15:22.658           10            12   \n",
       "35             399 2021-03-10 11:16:07.648           10            12   \n",
       "36             739 2021-03-10 11:16:07.648           10            12   \n",
       "37             400 2021-03-10 11:18:07.674           10            12   \n",
       "38             742 2021-03-10 11:20:07.703           10            12   \n",
       "39             396 2021-03-10 11:20:52.706           10            12   \n",
       "40             728 2021-03-10 11:21:37.716           10            12   \n",
       "41             400 2021-03-10 11:22:22.742           10            12   \n",
       "42             732 2021-03-10 11:22:22.742           10            12   \n",
       "43             722 2021-03-10 11:22:37.735           10            12   \n",
       "44             380 2021-03-10 11:23:07.741           10            12   \n",
       "45             385 2021-03-10 11:23:22.750           10            12   \n",
       "46             399 2021-03-10 11:23:37.742           10            12   \n",
       "47             398 2021-03-10 11:23:37.742           10            12   \n",
       "48             396 2021-03-10 11:24:22.745           10            12   \n",
       "49             390 2021-03-10 11:24:22.745           10            12   \n",
       "\n",
       "    Current_Minutes  Current_Seconds  \n",
       "0                14               22  \n",
       "1                14               22  \n",
       "2                15                7  \n",
       "3                15                7  \n",
       "4                16               22  \n",
       "5                16               22  \n",
       "6                17                7  \n",
       "7                19               52  \n",
       "8                22                7  \n",
       "9                22                7  \n",
       "10               22               52  \n",
       "11               22               52  \n",
       "12               22               52  \n",
       "13               22               52  \n",
       "14               23               22  \n",
       "15               23               22  \n",
       "16               23               37  \n",
       "17               23               52  \n",
       "18               24                7  \n",
       "19               24                7  \n",
       "20               24               22  \n",
       "21               24               52  \n",
       "22               24               52  \n",
       "23               25               37  \n",
       "24               25               52  \n",
       "25               25               52  \n",
       "26               26                7  \n",
       "27               26               37  \n",
       "28               27               37  \n",
       "29               28               37  \n",
       "30               29                7  \n",
       "31               29               22  \n",
       "32               29               22  \n",
       "33               29               22  \n",
       "34               15               22  \n",
       "35               16                7  \n",
       "36               16                7  \n",
       "37               18                7  \n",
       "38               20                7  \n",
       "39               20               52  \n",
       "40               21               37  \n",
       "41               22               22  \n",
       "42               22               22  \n",
       "43               22               37  \n",
       "44               23                7  \n",
       "45               23               22  \n",
       "46               23               37  \n",
       "47               23               37  \n",
       "48               24               22  \n",
       "49               24               22  "
      ]
     },
     "execution_count": 418,
     "metadata": {},
     "output_type": "execute_result"
    }
   ],
   "source": [
    "df = pd.read_json(path_or_buf = 'predictionQuery_MHD1.json', orient='records')\n",
    "df = pd.DataFrame(data=df)\n",
    "#df = pd.read_csv('predictionQuery_MHD.csv')\n",
    "df.head(50)"
   ]
  },
  {
   "cell_type": "code",
   "execution_count": 419,
   "metadata": {},
   "outputs": [
    {
     "data": {
      "text/html": [
       "<div>\n",
       "<style scoped>\n",
       "    .dataframe tbody tr th:only-of-type {\n",
       "        vertical-align: middle;\n",
       "    }\n",
       "\n",
       "    .dataframe tbody tr th {\n",
       "        vertical-align: top;\n",
       "    }\n",
       "\n",
       "    .dataframe thead th {\n",
       "        text-align: right;\n",
       "    }\n",
       "</style>\n",
       "<table border=\"1\" class=\"dataframe\">\n",
       "  <thead>\n",
       "    <tr style=\"text-align: right;\">\n",
       "      <th></th>\n",
       "      <th>lon</th>\n",
       "      <th>lat</th>\n",
       "      <th>BUS_STOP_ORDER_NUM</th>\n",
       "      <th>BUS_STOP_NUM_1</th>\n",
       "      <th>BUS_STOP_SUB_NUM_2</th>\n",
       "      <th>BUS_STOP_NUM_2</th>\n",
       "      <th>PLANNED_ROAD</th>\n",
       "      <th>REAL_ROAD</th>\n",
       "      <th>DELAY</th>\n",
       "      <th>VEHICLE_NUMBER</th>\n",
       "      <th>Current_Day</th>\n",
       "      <th>Current_Hour</th>\n",
       "      <th>Current_Minutes</th>\n",
       "      <th>Current_Seconds</th>\n",
       "    </tr>\n",
       "  </thead>\n",
       "  <tbody>\n",
       "    <tr>\n",
       "      <th>count</th>\n",
       "      <td>2449.000000</td>\n",
       "      <td>2449.000000</td>\n",
       "      <td>2449.000000</td>\n",
       "      <td>2449.000000</td>\n",
       "      <td>2449.000000</td>\n",
       "      <td>2449.000000</td>\n",
       "      <td>2449.000000</td>\n",
       "      <td>2449.000000</td>\n",
       "      <td>2449.000000</td>\n",
       "      <td>2449.000000</td>\n",
       "      <td>2449.0</td>\n",
       "      <td>2449.000000</td>\n",
       "      <td>2449.000000</td>\n",
       "      <td>2449.000000</td>\n",
       "    </tr>\n",
       "    <tr>\n",
       "      <th>mean</th>\n",
       "      <td>21.248298</td>\n",
       "      <td>48.998226</td>\n",
       "      <td>8.496938</td>\n",
       "      <td>121.138016</td>\n",
       "      <td>0.565945</td>\n",
       "      <td>122.394038</td>\n",
       "      <td>636.743569</td>\n",
       "      <td>422.472846</td>\n",
       "      <td>-45.008167</td>\n",
       "      <td>548.224581</td>\n",
       "      <td>10.0</td>\n",
       "      <td>14.515721</td>\n",
       "      <td>28.153124</td>\n",
       "      <td>30.117599</td>\n",
       "    </tr>\n",
       "    <tr>\n",
       "      <th>std</th>\n",
       "      <td>0.022046</td>\n",
       "      <td>0.017670</td>\n",
       "      <td>5.669630</td>\n",
       "      <td>138.854466</td>\n",
       "      <td>0.628048</td>\n",
       "      <td>139.203008</td>\n",
       "      <td>1358.409579</td>\n",
       "      <td>359.301431</td>\n",
       "      <td>168.312974</td>\n",
       "      <td>358.724477</td>\n",
       "      <td>0.0</td>\n",
       "      <td>1.891420</td>\n",
       "      <td>16.337604</td>\n",
       "      <td>16.977014</td>\n",
       "    </tr>\n",
       "    <tr>\n",
       "      <th>min</th>\n",
       "      <td>21.164740</td>\n",
       "      <td>48.942360</td>\n",
       "      <td>1.000000</td>\n",
       "      <td>1.000000</td>\n",
       "      <td>0.000000</td>\n",
       "      <td>1.000000</td>\n",
       "      <td>180.000000</td>\n",
       "      <td>0.000000</td>\n",
       "      <td>-4700.000000</td>\n",
       "      <td>121.000000</td>\n",
       "      <td>10.0</td>\n",
       "      <td>12.000000</td>\n",
       "      <td>0.000000</td>\n",
       "      <td>2.000000</td>\n",
       "    </tr>\n",
       "    <tr>\n",
       "      <th>25%</th>\n",
       "      <td>21.236960</td>\n",
       "      <td>48.987490</td>\n",
       "      <td>4.000000</td>\n",
       "      <td>35.000000</td>\n",
       "      <td>0.000000</td>\n",
       "      <td>35.000000</td>\n",
       "      <td>377.000000</td>\n",
       "      <td>213.000000</td>\n",
       "      <td>-80.000000</td>\n",
       "      <td>380.000000</td>\n",
       "      <td>10.0</td>\n",
       "      <td>13.000000</td>\n",
       "      <td>15.000000</td>\n",
       "      <td>17.000000</td>\n",
       "    </tr>\n",
       "    <tr>\n",
       "      <th>50%</th>\n",
       "      <td>21.245370</td>\n",
       "      <td>48.995980</td>\n",
       "      <td>8.000000</td>\n",
       "      <td>80.000000</td>\n",
       "      <td>1.000000</td>\n",
       "      <td>80.000000</td>\n",
       "      <td>510.000000</td>\n",
       "      <td>387.000000</td>\n",
       "      <td>-23.000000</td>\n",
       "      <td>401.000000</td>\n",
       "      <td>10.0</td>\n",
       "      <td>14.000000</td>\n",
       "      <td>27.000000</td>\n",
       "      <td>32.000000</td>\n",
       "    </tr>\n",
       "    <tr>\n",
       "      <th>75%</th>\n",
       "      <td>21.263880</td>\n",
       "      <td>49.008780</td>\n",
       "      <td>12.000000</td>\n",
       "      <td>172.000000</td>\n",
       "      <td>1.000000</td>\n",
       "      <td>175.000000</td>\n",
       "      <td>682.000000</td>\n",
       "      <td>555.000000</td>\n",
       "      <td>15.000000</td>\n",
       "      <td>732.000000</td>\n",
       "      <td>10.0</td>\n",
       "      <td>16.000000</td>\n",
       "      <td>41.000000</td>\n",
       "      <td>47.000000</td>\n",
       "    </tr>\n",
       "    <tr>\n",
       "      <th>max</th>\n",
       "      <td>21.333470</td>\n",
       "      <td>49.065840</td>\n",
       "      <td>31.000000</td>\n",
       "      <td>557.000000</td>\n",
       "      <td>4.000000</td>\n",
       "      <td>557.000000</td>\n",
       "      <td>63000.000000</td>\n",
       "      <td>3600.000000</td>\n",
       "      <td>1283.000000</td>\n",
       "      <td>3433.000000</td>\n",
       "      <td>10.0</td>\n",
       "      <td>19.000000</td>\n",
       "      <td>59.000000</td>\n",
       "      <td>56.000000</td>\n",
       "    </tr>\n",
       "  </tbody>\n",
       "</table>\n",
       "</div>"
      ],
      "text/plain": [
       "               lon          lat  BUS_STOP_ORDER_NUM  BUS_STOP_NUM_1  \\\n",
       "count  2449.000000  2449.000000         2449.000000     2449.000000   \n",
       "mean     21.248298    48.998226            8.496938      121.138016   \n",
       "std       0.022046     0.017670            5.669630      138.854466   \n",
       "min      21.164740    48.942360            1.000000        1.000000   \n",
       "25%      21.236960    48.987490            4.000000       35.000000   \n",
       "50%      21.245370    48.995980            8.000000       80.000000   \n",
       "75%      21.263880    49.008780           12.000000      172.000000   \n",
       "max      21.333470    49.065840           31.000000      557.000000   \n",
       "\n",
       "       BUS_STOP_SUB_NUM_2  BUS_STOP_NUM_2  PLANNED_ROAD    REAL_ROAD  \\\n",
       "count         2449.000000     2449.000000   2449.000000  2449.000000   \n",
       "mean             0.565945      122.394038    636.743569   422.472846   \n",
       "std              0.628048      139.203008   1358.409579   359.301431   \n",
       "min              0.000000        1.000000    180.000000     0.000000   \n",
       "25%              0.000000       35.000000    377.000000   213.000000   \n",
       "50%              1.000000       80.000000    510.000000   387.000000   \n",
       "75%              1.000000      175.000000    682.000000   555.000000   \n",
       "max              4.000000      557.000000  63000.000000  3600.000000   \n",
       "\n",
       "             DELAY  VEHICLE_NUMBER  Current_Day  Current_Hour  \\\n",
       "count  2449.000000     2449.000000       2449.0   2449.000000   \n",
       "mean    -45.008167      548.224581         10.0     14.515721   \n",
       "std     168.312974      358.724477          0.0      1.891420   \n",
       "min   -4700.000000      121.000000         10.0     12.000000   \n",
       "25%     -80.000000      380.000000         10.0     13.000000   \n",
       "50%     -23.000000      401.000000         10.0     14.000000   \n",
       "75%      15.000000      732.000000         10.0     16.000000   \n",
       "max    1283.000000     3433.000000         10.0     19.000000   \n",
       "\n",
       "       Current_Minutes  Current_Seconds  \n",
       "count      2449.000000      2449.000000  \n",
       "mean         28.153124        30.117599  \n",
       "std          16.337604        16.977014  \n",
       "min           0.000000         2.000000  \n",
       "25%          15.000000        17.000000  \n",
       "50%          27.000000        32.000000  \n",
       "75%          41.000000        47.000000  \n",
       "max          59.000000        56.000000  "
      ]
     },
     "execution_count": 419,
     "metadata": {},
     "output_type": "execute_result"
    }
   ],
   "source": [
    "df.describe()"
   ]
  },
  {
   "cell_type": "code",
   "execution_count": 420,
   "metadata": {},
   "outputs": [
    {
     "data": {
      "text/plain": [
       "lon                   0\n",
       "lat                   0\n",
       "ROUTE_NUMBER          0\n",
       "DIRECTION             0\n",
       "BUS_STOP_ORDER_NUM    0\n",
       "BUS_STOP_NUM_1        0\n",
       "Current_Stop          0\n",
       "BUS_STOP_SUB_NUM_2    0\n",
       "BUS_STOP_NUM_2        0\n",
       "Next_Stop             0\n",
       "PLANNED_ROAD          0\n",
       "REAL_ROAD             0\n",
       "DELAY                 0\n",
       "VEHICLE_NUMBER        0\n",
       "Current_Time          0\n",
       "Current_Day           0\n",
       "Current_Hour          0\n",
       "Current_Minutes       0\n",
       "Current_Seconds       0\n",
       "dtype: int64"
      ]
     },
     "execution_count": 420,
     "metadata": {},
     "output_type": "execute_result"
    }
   ],
   "source": [
    "df.isnull().sum()"
   ]
  },
  {
   "cell_type": "code",
   "execution_count": 421,
   "metadata": {},
   "outputs": [
    {
     "data": {
      "text/plain": [
       "lon                          float64\n",
       "lat                          float64\n",
       "ROUTE_NUMBER                  object\n",
       "DIRECTION                     object\n",
       "BUS_STOP_ORDER_NUM             int64\n",
       "BUS_STOP_NUM_1                 int64\n",
       "Current_Stop                  object\n",
       "BUS_STOP_SUB_NUM_2             int64\n",
       "BUS_STOP_NUM_2                 int64\n",
       "Next_Stop                     object\n",
       "PLANNED_ROAD                   int64\n",
       "REAL_ROAD                      int64\n",
       "DELAY                          int64\n",
       "VEHICLE_NUMBER                 int64\n",
       "Current_Time          datetime64[ns]\n",
       "Current_Day                    int64\n",
       "Current_Hour                   int64\n",
       "Current_Minutes                int64\n",
       "Current_Seconds                int64\n",
       "dtype: object"
      ]
     },
     "execution_count": 421,
     "metadata": {},
     "output_type": "execute_result"
    }
   ],
   "source": [
    "df.dtypes"
   ]
  },
  {
   "cell_type": "code",
   "execution_count": 422,
   "metadata": {},
   "outputs": [
    {
     "data": {
      "text/plain": [
       "0       1\n",
       "1       0\n",
       "2       1\n",
       "3       1\n",
       "4       1\n",
       "       ..\n",
       "2444    0\n",
       "2445    1\n",
       "2446    1\n",
       "2447    1\n",
       "2448    0\n",
       "Name: DIRECTION, Length: 2449, dtype: int64"
      ]
     },
     "execution_count": 422,
     "metadata": {},
     "output_type": "execute_result"
    }
   ],
   "source": [
    "def f(x):\n",
    "    if(x == 'T'):\n",
    "        return 0\n",
    "    elif(x == 'P'):\n",
    "        return 1\n",
    "    elif(x == 'D'):\n",
    "        return 2\n",
    "    elif(x == 'Z'):\n",
    "        return 3\n",
    "    elif(x == 'R'):\n",
    "        return 4\n",
    "\n",
    "df['DIRECTION'] = [f(x) for x in df['DIRECTION']]\n",
    "df['DIRECTION']"
   ]
  },
  {
   "cell_type": "code",
   "execution_count": 423,
   "metadata": {},
   "outputs": [
    {
     "data": {
      "text/plain": [
       "[('DIRECTION', 'BUS_STOP_SUB_NUM_2')]"
      ]
     },
     "execution_count": 423,
     "metadata": {},
     "output_type": "execute_result"
    }
   ],
   "source": [
    "corr = df.corr()#Lists all pairs of highly collinear variables\n",
    "indices = np.where(corr > 0.3)\n",
    "indices = [(corr.columns[x], corr.columns[y]) for x, y in zip(*indices)\n",
    "                                        if x != y and x < y]\n",
    "indices"
   ]
  },
  {
   "cell_type": "code",
   "execution_count": 424,
   "metadata": {},
   "outputs": [
    {
     "data": {
      "text/plain": [
       "[]"
      ]
     },
     "execution_count": 424,
     "metadata": {},
     "output_type": "execute_result"
    }
   ],
   "source": [
    "corr = df.corr()#Lists all pairs of highly collinear variables\n",
    "indices = np.where(corr < -0.3)\n",
    "indices = [(corr.columns[x], corr.columns[y]) for x, y in zip(*indices)\n",
    "                                        if x != y and x < y]\n",
    "indices"
   ]
  },
  {
   "cell_type": "code",
   "execution_count": 425,
   "metadata": {},
   "outputs": [],
   "source": [
    "df = df.drop(['BUS_STOP_ORDER_NUM',\n",
    "              'PLANNED_ROAD','REAL_ROAD','BUS_STOP_NUM_1','BUS_STOP_SUB_NUM_2',\n",
    "              'Next_Stop','BUS_STOP_NUM_2','Current_Time'\n",
    "              ],axis =1, errors='ignore')\n"
   ]
  },
  {
   "cell_type": "code",
   "execution_count": 426,
   "metadata": {},
   "outputs": [
    {
     "data": {
      "text/html": [
       "<div>\n",
       "<style scoped>\n",
       "    .dataframe tbody tr th:only-of-type {\n",
       "        vertical-align: middle;\n",
       "    }\n",
       "\n",
       "    .dataframe tbody tr th {\n",
       "        vertical-align: top;\n",
       "    }\n",
       "\n",
       "    .dataframe thead th {\n",
       "        text-align: right;\n",
       "    }\n",
       "</style>\n",
       "<table border=\"1\" class=\"dataframe\">\n",
       "  <thead>\n",
       "    <tr style=\"text-align: right;\">\n",
       "      <th></th>\n",
       "      <th>lon</th>\n",
       "      <th>lat</th>\n",
       "      <th>ROUTE_NUMBER</th>\n",
       "      <th>DIRECTION</th>\n",
       "      <th>Current_Stop</th>\n",
       "      <th>DELAY</th>\n",
       "      <th>VEHICLE_NUMBER</th>\n",
       "      <th>Current_Day</th>\n",
       "      <th>Current_Hour</th>\n",
       "      <th>Current_Minutes</th>\n",
       "      <th>Current_Seconds</th>\n",
       "    </tr>\n",
       "  </thead>\n",
       "  <tbody>\n",
       "    <tr>\n",
       "      <th>0</th>\n",
       "      <td>21.25036</td>\n",
       "      <td>48.98171</td>\n",
       "      <td>1</td>\n",
       "      <td>1</td>\n",
       "      <td>Železničná stanica</td>\n",
       "      <td>-37</td>\n",
       "      <td>737</td>\n",
       "      <td>10</td>\n",
       "      <td>12</td>\n",
       "      <td>14</td>\n",
       "      <td>22</td>\n",
       "    </tr>\n",
       "    <tr>\n",
       "      <th>1</th>\n",
       "      <td>21.24403</td>\n",
       "      <td>48.99333</td>\n",
       "      <td>2</td>\n",
       "      <td>0</td>\n",
       "      <td>Divadlo Jonáša Záborského</td>\n",
       "      <td>-50</td>\n",
       "      <td>739</td>\n",
       "      <td>10</td>\n",
       "      <td>12</td>\n",
       "      <td>14</td>\n",
       "      <td>22</td>\n",
       "    </tr>\n",
       "    <tr>\n",
       "      <th>2</th>\n",
       "      <td>21.25522</td>\n",
       "      <td>48.97044</td>\n",
       "      <td>10</td>\n",
       "      <td>1</td>\n",
       "      <td>Košická</td>\n",
       "      <td>-96</td>\n",
       "      <td>396</td>\n",
       "      <td>10</td>\n",
       "      <td>12</td>\n",
       "      <td>15</td>\n",
       "      <td>7</td>\n",
       "    </tr>\n",
       "    <tr>\n",
       "      <th>3</th>\n",
       "      <td>21.23688</td>\n",
       "      <td>49.01166</td>\n",
       "      <td>45</td>\n",
       "      <td>1</td>\n",
       "      <td>Pod Skalkou</td>\n",
       "      <td>-61</td>\n",
       "      <td>359</td>\n",
       "      <td>10</td>\n",
       "      <td>12</td>\n",
       "      <td>15</td>\n",
       "      <td>7</td>\n",
       "    </tr>\n",
       "    <tr>\n",
       "      <th>4</th>\n",
       "      <td>21.25696</td>\n",
       "      <td>49.01065</td>\n",
       "      <td>7</td>\n",
       "      <td>1</td>\n",
       "      <td>Ľubochnianska</td>\n",
       "      <td>4</td>\n",
       "      <td>735</td>\n",
       "      <td>10</td>\n",
       "      <td>12</td>\n",
       "      <td>16</td>\n",
       "      <td>22</td>\n",
       "    </tr>\n",
       "  </tbody>\n",
       "</table>\n",
       "</div>"
      ],
      "text/plain": [
       "        lon       lat ROUTE_NUMBER  DIRECTION               Current_Stop  \\\n",
       "0  21.25036  48.98171            1          1         Železničná stanica   \n",
       "1  21.24403  48.99333            2          0  Divadlo Jonáša Záborského   \n",
       "2  21.25522  48.97044           10          1                    Košická   \n",
       "3  21.23688  49.01166           45          1                Pod Skalkou   \n",
       "4  21.25696  49.01065            7          1              Ľubochnianska   \n",
       "\n",
       "   DELAY  VEHICLE_NUMBER  Current_Day  Current_Hour  Current_Minutes  \\\n",
       "0    -37             737           10            12               14   \n",
       "1    -50             739           10            12               14   \n",
       "2    -96             396           10            12               15   \n",
       "3    -61             359           10            12               15   \n",
       "4      4             735           10            12               16   \n",
       "\n",
       "   Current_Seconds  \n",
       "0               22  \n",
       "1               22  \n",
       "2                7  \n",
       "3                7  \n",
       "4               22  "
      ]
     },
     "execution_count": 426,
     "metadata": {},
     "output_type": "execute_result"
    }
   ],
   "source": [
    "df.head(5)"
   ]
  },
  {
   "cell_type": "code",
   "execution_count": 427,
   "metadata": {},
   "outputs": [],
   "source": [
    "def toString(x):\n",
    "    return str(x)\n",
    "    \n",
    "df['ROUTE_NUMBER'] = [toString(x) for x in df['ROUTE_NUMBER']]"
   ]
  },
  {
   "cell_type": "code",
   "execution_count": 428,
   "metadata": {},
   "outputs": [
    {
     "data": {
      "text/plain": [
       "0        1\n",
       "1        2\n",
       "2       10\n",
       "3       45\n",
       "4        7\n",
       "        ..\n",
       "2444    41\n",
       "2445    41\n",
       "2446    22\n",
       "2447    13\n",
       "2448    45\n",
       "Name: ROUTE_NUMBER, Length: 2449, dtype: object"
      ]
     },
     "execution_count": 428,
     "metadata": {},
     "output_type": "execute_result"
    }
   ],
   "source": [
    "df['ROUTE_NUMBER'] "
   ]
  },
  {
   "cell_type": "code",
   "execution_count": 429,
   "metadata": {},
   "outputs": [
    {
     "data": {
      "text/plain": [
       "<AxesSubplot:>"
      ]
     },
     "execution_count": 429,
     "metadata": {},
     "output_type": "execute_result"
    },
    {
     "data": {
      "image/png": "[encoded data removed]",
      "text/plain": [
       "<Figure size 432x288 with 2 Axes>"
      ]
     },
     "metadata": {},
     "output_type": "display_data"
    }
   ],
   "source": [
    "seaborn.set(style='white')\n",
    "cmap = seaborn.diverging_palette(220, 10, as_cmap=True)\n",
    "seaborn.heatmap(df.corr(),cmap=cmap)"
   ]
  },
  {
   "cell_type": "code",
   "execution_count": 430,
   "metadata": {},
   "outputs": [],
   "source": [
    "def LabelEncoding(col):\n",
    "    encoder = LabelEncoder()\n",
    "    encoder.fit(df[col])\n",
    "    list(encoder.classes_)\n",
    "    return encoder.transform(df[col])\n",
    "\n",
    "def KBinsDiscretizing(currCol):\n",
    "    discretizer = KBinsDiscretizer(n_bins=5, encode='ordinal', strategy='uniform')\n",
    "    discretizer.fit(df[currCol])\n",
    "    return discretizer.transform(df[currCol])\n",
    "\n",
    "df['Current_Stop_Encoded']=LabelEncoding('Current_Stop')\n",
    "df['lon_Encoded']=LabelEncoding('lon')\n",
    "df['lat_Encoded']=LabelEncoding('lat')\n",
    "df['Current_Seconds_Encoded']=LabelEncoding('Current_Seconds')\n",
    "df['Current_Minutes_Encoded']=LabelEncoding('Current_Minutes')\n",
    "df['Current_Hour_Encoded']= LabelEncoding('Current_Hour')\n",
    "df['Current_Day_Encoded']= LabelEncoding('Current_Day')\n",
    "df['DIRECTION_Encoded']= LabelEncoding('DIRECTION')\n",
    "df['RouteNumber_Encoded'] = LabelEncoding('ROUTE_NUMBER')"
   ]
  },
  {
   "cell_type": "code",
   "execution_count": 431,
   "metadata": {},
   "outputs": [
    {
     "data": {
      "text/html": [
       "<div>\n",
       "<style scoped>\n",
       "    .dataframe tbody tr th:only-of-type {\n",
       "        vertical-align: middle;\n",
       "    }\n",
       "\n",
       "    .dataframe tbody tr th {\n",
       "        vertical-align: top;\n",
       "    }\n",
       "\n",
       "    .dataframe thead th {\n",
       "        text-align: right;\n",
       "    }\n",
       "</style>\n",
       "<table border=\"1\" class=\"dataframe\">\n",
       "  <thead>\n",
       "    <tr style=\"text-align: right;\">\n",
       "      <th></th>\n",
       "      <th>lon</th>\n",
       "      <th>lat</th>\n",
       "      <th>ROUTE_NUMBER</th>\n",
       "      <th>DIRECTION</th>\n",
       "      <th>Current_Stop</th>\n",
       "      <th>DELAY</th>\n",
       "      <th>VEHICLE_NUMBER</th>\n",
       "      <th>Current_Day</th>\n",
       "      <th>Current_Hour</th>\n",
       "      <th>Current_Minutes</th>\n",
       "      <th>Current_Seconds</th>\n",
       "      <th>Current_Stop_Encoded</th>\n",
       "      <th>lon_Encoded</th>\n",
       "      <th>lat_Encoded</th>\n",
       "      <th>Current_Seconds_Encoded</th>\n",
       "      <th>Current_Minutes_Encoded</th>\n",
       "      <th>Current_Hour_Encoded</th>\n",
       "      <th>Current_Day_Encoded</th>\n",
       "      <th>DIRECTION_Encoded</th>\n",
       "      <th>RouteNumber_Encoded</th>\n",
       "    </tr>\n",
       "  </thead>\n",
       "  <tbody>\n",
       "    <tr>\n",
       "      <th>0</th>\n",
       "      <td>21.25036</td>\n",
       "      <td>48.98171</td>\n",
       "      <td>1</td>\n",
       "      <td>1</td>\n",
       "      <td>Železničná stanica</td>\n",
       "      <td>-37</td>\n",
       "      <td>737</td>\n",
       "      <td>10</td>\n",
       "      <td>12</td>\n",
       "      <td>14</td>\n",
       "      <td>22</td>\n",
       "      <td>230</td>\n",
       "      <td>832</td>\n",
       "      <td>229</td>\n",
       "      <td>14</td>\n",
       "      <td>14</td>\n",
       "      <td>0</td>\n",
       "      <td>0</td>\n",
       "      <td>1</td>\n",
       "      <td>1</td>\n",
       "    </tr>\n",
       "    <tr>\n",
       "      <th>1</th>\n",
       "      <td>21.24403</td>\n",
       "      <td>48.99333</td>\n",
       "      <td>2</td>\n",
       "      <td>0</td>\n",
       "      <td>Divadlo Jonáša Záborského</td>\n",
       "      <td>-50</td>\n",
       "      <td>739</td>\n",
       "      <td>10</td>\n",
       "      <td>12</td>\n",
       "      <td>14</td>\n",
       "      <td>22</td>\n",
       "      <td>17</td>\n",
       "      <td>617</td>\n",
       "      <td>551</td>\n",
       "      <td>14</td>\n",
       "      <td>14</td>\n",
       "      <td>0</td>\n",
       "      <td>0</td>\n",
       "      <td>0</td>\n",
       "      <td>11</td>\n",
       "    </tr>\n",
       "    <tr>\n",
       "      <th>2</th>\n",
       "      <td>21.25522</td>\n",
       "      <td>48.97044</td>\n",
       "      <td>10</td>\n",
       "      <td>1</td>\n",
       "      <td>Košická</td>\n",
       "      <td>-96</td>\n",
       "      <td>396</td>\n",
       "      <td>10</td>\n",
       "      <td>12</td>\n",
       "      <td>15</td>\n",
       "      <td>7</td>\n",
       "      <td>65</td>\n",
       "      <td>909</td>\n",
       "      <td>77</td>\n",
       "      <td>5</td>\n",
       "      <td>15</td>\n",
       "      <td>0</td>\n",
       "      <td>0</td>\n",
       "      <td>1</td>\n",
       "      <td>2</td>\n",
       "    </tr>\n",
       "    <tr>\n",
       "      <th>3</th>\n",
       "      <td>21.23688</td>\n",
       "      <td>49.01166</td>\n",
       "      <td>45</td>\n",
       "      <td>1</td>\n",
       "      <td>Pod Skalkou</td>\n",
       "      <td>-61</td>\n",
       "      <td>359</td>\n",
       "      <td>10</td>\n",
       "      <td>12</td>\n",
       "      <td>15</td>\n",
       "      <td>7</td>\n",
       "      <td>127</td>\n",
       "      <td>414</td>\n",
       "      <td>976</td>\n",
       "      <td>5</td>\n",
       "      <td>15</td>\n",
       "      <td>0</td>\n",
       "      <td>0</td>\n",
       "      <td>1</td>\n",
       "      <td>33</td>\n",
       "    </tr>\n",
       "    <tr>\n",
       "      <th>4</th>\n",
       "      <td>21.25696</td>\n",
       "      <td>49.01065</td>\n",
       "      <td>7</td>\n",
       "      <td>1</td>\n",
       "      <td>Ľubochnianska</td>\n",
       "      <td>4</td>\n",
       "      <td>735</td>\n",
       "      <td>10</td>\n",
       "      <td>12</td>\n",
       "      <td>16</td>\n",
       "      <td>22</td>\n",
       "      <td>213</td>\n",
       "      <td>948</td>\n",
       "      <td>936</td>\n",
       "      <td>14</td>\n",
       "      <td>16</td>\n",
       "      <td>0</td>\n",
       "      <td>0</td>\n",
       "      <td>1</td>\n",
       "      <td>37</td>\n",
       "    </tr>\n",
       "  </tbody>\n",
       "</table>\n",
       "</div>"
      ],
      "text/plain": [
       "        lon       lat ROUTE_NUMBER  DIRECTION               Current_Stop  \\\n",
       "0  21.25036  48.98171            1          1         Železničná stanica   \n",
       "1  21.24403  48.99333            2          0  Divadlo Jonáša Záborského   \n",
       "2  21.25522  48.97044           10          1                    Košická   \n",
       "3  21.23688  49.01166           45          1                Pod Skalkou   \n",
       "4  21.25696  49.01065            7          1              Ľubochnianska   \n",
       "\n",
       "   DELAY  VEHICLE_NUMBER  Current_Day  Current_Hour  Current_Minutes  \\\n",
       "0    -37             737           10            12               14   \n",
       "1    -50             739           10            12               14   \n",
       "2    -96             396           10            12               15   \n",
       "3    -61             359           10            12               15   \n",
       "4      4             735           10            12               16   \n",
       "\n",
       "   Current_Seconds  Current_Stop_Encoded  lon_Encoded  lat_Encoded  \\\n",
       "0               22                   230          832          229   \n",
       "1               22                    17          617          551   \n",
       "2                7                    65          909           77   \n",
       "3                7                   127          414          976   \n",
       "4               22                   213          948          936   \n",
       "\n",
       "   Current_Seconds_Encoded  Current_Minutes_Encoded  Current_Hour_Encoded  \\\n",
       "0                       14                       14                     0   \n",
       "1                       14                       14                     0   \n",
       "2                        5                       15                     0   \n",
       "3                        5                       15                     0   \n",
       "4                       14                       16                     0   \n",
       "\n",
       "   Current_Day_Encoded  DIRECTION_Encoded  RouteNumber_Encoded  \n",
       "0                    0                  1                    1  \n",
       "1                    0                  0                   11  \n",
       "2                    0                  1                    2  \n",
       "3                    0                  1                   33  \n",
       "4                    0                  1                   37  "
      ]
     },
     "execution_count": 431,
     "metadata": {},
     "output_type": "execute_result"
    }
   ],
   "source": [
    "df.head(5)"
   ]
  },
  {
   "cell_type": "code",
   "execution_count": 357,
   "metadata": {},
   "outputs": [],
   "source": [
    "df = df.drop(['Current_Stop','Current_Hour','Current_Minutes',\n",
    "              'Current_Seconds','lon','lat',\n",
    "              'PLANNED_ROAD','REAL_ROAD',\n",
    "              'Current_Time','DIRECTION','ROUTE_NUMBER',\n",
    "              'Current_Day'],axis =1, errors='ignore')"
   ]
  },
  {
   "cell_type": "code",
   "execution_count": 358,
   "metadata": {},
   "outputs": [
    {
     "data": {
      "text/html": [
       "<div>\n",
       "<style scoped>\n",
       "    .dataframe tbody tr th:only-of-type {\n",
       "        vertical-align: middle;\n",
       "    }\n",
       "\n",
       "    .dataframe tbody tr th {\n",
       "        vertical-align: top;\n",
       "    }\n",
       "\n",
       "    .dataframe thead th {\n",
       "        text-align: right;\n",
       "    }\n",
       "</style>\n",
       "<table border=\"1\" class=\"dataframe\">\n",
       "  <thead>\n",
       "    <tr style=\"text-align: right;\">\n",
       "      <th></th>\n",
       "      <th>DELAY</th>\n",
       "      <th>VEHICLE_NUMBER</th>\n",
       "      <th>Current_Stop_Encoded</th>\n",
       "      <th>lon_Encoded</th>\n",
       "      <th>lat_Encoded</th>\n",
       "      <th>Current_Seconds_Encoded</th>\n",
       "      <th>Current_Minutes_Encoded</th>\n",
       "      <th>Current_Hour_Encoded</th>\n",
       "      <th>Current_Day_Encoded</th>\n",
       "      <th>DIRECTION_Encoded</th>\n",
       "      <th>RouteNumber_Encoded</th>\n",
       "    </tr>\n",
       "  </thead>\n",
       "  <tbody>\n",
       "    <tr>\n",
       "      <th>0</th>\n",
       "      <td>-37</td>\n",
       "      <td>737</td>\n",
       "      <td>230</td>\n",
       "      <td>832</td>\n",
       "      <td>229</td>\n",
       "      <td>14</td>\n",
       "      <td>14</td>\n",
       "      <td>0</td>\n",
       "      <td>0</td>\n",
       "      <td>1</td>\n",
       "      <td>1</td>\n",
       "    </tr>\n",
       "    <tr>\n",
       "      <th>1</th>\n",
       "      <td>-50</td>\n",
       "      <td>739</td>\n",
       "      <td>17</td>\n",
       "      <td>617</td>\n",
       "      <td>551</td>\n",
       "      <td>14</td>\n",
       "      <td>14</td>\n",
       "      <td>0</td>\n",
       "      <td>0</td>\n",
       "      <td>0</td>\n",
       "      <td>11</td>\n",
       "    </tr>\n",
       "    <tr>\n",
       "      <th>2</th>\n",
       "      <td>-96</td>\n",
       "      <td>396</td>\n",
       "      <td>65</td>\n",
       "      <td>909</td>\n",
       "      <td>77</td>\n",
       "      <td>5</td>\n",
       "      <td>15</td>\n",
       "      <td>0</td>\n",
       "      <td>0</td>\n",
       "      <td>1</td>\n",
       "      <td>2</td>\n",
       "    </tr>\n",
       "    <tr>\n",
       "      <th>3</th>\n",
       "      <td>-61</td>\n",
       "      <td>359</td>\n",
       "      <td>127</td>\n",
       "      <td>414</td>\n",
       "      <td>976</td>\n",
       "      <td>5</td>\n",
       "      <td>15</td>\n",
       "      <td>0</td>\n",
       "      <td>0</td>\n",
       "      <td>1</td>\n",
       "      <td>33</td>\n",
       "    </tr>\n",
       "    <tr>\n",
       "      <th>4</th>\n",
       "      <td>4</td>\n",
       "      <td>735</td>\n",
       "      <td>213</td>\n",
       "      <td>948</td>\n",
       "      <td>936</td>\n",
       "      <td>14</td>\n",
       "      <td>16</td>\n",
       "      <td>0</td>\n",
       "      <td>0</td>\n",
       "      <td>1</td>\n",
       "      <td>37</td>\n",
       "    </tr>\n",
       "  </tbody>\n",
       "</table>\n",
       "</div>"
      ],
      "text/plain": [
       "   DELAY  VEHICLE_NUMBER  Current_Stop_Encoded  lon_Encoded  lat_Encoded  \\\n",
       "0    -37             737                   230          832          229   \n",
       "1    -50             739                    17          617          551   \n",
       "2    -96             396                    65          909           77   \n",
       "3    -61             359                   127          414          976   \n",
       "4      4             735                   213          948          936   \n",
       "\n",
       "   Current_Seconds_Encoded  Current_Minutes_Encoded  Current_Hour_Encoded  \\\n",
       "0                       14                       14                     0   \n",
       "1                       14                       14                     0   \n",
       "2                        5                       15                     0   \n",
       "3                        5                       15                     0   \n",
       "4                       14                       16                     0   \n",
       "\n",
       "   Current_Day_Encoded  DIRECTION_Encoded  RouteNumber_Encoded  \n",
       "0                    0                  1                    1  \n",
       "1                    0                  0                   11  \n",
       "2                    0                  1                    2  \n",
       "3                    0                  1                   33  \n",
       "4                    0                  1                   37  "
      ]
     },
     "execution_count": 358,
     "metadata": {},
     "output_type": "execute_result"
    }
   ],
   "source": [
    "df.head(5)"
   ]
  },
  {
   "cell_type": "code",
   "execution_count": 359,
   "metadata": {},
   "outputs": [
    {
     "data": {
      "text/plain": [
       "[]"
      ]
     },
     "execution_count": 359,
     "metadata": {},
     "output_type": "execute_result"
    }
   ],
   "source": [
    "corr = df.corr()#Lists all pairs of highly collinear variables\n",
    "indices = np.where(corr > 0.3)\n",
    "indices = [(corr.columns[x], corr.columns[y]) for x, y in zip(*indices)\n",
    "                                        if x != y and x < y]\n",
    "indices"
   ]
  },
  {
   "cell_type": "code",
   "execution_count": 360,
   "metadata": {},
   "outputs": [
    {
     "data": {
      "text/plain": [
       "[]"
      ]
     },
     "execution_count": 360,
     "metadata": {},
     "output_type": "execute_result"
    }
   ],
   "source": [
    "corr = df.corr()#Lists all pairs of highly collinear variables\n",
    "indices = np.where(corr < -0.3)\n",
    "indices = [(corr.columns[x], corr.columns[y]) for x, y in zip(*indices)\n",
    "                                        if x != y and x < y]\n",
    "indices"
   ]
  },
  {
   "cell_type": "code",
   "execution_count": 361,
   "metadata": {},
   "outputs": [],
   "source": [
    "#df = df.drop(['lon_Encoded'],axis =1, errors='ignore')"
   ]
  },
  {
   "cell_type": "code",
   "execution_count": 362,
   "metadata": {},
   "outputs": [
    {
     "data": {
      "text/html": [
       "<div>\n",
       "<style scoped>\n",
       "    .dataframe tbody tr th:only-of-type {\n",
       "        vertical-align: middle;\n",
       "    }\n",
       "\n",
       "    .dataframe tbody tr th {\n",
       "        vertical-align: top;\n",
       "    }\n",
       "\n",
       "    .dataframe thead th {\n",
       "        text-align: right;\n",
       "    }\n",
       "</style>\n",
       "<table border=\"1\" class=\"dataframe\">\n",
       "  <thead>\n",
       "    <tr style=\"text-align: right;\">\n",
       "      <th></th>\n",
       "      <th>DELAY</th>\n",
       "      <th>VEHICLE_NUMBER</th>\n",
       "      <th>Current_Stop_Encoded</th>\n",
       "      <th>lon_Encoded</th>\n",
       "      <th>lat_Encoded</th>\n",
       "      <th>Current_Seconds_Encoded</th>\n",
       "      <th>Current_Minutes_Encoded</th>\n",
       "      <th>Current_Hour_Encoded</th>\n",
       "      <th>Current_Day_Encoded</th>\n",
       "      <th>DIRECTION_Encoded</th>\n",
       "      <th>RouteNumber_Encoded</th>\n",
       "    </tr>\n",
       "  </thead>\n",
       "  <tbody>\n",
       "    <tr>\n",
       "      <th>0</th>\n",
       "      <td>-37</td>\n",
       "      <td>737</td>\n",
       "      <td>230</td>\n",
       "      <td>832</td>\n",
       "      <td>229</td>\n",
       "      <td>14</td>\n",
       "      <td>14</td>\n",
       "      <td>0</td>\n",
       "      <td>0</td>\n",
       "      <td>1</td>\n",
       "      <td>1</td>\n",
       "    </tr>\n",
       "    <tr>\n",
       "      <th>1</th>\n",
       "      <td>-50</td>\n",
       "      <td>739</td>\n",
       "      <td>17</td>\n",
       "      <td>617</td>\n",
       "      <td>551</td>\n",
       "      <td>14</td>\n",
       "      <td>14</td>\n",
       "      <td>0</td>\n",
       "      <td>0</td>\n",
       "      <td>0</td>\n",
       "      <td>11</td>\n",
       "    </tr>\n",
       "    <tr>\n",
       "      <th>2</th>\n",
       "      <td>-96</td>\n",
       "      <td>396</td>\n",
       "      <td>65</td>\n",
       "      <td>909</td>\n",
       "      <td>77</td>\n",
       "      <td>5</td>\n",
       "      <td>15</td>\n",
       "      <td>0</td>\n",
       "      <td>0</td>\n",
       "      <td>1</td>\n",
       "      <td>2</td>\n",
       "    </tr>\n",
       "    <tr>\n",
       "      <th>3</th>\n",
       "      <td>-61</td>\n",
       "      <td>359</td>\n",
       "      <td>127</td>\n",
       "      <td>414</td>\n",
       "      <td>976</td>\n",
       "      <td>5</td>\n",
       "      <td>15</td>\n",
       "      <td>0</td>\n",
       "      <td>0</td>\n",
       "      <td>1</td>\n",
       "      <td>33</td>\n",
       "    </tr>\n",
       "    <tr>\n",
       "      <th>4</th>\n",
       "      <td>4</td>\n",
       "      <td>735</td>\n",
       "      <td>213</td>\n",
       "      <td>948</td>\n",
       "      <td>936</td>\n",
       "      <td>14</td>\n",
       "      <td>16</td>\n",
       "      <td>0</td>\n",
       "      <td>0</td>\n",
       "      <td>1</td>\n",
       "      <td>37</td>\n",
       "    </tr>\n",
       "    <tr>\n",
       "      <th>5</th>\n",
       "      <td>-8</td>\n",
       "      <td>3433</td>\n",
       "      <td>69</td>\n",
       "      <td>49</td>\n",
       "      <td>508</td>\n",
       "      <td>14</td>\n",
       "      <td>16</td>\n",
       "      <td>0</td>\n",
       "      <td>0</td>\n",
       "      <td>1</td>\n",
       "      <td>9</td>\n",
       "    </tr>\n",
       "    <tr>\n",
       "      <th>6</th>\n",
       "      <td>-42</td>\n",
       "      <td>745</td>\n",
       "      <td>183</td>\n",
       "      <td>125</td>\n",
       "      <td>904</td>\n",
       "      <td>5</td>\n",
       "      <td>17</td>\n",
       "      <td>0</td>\n",
       "      <td>0</td>\n",
       "      <td>1</td>\n",
       "      <td>29</td>\n",
       "    </tr>\n",
       "    <tr>\n",
       "      <th>7</th>\n",
       "      <td>-11</td>\n",
       "      <td>736</td>\n",
       "      <td>93</td>\n",
       "      <td>623</td>\n",
       "      <td>536</td>\n",
       "      <td>32</td>\n",
       "      <td>19</td>\n",
       "      <td>0</td>\n",
       "      <td>0</td>\n",
       "      <td>1</td>\n",
       "      <td>35</td>\n",
       "    </tr>\n",
       "    <tr>\n",
       "      <th>8</th>\n",
       "      <td>4</td>\n",
       "      <td>354</td>\n",
       "      <td>28</td>\n",
       "      <td>378</td>\n",
       "      <td>785</td>\n",
       "      <td>5</td>\n",
       "      <td>22</td>\n",
       "      <td>0</td>\n",
       "      <td>0</td>\n",
       "      <td>1</td>\n",
       "      <td>21</td>\n",
       "    </tr>\n",
       "    <tr>\n",
       "      <th>9</th>\n",
       "      <td>22</td>\n",
       "      <td>744</td>\n",
       "      <td>104</td>\n",
       "      <td>100</td>\n",
       "      <td>848</td>\n",
       "      <td>5</td>\n",
       "      <td>22</td>\n",
       "      <td>0</td>\n",
       "      <td>0</td>\n",
       "      <td>1</td>\n",
       "      <td>27</td>\n",
       "    </tr>\n",
       "  </tbody>\n",
       "</table>\n",
       "</div>"
      ],
      "text/plain": [
       "   DELAY  VEHICLE_NUMBER  Current_Stop_Encoded  lon_Encoded  lat_Encoded  \\\n",
       "0    -37             737                   230          832          229   \n",
       "1    -50             739                    17          617          551   \n",
       "2    -96             396                    65          909           77   \n",
       "3    -61             359                   127          414          976   \n",
       "4      4             735                   213          948          936   \n",
       "5     -8            3433                    69           49          508   \n",
       "6    -42             745                   183          125          904   \n",
       "7    -11             736                    93          623          536   \n",
       "8      4             354                    28          378          785   \n",
       "9     22             744                   104          100          848   \n",
       "\n",
       "   Current_Seconds_Encoded  Current_Minutes_Encoded  Current_Hour_Encoded  \\\n",
       "0                       14                       14                     0   \n",
       "1                       14                       14                     0   \n",
       "2                        5                       15                     0   \n",
       "3                        5                       15                     0   \n",
       "4                       14                       16                     0   \n",
       "5                       14                       16                     0   \n",
       "6                        5                       17                     0   \n",
       "7                       32                       19                     0   \n",
       "8                        5                       22                     0   \n",
       "9                        5                       22                     0   \n",
       "\n",
       "   Current_Day_Encoded  DIRECTION_Encoded  RouteNumber_Encoded  \n",
       "0                    0                  1                    1  \n",
       "1                    0                  0                   11  \n",
       "2                    0                  1                    2  \n",
       "3                    0                  1                   33  \n",
       "4                    0                  1                   37  \n",
       "5                    0                  1                    9  \n",
       "6                    0                  1                   29  \n",
       "7                    0                  1                   35  \n",
       "8                    0                  1                   21  \n",
       "9                    0                  1                   27  "
      ]
     },
     "execution_count": 362,
     "metadata": {},
     "output_type": "execute_result"
    },
    {
     "data": {
      "image/png": "[encoded data removed]",
      "text/plain": [
       "<Figure size 432x288 with 2 Axes>"
      ]
     },
     "metadata": {},
     "output_type": "display_data"
    }
   ],
   "source": [
    "seaborn.heatmap(df.corr(),cmap=cmap)\n",
    "df.head(10)"
   ]
  },
  {
   "cell_type": "markdown",
   "metadata": {},
   "source": [
    "#### TrainTest Spit"
   ]
  },
  {
   "cell_type": "code",
   "execution_count": 363,
   "metadata": {},
   "outputs": [],
   "source": [
    "train_x, test_x, train_y, test_y = train_test_split(df.drop('DELAY', axis=1), df['DELAY'], test_size=0.3, random_state=1234)"
   ]
  },
  {
   "cell_type": "code",
   "execution_count": 364,
   "metadata": {},
   "outputs": [
    {
     "name": "stdout",
     "output_type": "stream",
     "text": [
      "(1714, 10, 735, 10)\n"
     ]
    }
   ],
   "source": [
    "print(train_x.shape +  test_x.shape)"
   ]
  },
  {
   "cell_type": "code",
   "execution_count": 365,
   "metadata": {},
   "outputs": [
    {
     "name": "stdout",
     "output_type": "stream",
     "text": [
      "(1714, 735)\n"
     ]
    }
   ],
   "source": [
    "print(train_y.shape +  test_y.shape)"
   ]
  },
  {
   "cell_type": "code",
   "execution_count": 366,
   "metadata": {},
   "outputs": [
    {
     "name": "stdout",
     "output_type": "stream",
     "text": [
      "<class 'pandas.core.frame.DataFrame'>\n",
      "Int64Index: 1714 entries, 1443 to 723\n",
      "Data columns (total 10 columns):\n",
      " #   Column                   Non-Null Count  Dtype\n",
      "---  ------                   --------------  -----\n",
      " 0   VEHICLE_NUMBER           1714 non-null   int64\n",
      " 1   Current_Stop_Encoded     1714 non-null   int32\n",
      " 2   lon_Encoded              1714 non-null   int64\n",
      " 3   lat_Encoded              1714 non-null   int64\n",
      " 4   Current_Seconds_Encoded  1714 non-null   int64\n",
      " 5   Current_Minutes_Encoded  1714 non-null   int64\n",
      " 6   Current_Hour_Encoded     1714 non-null   int64\n",
      " 7   Current_Day_Encoded      1714 non-null   int64\n",
      " 8   DIRECTION_Encoded        1714 non-null   int64\n",
      " 9   RouteNumber_Encoded      1714 non-null   int32\n",
      "dtypes: int32(2), int64(8)\n",
      "memory usage: 133.9 KB\n",
      "None\n",
      "<class 'pandas.core.frame.DataFrame'>\n",
      "Int64Index: 735 entries, 526 to 2366\n",
      "Data columns (total 10 columns):\n",
      " #   Column                   Non-Null Count  Dtype\n",
      "---  ------                   --------------  -----\n",
      " 0   VEHICLE_NUMBER           735 non-null    int64\n",
      " 1   Current_Stop_Encoded     735 non-null    int32\n",
      " 2   lon_Encoded              735 non-null    int64\n",
      " 3   lat_Encoded              735 non-null    int64\n",
      " 4   Current_Seconds_Encoded  735 non-null    int64\n",
      " 5   Current_Minutes_Encoded  735 non-null    int64\n",
      " 6   Current_Hour_Encoded     735 non-null    int64\n",
      " 7   Current_Day_Encoded      735 non-null    int64\n",
      " 8   DIRECTION_Encoded        735 non-null    int64\n",
      " 9   RouteNumber_Encoded      735 non-null    int32\n",
      "dtypes: int32(2), int64(8)\n",
      "memory usage: 57.4 KB\n",
      "None\n"
     ]
    }
   ],
   "source": [
    "print(train_x.info()) \n",
    "print(test_x.info())"
   ]
  },
  {
   "cell_type": "markdown",
   "metadata": {},
   "source": [
    "### Models"
   ]
  },
  {
   "cell_type": "markdown",
   "metadata": {},
   "source": [
    "#### GridSearch for RandomForest"
   ]
  },
  {
   "cell_type": "code",
   "execution_count": 367,
   "metadata": {
    "scrolled": true
   },
   "outputs": [
    {
     "name": "stdout",
     "output_type": "stream",
     "text": [
      "Random forest Grid Search with non-redundant variables took [ 0:15:18.587309 ] seconds.\n"
     ]
    }
   ],
   "source": [
    "startTimeGS = datetime.now()\n",
    "param_grid = {'n_estimators': [10,15,20,25,100,500,600,700,800,900,1000]}\n",
    "\n",
    "grid_rf = GridSearchCV(RandomForestRegressor(), param_grid, cv=10)\n",
    "grid_rf.fit(train_x, train_y)\n",
    "bestModel = grid_rf.best_estimator_\n",
    "bestParameters = grid_rf.best_params_\n",
    "gridScores = grid_rf.score\n",
    "print('Random forest Grid Search with non-redundant variables took [', datetime.now() - startTimeGS, '] seconds.')"
   ]
  },
  {
   "cell_type": "code",
   "execution_count": 368,
   "metadata": {},
   "outputs": [
    {
     "name": "stdout",
     "output_type": "stream",
     "text": [
      "RandomForestRegressor(n_estimators=500)\n",
      "{'n_estimators': 500}\n"
     ]
    },
    {
     "data": {
      "text/plain": [
       "<bound method BaseSearchCV.score of GridSearchCV(cv=10, estimator=RandomForestRegressor(),\n",
       "             param_grid={'n_estimators': [10, 15, 20, 25, 100, 500, 600, 700,\n",
       "                                          800, 900, 1000]})>"
      ]
     },
     "execution_count": 368,
     "metadata": {},
     "output_type": "execute_result"
    }
   ],
   "source": [
    "print(bestModel)\n",
    "print(bestParameters)\n",
    "gridScores"
   ]
  },
  {
   "cell_type": "code",
   "execution_count": 369,
   "metadata": {},
   "outputs": [
    {
     "name": "stdout",
     "output_type": "stream",
     "text": [
      "0.3464071733034179\n",
      "0.22415121160841925\n",
      "[ 0.1211977   0.39815411  0.66746318  0.49770351  0.1179407   0.30152122\n",
      "  0.30233582  0.56668669 -0.06914432  0.56021313]\n"
     ]
    },
    {
     "data": {
      "text/plain": [
       "0.4374792175158345"
      ]
     },
     "execution_count": 369,
     "metadata": {},
     "output_type": "execute_result"
    }
   ],
   "source": [
    "regr = RandomForestRegressor(n_estimators = bestParameters.get('n_estimators'),\n",
    "                             random_state = 1234)\n",
    "regr.fit(train_x, train_y)\n",
    "folds = KFold(n_splits = 10, shuffle = True, random_state = 1234)\n",
    "scores = cross_val_score(regr, df.drop('DELAY', axis=1), df['DELAY'], cv=folds,scoring='r2')\n",
    "y_pred = cross_val_predict(regr, df.drop('DELAY', axis=1), df['DELAY'], cv=folds)\n",
    "print(scores.mean())\n",
    "print(scores.std())\n",
    "print(scores)\n",
    "\n",
    "\n",
    "y_pred_Random_Forrest = regr.predict(test_x)\n",
    "regr.score(test_x,test_y)"
   ]
  },
  {
   "cell_type": "code",
   "execution_count": 370,
   "metadata": {},
   "outputs": [
    {
     "name": "stdout",
     "output_type": "stream",
     "text": [
      "Mean Absolute Error (MAE): 57.60514829931973\n",
      "Mean Squared Error (MSE): 10121.405504108843\n",
      "Root Mean Squared Error (RMSE): 100.60519620829156\n",
      "Explained Variance Score: 0.43750412668223204\n",
      "Max Error: 1336.158\n",
      "Median Absolute Error: 36.684\n",
      "R^2: 0.4374792175158345\n"
     ]
    }
   ],
   "source": [
    "y_true=test_y\n",
    "print('Mean Absolute Error (MAE):', metrics.mean_absolute_error(y_true, y_pred_Random_Forrest))\n",
    "print('Mean Squared Error (MSE):', metrics.mean_squared_error(y_true, y_pred_Random_Forrest))\n",
    "print('Root Mean Squared Error (RMSE):', metrics.mean_squared_error(y_true, y_pred_Random_Forrest, squared=False))\n",
    "print('Explained Variance Score:', metrics.explained_variance_score(y_true, y_pred_Random_Forrest))\n",
    "print('Max Error:', metrics.max_error(y_true, y_pred_Random_Forrest))\n",
    "print('Median Absolute Error:', metrics.median_absolute_error(y_true, y_pred_Random_Forrest))\n",
    "print('R^2:', metrics.r2_score(y_true, y_pred_Random_Forrest))"
   ]
  },
  {
   "cell_type": "code",
   "execution_count": 371,
   "metadata": {},
   "outputs": [
    {
     "data": {
      "text/plain": [
       "<AxesSubplot:title={'center':'Residuals'}, xlabel='DELAY', ylabel='DELAY'>"
      ]
     },
     "execution_count": 371,
     "metadata": {},
     "output_type": "execute_result"
    },
    {
     "data": {
      "image/png": "[encoded data removed]",
      "text/plain": [
       "<Figure size 432x288 with 1 Axes>"
      ]
     },
     "metadata": {},
     "output_type": "display_data"
    }
   ],
   "source": [
    "y_pred= y_pred_Random_Forrest\n",
    "residuals = test_y - y_pred\n",
    "plt.title('Residuals')\n",
    "sns.residplot(x=test_y, y=residuals, lowess=True, color=\"blue\")"
   ]
  },
  {
   "cell_type": "code",
   "execution_count": 372,
   "metadata": {},
   "outputs": [
    {
     "data": {
      "text/plain": [
       "Text(0.5, 1.0, 'Actual vs predicted')"
      ]
     },
     "execution_count": 372,
     "metadata": {},
     "output_type": "execute_result"
    },
    {
     "data": {
      "image/png": "[encoded data removed]",
      "text/plain": [
       "<Figure size 432x288 with 1 Axes>"
      ]
     },
     "metadata": {},
     "output_type": "display_data"
    }
   ],
   "source": [
    "y_pred= regr.predict(test_x)\n",
    "residuals = test_y - y_pred\n",
    "plt.scatter(x=test_y, y=y_pred,color = 'navy')\n",
    "plt.plot(test_y, test_y,color = 'cyan')\n",
    "plt.xlabel('Actual')\n",
    "plt.xlabel('predicted')\n",
    "plt.title('Actual vs predicted')"
   ]
  },
  {
   "cell_type": "code",
   "execution_count": 373,
   "metadata": {},
   "outputs": [
    {
     "data": {
      "image/png": "[encoded data removed]",
      "text/plain": [
       "<Figure size 432x288 with 1 Axes>"
      ]
     },
     "metadata": {},
     "output_type": "display_data"
    }
   ],
   "source": [
    "plt.style.use('ggplot')\n",
    "plt.ylabel('count of residuals')\n",
    "plt.xlabel('Delay')\n",
    "plt.hist(residuals, bins='auto')\n",
    "plt.title(\"Histogram of Residuals from Random_Forrest with auto bins\")\n",
    "plt.show()"
   ]
  },
  {
   "cell_type": "code",
   "execution_count": 374,
   "metadata": {},
   "outputs": [
    {
     "data": {
      "image/png": "[encoded data removed]",
      "text/plain": [
       "<Figure size 432x288 with 1 Axes>"
      ]
     },
     "metadata": {},
     "output_type": "display_data"
    }
   ],
   "source": [
    "plt.style.use('ggplot')\n",
    "plt.ylabel('Count of residuals')\n",
    "plt.xlabel('Delay')\n",
    "plt.title(\"Histogram with auto bins\")\n",
    "density, bins, _ = plt.hist(residuals, bins='auto')\n",
    "count, _ = np.histogram(residuals, bins)\n",
    "for x,y,num in zip(bins, density, count):\n",
    "    if num != 0:\n",
    "        plt.text(x, y+0.05, num, fontsize=12, rotation=0) # x,y,str"
   ]
  },
  {
   "cell_type": "code",
   "execution_count": null,
   "metadata": {},
   "outputs": [],
   "source": []
  },
  {
   "cell_type": "markdown",
   "metadata": {},
   "source": [
    "#### GridSearch for Linear Regression"
   ]
  },
  {
   "cell_type": "code",
   "execution_count": 375,
   "metadata": {},
   "outputs": [
    {
     "name": "stdout",
     "output_type": "stream",
     "text": [
      "LinearRegression(fit_intercept=False, normalize=True)\n",
      "{'copy_X': True, 'fit_intercept': False, 'normalize': True}\n"
     ]
    },
    {
     "data": {
      "text/plain": [
       "<bound method BaseSearchCV.score of GridSearchCV(cv=10, estimator=LinearRegression(),\n",
       "             param_grid={'copy_X': [True, False],\n",
       "                         'fit_intercept': [True, False],\n",
       "                         'normalize': [True, False]})>"
      ]
     },
     "execution_count": 375,
     "metadata": {},
     "output_type": "execute_result"
    }
   ],
   "source": [
    "param_grid = {'fit_intercept':[True,False], 'normalize':[True,False], 'copy_X':[True,False]}\n",
    "grid_search = GridSearchCV(LinearRegression(), param_grid, cv = 10)\n",
    "grid_search.fit(train_x, train_y)\n",
    "\n",
    "bestModel = grid_search.best_estimator_\n",
    "bestParameters = grid_search.best_params_\n",
    "gridScores = grid_search.score\n",
    "print(bestModel)\n",
    "print(bestParameters)\n",
    "gridScores"
   ]
  },
  {
   "cell_type": "code",
   "execution_count": 376,
   "metadata": {},
   "outputs": [
    {
     "name": "stdout",
     "output_type": "stream",
     "text": [
      "-0.033196781480207126\n",
      "0.046465343488724255\n",
      "[-0.11408195 -0.02309961 -0.00388893 -0.11672926  0.00725003  0.00220283\n",
      " -0.03721935  0.01808032 -0.06028437 -0.00419754]\n"
     ]
    },
    {
     "data": {
      "text/plain": [
       "-0.03876884941445624"
      ]
     },
     "execution_count": 376,
     "metadata": {},
     "output_type": "execute_result"
    }
   ],
   "source": [
    "regressor = LinearRegression(fit_intercept=bestParameters.get('fit_intercept'),\n",
    "                             normalize=bestParameters.get('normalize'), \n",
    "                             copy_X=bestParameters.get('copy_X'))  \n",
    "regressor.fit(train_x, train_y)\n",
    "folds = KFold(n_splits = 10, shuffle = True, random_state = 1234)\n",
    "scores = cross_val_score(regressor, df.drop('DELAY', axis=1), df['DELAY'], cv=folds,scoring='r2')\n",
    "y_pred = cross_val_predict(regressor, df.drop('DELAY', axis=1), df['DELAY'], cv=folds)\n",
    "print(scores.mean())\n",
    "print(scores.std())\n",
    "print(scores)\n",
    "\n",
    "\n",
    "y_pred_Linear_Regression = regressor.predict(test_x)\n",
    "regressor.score(test_x,test_y)"
   ]
  },
  {
   "cell_type": "code",
   "execution_count": 377,
   "metadata": {},
   "outputs": [
    {
     "name": "stdout",
     "output_type": "stream",
     "text": [
      "Mean Absolute Error (MAE): 77.96403596710873\n",
      "Mean Squared Error (MSE): 18690.510781717196\n",
      "Root Mean Squared Error (RMSE): 136.71324289079385\n",
      "Explained Variance Score: -0.038249283104409226\n",
      "Max Error: 1687.0910421285694\n",
      "Median Absolute Error: 57.73687909190157\n",
      "R^2: -0.03876884941445624\n"
     ]
    }
   ],
   "source": [
    "y_pred= y_pred_Linear_Regression\n",
    "y_true=test_y\n",
    "print('Mean Absolute Error (MAE):', metrics.mean_absolute_error(y_true, y_pred))\n",
    "print('Mean Squared Error (MSE):', metrics.mean_squared_error(y_true, y_pred))\n",
    "print('Root Mean Squared Error (RMSE):', metrics.mean_squared_error(y_true, y_pred, squared=False))\n",
    "print('Explained Variance Score:', metrics.explained_variance_score(y_true, y_pred))\n",
    "print('Max Error:', metrics.max_error(y_true, y_pred))\n",
    "print('Median Absolute Error:', metrics.median_absolute_error(y_true, y_pred))\n",
    "print('R^2:', metrics.r2_score(y_true, y_pred))"
   ]
  },
  {
   "cell_type": "code",
   "execution_count": 378,
   "metadata": {},
   "outputs": [
    {
     "data": {
      "text/plain": [
       "<AxesSubplot:title={'center':'Residuals'}, xlabel='DELAY', ylabel='DELAY'>"
      ]
     },
     "execution_count": 378,
     "metadata": {},
     "output_type": "execute_result"
    },
    {
     "data": {
      "image/png": "[encoded data removed]",
      "text/plain": [
       "<Figure size 432x288 with 1 Axes>"
      ]
     },
     "metadata": {},
     "output_type": "display_data"
    }
   ],
   "source": [
    "residuals = test_y - y_pred\n",
    "plt.title('Residuals')\n",
    "sns.residplot(x=test_y, y=residuals, lowess=True, color=\"blue\")"
   ]
  },
  {
   "cell_type": "code",
   "execution_count": 379,
   "metadata": {},
   "outputs": [
    {
     "data": {
      "text/plain": [
       "Text(0.5, 1.0, 'Actual vs predicted')"
      ]
     },
     "execution_count": 379,
     "metadata": {},
     "output_type": "execute_result"
    },
    {
     "data": {
      "image/png": "[encoded data removed]",
      "text/plain": [
       "<Figure size 432x288 with 1 Axes>"
      ]
     },
     "metadata": {},
     "output_type": "display_data"
    }
   ],
   "source": [
    "y_pred= regressor.predict(test_x)\n",
    "residuals = test_y - y_pred\n",
    "plt.scatter(x=test_y, y=y_pred,color = 'navy')\n",
    "plt.plot(test_y, test_y,color = 'cyan')\n",
    "plt.title('Actual vs predicted')"
   ]
  },
  {
   "cell_type": "code",
   "execution_count": 380,
   "metadata": {},
   "outputs": [
    {
     "data": {
      "image/png": "[encoded data removed]",
      "text/plain": [
       "<Figure size 432x288 with 1 Axes>"
      ]
     },
     "metadata": {},
     "output_type": "display_data"
    }
   ],
   "source": [
    "plt.style.use('ggplot')\n",
    "plt.ylabel('count of residuals')\n",
    "plt.xlabel('Delay')\n",
    "plt.hist(residuals, bins='auto')\n",
    "plt.title(\"Histogram of Residuals from Linear Regression with auto bins\")\n",
    "plt.show()"
   ]
  },
  {
   "cell_type": "code",
   "execution_count": 381,
   "metadata": {},
   "outputs": [
    {
     "data": {
      "image/png": "[encoded data removed]",
      "text/plain": [
       "<Figure size 432x288 with 1 Axes>"
      ]
     },
     "metadata": {},
     "output_type": "display_data"
    }
   ],
   "source": [
    "plt.style.use('ggplot')\n",
    "plt.ylabel('Count of residuals')\n",
    "plt.xlabel('Delay')\n",
    "plt.title(\"Histogram with auto bins\")\n",
    "density, bins, _ = plt.hist(residuals, bins='auto')\n",
    "count, _ = np.histogram(residuals, bins)\n",
    "for x,y,num in zip(bins, density, count):\n",
    "    if num != 0:\n",
    "        plt.text(x, y+0.05, num, fontsize=12, rotation=0) # x,y,str"
   ]
  },
  {
   "cell_type": "code",
   "execution_count": null,
   "metadata": {},
   "outputs": [],
   "source": []
  },
  {
   "cell_type": "markdown",
   "metadata": {},
   "source": [
    "#### GridsearchCV for SVR"
   ]
  },
  {
   "cell_type": "code",
   "execution_count": 382,
   "metadata": {},
   "outputs": [
    {
     "name": "stdout",
     "output_type": "stream",
     "text": [
      "SVR(C=100, gamma=0.001)\n",
      "{'C': 100, 'gamma': 0.001}\n"
     ]
    },
    {
     "data": {
      "text/plain": [
       "<bound method BaseSearchCV.score of GridSearchCV(cv=10, estimator=SVR(),\n",
       "             param_grid={'C': [0.001, 0.01, 10, 100],\n",
       "                         'gamma': [0.001, 0.01, 0.1, 0.001]})>"
      ]
     },
     "execution_count": 382,
     "metadata": {},
     "output_type": "execute_result"
    }
   ],
   "source": [
    "from sklearn.svm import SVR\n",
    "from sklearn.model_selection import GridSearchCV\n",
    "\n",
    "param_grid = {'C': [0.001, 0.01, 10, 100], 'gamma' : [0.001, 0.01, 0.1, 0.001]}\n",
    "grid_search = GridSearchCV(SVR(), param_grid, cv = 10)\n",
    "grid_search.fit(train_x, train_y)\n",
    "\n",
    "bestModel = grid_search.best_estimator_\n",
    "bestParameters = grid_search.best_params_\n",
    "gridScores = grid_search.score\n",
    "print(bestModel)\n",
    "print(bestParameters)\n",
    "gridScores"
   ]
  },
  {
   "cell_type": "markdown",
   "metadata": {},
   "source": [
    "#### SVR"
   ]
  },
  {
   "cell_type": "code",
   "execution_count": 383,
   "metadata": {},
   "outputs": [
    {
     "name": "stdout",
     "output_type": "stream",
     "text": [
      "0.013617204025705255\n",
      "0.05174543629271368\n",
      "[ 0.03185612  0.04192177 -0.07714348  0.02321539 -0.00449725 -0.02662068\n",
      "  0.09393635 -0.0396832   0.09074255  0.00244447]\n"
     ]
    },
    {
     "data": {
      "text/plain": [
       "-0.025128674619670832"
      ]
     },
     "execution_count": 383,
     "metadata": {},
     "output_type": "execute_result"
    }
   ],
   "source": [
    "svr_rbf = SVR(kernel='rbf', \n",
    "              C=bestParameters.get('C'),\n",
    "              gamma=bestParameters.get('gamma'), epsilon=1)\n",
    "svr_rbf.fit(train_x, train_y)\n",
    "folds = KFold(n_splits = 10, shuffle = True, random_state = 1234)\n",
    "scores = cross_val_score(svr_rbf, df.drop('DELAY', axis=1), df['DELAY'], cv=folds,scoring='r2')\n",
    "y_pred = cross_val_predict(svr_rbf, df.drop('DELAY', axis=1), df['DELAY'], cv=folds)\n",
    "print(scores.mean())\n",
    "print(scores.std())\n",
    "print(scores)\n",
    "y_pred_svr = svr_rbf.predict(test_x)\n",
    "svr_rbf.score(test_x,test_y)"
   ]
  },
  {
   "cell_type": "code",
   "execution_count": 384,
   "metadata": {},
   "outputs": [
    {
     "name": "stdout",
     "output_type": "stream",
     "text": [
      "Mean Absolute Error (MAE): 71.96194776275965\n",
      "Mean Squared Error (MSE): 18445.083866759018\n",
      "Root Mean Squared Error (RMSE): 135.8126793298734\n",
      "Explained Variance Score: -0.006915502102068816\n",
      "Max Error: 1781.9597275959532\n",
      "Median Absolute Error: 49.19705980288143\n",
      "R^2: -0.025128674619670832\n"
     ]
    }
   ],
   "source": [
    "y_pred= y_pred_svr\n",
    "y_true=test_y\n",
    "print('Mean Absolute Error (MAE):', metrics.mean_absolute_error(y_true, y_pred))\n",
    "print('Mean Squared Error (MSE):', metrics.mean_squared_error(y_true, y_pred))\n",
    "print('Root Mean Squared Error (RMSE):', metrics.mean_squared_error(y_true, y_pred, squared=False))\n",
    "print('Explained Variance Score:', metrics.explained_variance_score(y_true, y_pred))\n",
    "print('Max Error:', metrics.max_error(y_true, y_pred))\n",
    "print('Median Absolute Error:', metrics.median_absolute_error(y_true, y_pred))\n",
    "print('R^2:', metrics.r2_score(y_true, y_pred))"
   ]
  },
  {
   "cell_type": "code",
   "execution_count": 385,
   "metadata": {},
   "outputs": [
    {
     "data": {
      "text/plain": [
       "<AxesSubplot:title={'center':'Residuals'}, xlabel='DELAY', ylabel='DELAY'>"
      ]
     },
     "execution_count": 385,
     "metadata": {},
     "output_type": "execute_result"
    },
    {
     "data": {
      "image/png": "[encoded data removed]",
      "text/plain": [
       "<Figure size 432x288 with 1 Axes>"
      ]
     },
     "metadata": {},
     "output_type": "display_data"
    }
   ],
   "source": [
    "residuals = test_y - y_pred\n",
    "plt.title('Residuals')\n",
    "sns.residplot(x=test_y, y=residuals, lowess=True, color=\"blue\")"
   ]
  },
  {
   "cell_type": "code",
   "execution_count": 386,
   "metadata": {},
   "outputs": [
    {
     "data": {
      "text/plain": [
       "Text(0.5, 1.0, 'Actual vs predicted')"
      ]
     },
     "execution_count": 386,
     "metadata": {},
     "output_type": "execute_result"
    },
    {
     "data": {
      "image/png": "[encoded data removed]",
      "text/plain": [
       "<Figure size 432x288 with 1 Axes>"
      ]
     },
     "metadata": {},
     "output_type": "display_data"
    }
   ],
   "source": [
    "y_pred= svr_rbf.predict(test_x)\n",
    "residuals = test_y - y_pred\n",
    "plt.xlabel('Actual')\n",
    "plt.ylabel('Predicted')\n",
    "plt.scatter(x=test_y, y=y_pred,color = 'navy')\n",
    "plt.plot(test_y, test_y,color = 'cyan')\n",
    "plt.title('Actual vs predicted')"
   ]
  },
  {
   "cell_type": "code",
   "execution_count": 387,
   "metadata": {},
   "outputs": [
    {
     "data": {
      "image/png": "[encoded data removed]",
      "text/plain": [
       "<Figure size 432x288 with 1 Axes>"
      ]
     },
     "metadata": {},
     "output_type": "display_data"
    }
   ],
   "source": [
    "plt.style.use('ggplot')\n",
    "plt.ylabel('count of residuals')\n",
    "plt.xlabel('Delay')\n",
    "plt.hist(residuals, bins='auto')\n",
    "plt.title(\"Histogram of Residuals from SVR with auto bins\")\n",
    "plt.show()"
   ]
  },
  {
   "cell_type": "code",
   "execution_count": 388,
   "metadata": {},
   "outputs": [
    {
     "data": {
      "image/png": "[encoded data removed]",
      "text/plain": [
       "<Figure size 432x288 with 1 Axes>"
      ]
     },
     "metadata": {},
     "output_type": "display_data"
    }
   ],
   "source": [
    "plt.style.use('ggplot')\n",
    "plt.ylabel('Count of residuals')\n",
    "plt.xlabel('Delay')\n",
    "plt.title(\"Histogram with auto bins\")\n",
    "density, bins, _ = plt.hist(residuals, bins='auto')\n",
    "count, _ = np.histogram(residuals, bins)\n",
    "for x,y,num in zip(bins, density, count):\n",
    "    if num != 0:\n",
    "        plt.text(x, y+0.05, num, fontsize=12, rotation=0) # x,y,str"
   ]
  },
  {
   "cell_type": "code",
   "execution_count": null,
   "metadata": {},
   "outputs": [],
   "source": []
  },
  {
   "cell_type": "markdown",
   "metadata": {},
   "source": [
    "#### GridSearch for XGBoost model"
   ]
  },
  {
   "cell_type": "code",
   "execution_count": 389,
   "metadata": {},
   "outputs": [
    {
     "name": "stdout",
     "output_type": "stream",
     "text": [
      "XGBRegressor(base_score=0.5, booster='gbtree', colsample_bylevel=1,\n",
      "             colsample_bynode=1, colsample_bytree=1, gamma=0, gpu_id=-1,\n",
      "             importance_type='gain', interaction_constraints='',\n",
      "             learning_rate=0.300000012, max_delta_step=0, max_depth=3,\n",
      "             min_child_weight=1, missing=nan, monotone_constraints='()',\n",
      "             n_estimators=600, n_jobs=8, num_parallel_tree=1, random_state=0,\n",
      "             reg_alpha=0, reg_lambda=1, scale_pos_weight=1, subsample=1,\n",
      "             tree_method='exact', validate_parameters=1, verbosity=None)\n",
      "{'max_depth': 3, 'n_estimators': 600}\n"
     ]
    },
    {
     "data": {
      "text/plain": [
       "<bound method BaseSearchCV.score of GridSearchCV(cv=10,\n",
       "             estimator=XGBRegressor(base_score=None, booster=None,\n",
       "                                    colsample_bylevel=None,\n",
       "                                    colsample_bynode=None,\n",
       "                                    colsample_bytree=None, gamma=None,\n",
       "                                    gpu_id=None, importance_type='gain',\n",
       "                                    interaction_constraints=None,\n",
       "                                    learning_rate=None, max_delta_step=None,\n",
       "                                    max_depth=None, min_child_weight=None,\n",
       "                                    missing=nan, monotone_constraints=None,\n",
       "                                    n_estimators=100, n_jobs=None,\n",
       "                                    num_parallel_tree=None, random_state=None,\n",
       "                                    reg_alpha=None, reg_lambda=None,\n",
       "                                    scale_pos_weight=None, subsample=None,\n",
       "                                    tree_method=None, validate_parameters=None,\n",
       "                                    verbosity=None),\n",
       "             param_grid={'max_depth': [1, 2, 3, 4, 5, 6, 7, 8, 9, 10],\n",
       "                         'n_estimators': [10, 15, 20, 25, 100, 500, 600, 700,\n",
       "                                          800, 900, 1000]})>"
      ]
     },
     "execution_count": 389,
     "metadata": {},
     "output_type": "execute_result"
    }
   ],
   "source": [
    "param_grid = {'max_depth' : [1,2,3,4,5,6,7,8,9,10],\n",
    "              'n_estimators': [10,15,20,25,100,500,600,700,800,900,1000]\n",
    "             }\n",
    "grid_search = GridSearchCV(xgb.XGBRegressor(objective ='reg:squarederror'), param_grid, cv = 10)\n",
    "grid_search.fit(train_x, train_y)\n",
    "\n",
    "bestModel = grid_search.best_estimator_\n",
    "bestParameters = grid_search.best_params_\n",
    "gridScores = grid_search.score\n",
    "print(bestModel)\n",
    "print(bestParameters)\n",
    "gridScores"
   ]
  },
  {
   "cell_type": "markdown",
   "metadata": {},
   "source": [
    "#### XGBoost model"
   ]
  },
  {
   "cell_type": "code",
   "execution_count": 390,
   "metadata": {},
   "outputs": [
    {
     "name": "stdout",
     "output_type": "stream",
     "text": [
      "0.3206871942708842\n",
      "0.37023826093031825\n",
      "[-0.41949097  0.42168769  0.69875377  0.1909663   0.43576592  0.65792961\n",
      "  0.05358304  0.61321583 -0.15012595  0.7045867 ]\n",
      "0.2781235346777432\n"
     ]
    }
   ],
   "source": [
    "xg_reg = xgb.XGBRegressor(objective ='reg:squarederror', \n",
    "                          colsample_bytree = 0.8, \n",
    "                          learning_rate = 1,\n",
    "                          max_depth = bestParameters.get('max_depth'), \n",
    "                          alpha = 10, \n",
    "                          n_estimators = bestParameters.get('n_estimators'))\n",
    "xg_reg.fit(train_x,train_y)\n",
    "folds = KFold(n_splits = 10, shuffle = True, random_state = 1234)\n",
    "scores= cross_val_score(xg_reg, df.drop('DELAY', axis=1), df['DELAY'], cv=folds,scoring='r2')\n",
    "y_pred = cross_val_predict(xg_reg, df.drop('DELAY', axis=1), df['DELAY'], cv=folds)\n",
    "print(scores.mean())\n",
    "print(scores.std())\n",
    "print(scores)\n",
    "\n",
    "preds_y = xg_reg.predict(test_x)\n",
    "rmse = np.sqrt(mean_squared_error(test_y, preds_y))\n",
    "print(xg_reg.score(test_x,test_y))"
   ]
  },
  {
   "cell_type": "code",
   "execution_count": 391,
   "metadata": {},
   "outputs": [
    {
     "name": "stdout",
     "output_type": "stream",
     "text": [
      "Mean Absolute Error (MAE): 76.94975507855415\n",
      "Mean Squared Error (MSE): 12988.683541847624\n",
      "Root Mean Squared Error (RMSE): 113.96790575353933\n",
      "Explained Variance Score: 0.27846112202537343\n",
      "Max Error: 1395.849998474121\n",
      "Median Absolute Error: 57.93309783935547\n",
      "R^2: 0.2781235346777432\n"
     ]
    }
   ],
   "source": [
    "y_pred= preds_y\n",
    "y_true=test_y\n",
    "print('Mean Absolute Error (MAE):', metrics.mean_absolute_error(y_true, y_pred))\n",
    "print('Mean Squared Error (MSE):', metrics.mean_squared_error(y_true, y_pred))\n",
    "print('Root Mean Squared Error (RMSE):', metrics.mean_squared_error(y_true, y_pred, squared=False))\n",
    "print('Explained Variance Score:', metrics.explained_variance_score(y_true, y_pred))\n",
    "print('Max Error:', metrics.max_error(y_true, y_pred))\n",
    "print('Median Absolute Error:', metrics.median_absolute_error(y_true, y_pred))\n",
    "print('R^2:', metrics.r2_score(y_true, y_pred))"
   ]
  },
  {
   "cell_type": "code",
   "execution_count": 392,
   "metadata": {},
   "outputs": [
    {
     "data": {
      "text/plain": [
       "<AxesSubplot:title={'center':'Residuals'}, xlabel='DELAY', ylabel='DELAY'>"
      ]
     },
     "execution_count": 392,
     "metadata": {},
     "output_type": "execute_result"
    },
    {
     "data": {
      "image/png": "[encoded data removed]",
      "text/plain": [
       "<Figure size 432x288 with 1 Axes>"
      ]
     },
     "metadata": {},
     "output_type": "display_data"
    }
   ],
   "source": [
    "residuals = test_y - y_pred\n",
    "plt.title('Residuals')\n",
    "sns.residplot(x=test_y, y=residuals, lowess=True, color=\"blue\")"
   ]
  },
  {
   "cell_type": "code",
   "execution_count": 393,
   "metadata": {},
   "outputs": [
    {
     "data": {
      "text/plain": [
       "Text(0.5, 1.0, 'Actual vs predicted')"
      ]
     },
     "execution_count": 393,
     "metadata": {},
     "output_type": "execute_result"
    },
    {
     "data": {
      "image/png": "[encoded data removed]",
      "text/plain": [
       "<Figure size 432x288 with 1 Axes>"
      ]
     },
     "metadata": {},
     "output_type": "display_data"
    }
   ],
   "source": [
    "y_pred= xg_reg.predict(test_x)\n",
    "residuals = test_y - y_pred\n",
    "plt.scatter(x=test_y, y=y_pred,color = 'navy')\n",
    "plt.plot(test_y, test_y,color = 'cyan')\n",
    "plt.title('Actual vs predicted')"
   ]
  },
  {
   "cell_type": "code",
   "execution_count": 394,
   "metadata": {},
   "outputs": [
    {
     "data": {
      "image/png": "[encoded data removed]",
      "text/plain": [
       "<Figure size 432x288 with 1 Axes>"
      ]
     },
     "metadata": {},
     "output_type": "display_data"
    }
   ],
   "source": [
    "plt.style.use('ggplot')\n",
    "plt.ylabel('count of residuals')\n",
    "plt.xlabel('Delay')\n",
    "plt.hist(residuals, bins='auto')\n",
    "plt.title(\"Histogram with auto bins\")\n",
    "plt.show()"
   ]
  },
  {
   "cell_type": "code",
   "execution_count": 395,
   "metadata": {},
   "outputs": [
    {
     "data": {
      "image/png": "[encoded data removed]",
      "text/plain": [
       "<Figure size 432x288 with 1 Axes>"
      ]
     },
     "metadata": {},
     "output_type": "display_data"
    }
   ],
   "source": [
    "plt.style.use('ggplot')\n",
    "plt.ylabel('Count of residuals')\n",
    "plt.xlabel('Delay')\n",
    "plt.title(\"Histogram with auto bins\")\n",
    "density, bins, _ = plt.hist(residuals, bins='auto')\n",
    "count, _ = np.histogram(residuals, bins)\n",
    "for x,y,num in zip(bins, density, count):\n",
    "    if num != 0:\n",
    "        plt.text(x, y+0.05, num, fontsize=12, rotation=0) # x,y,str"
   ]
  },
  {
   "cell_type": "code",
   "execution_count": null,
   "metadata": {},
   "outputs": [],
   "source": []
  },
  {
   "cell_type": "markdown",
   "metadata": {},
   "source": [
    "#### GridSearch for DecisionTree"
   ]
  },
  {
   "cell_type": "code",
   "execution_count": 396,
   "metadata": {},
   "outputs": [
    {
     "name": "stdout",
     "output_type": "stream",
     "text": [
      "MLPRegressor Grid Search with non-redundant variables took [ 0:00:08.256398 ] seconds.\n"
     ]
    }
   ],
   "source": [
    "startTimeGS = datetime.now()\n",
    "param_grid = {'criterion':['mse', 'friedman_mse', 'mae'],\n",
    "              'splitter':['best','random']}\n",
    "\n",
    "grid_rf = GridSearchCV(DecisionTreeRegressor(random_state =  0), param_grid, cv=10)\n",
    "grid_rf.fit(train_x, train_y)\n",
    "bestModel = grid_rf.best_estimator_\n",
    "bestParameters = grid_rf.best_params_\n",
    "gridScores = grid_rf.score\n",
    "print('MLPRegressor Grid Search with non-redundant variables took [', datetime.now() - startTimeGS, '] seconds.')"
   ]
  },
  {
   "cell_type": "code",
   "execution_count": 397,
   "metadata": {},
   "outputs": [
    {
     "name": "stdout",
     "output_type": "stream",
     "text": [
      "DecisionTreeRegressor(criterion='friedman_mse', random_state=0)\n",
      "{'criterion': 'friedman_mse', 'splitter': 'best'}\n"
     ]
    },
    {
     "data": {
      "text/plain": [
       "<bound method BaseSearchCV.score of GridSearchCV(cv=10, estimator=DecisionTreeRegressor(random_state=0),\n",
       "             param_grid={'criterion': ['mse', 'friedman_mse', 'mae'],\n",
       "                         'splitter': ['best', 'random']})>"
      ]
     },
     "execution_count": 397,
     "metadata": {},
     "output_type": "execute_result"
    }
   ],
   "source": [
    "print(bestModel)\n",
    "print(bestParameters)\n",
    "gridScores"
   ]
  },
  {
   "cell_type": "markdown",
   "metadata": {},
   "source": [
    "#### DecisionTree"
   ]
  },
  {
   "cell_type": "code",
   "execution_count": 398,
   "metadata": {},
   "outputs": [
    {
     "name": "stdout",
     "output_type": "stream",
     "text": [
      "-0.023936528750638963\n",
      "0.46420737894918\n",
      "[ 0.19379799  0.21122918  0.64853883  0.12991388 -0.17125066  0.34111105\n",
      "  0.08431682 -0.37309683 -1.15138934 -0.15253622]\n"
     ]
    },
    {
     "data": {
      "text/plain": [
       "0.25344450460304935"
      ]
     },
     "execution_count": 398,
     "metadata": {},
     "output_type": "execute_result"
    }
   ],
   "source": [
    "regr = DecisionTreeRegressor(criterion = bestParameters.get('criterion'),\n",
    "                             splitter = bestParameters.get('splitter'))\n",
    "regr.fit(train_x, train_y)\n",
    "folds = KFold(n_splits = 10, shuffle = True, random_state = 1234)\n",
    "scores = cross_val_score(regr, df.drop('DELAY', axis=1), df['DELAY'], cv=folds,scoring='r2')\n",
    "y_pred = cross_val_predict(regr, df.drop('DELAY', axis=1), df['DELAY'], cv=folds)\n",
    "print(scores.mean())\n",
    "print(scores.std())\n",
    "print(scores)\n",
    "\n",
    "\n",
    "y_pred_svr = regr.predict(test_x)\n",
    "regr.score(test_x,test_y)"
   ]
  },
  {
   "cell_type": "code",
   "execution_count": 399,
   "metadata": {},
   "outputs": [
    {
     "name": "stdout",
     "output_type": "stream",
     "text": [
      "Mean Absolute Error (MAE): 66.14421768707483\n",
      "Mean Squared Error (MSE): 13432.731972789115\n",
      "Root Mean Squared Error (RMSE): 115.89966338514152\n",
      "Explained Variance Score: 0.2536232166749184\n",
      "Max Error: 1298.0\n",
      "Median Absolute Error: 41.0\n",
      "R^2: 0.25344450460304935\n"
     ]
    }
   ],
   "source": [
    "y_pred= y_pred_svr\n",
    "y_true=test_y\n",
    "print('Mean Absolute Error (MAE):', metrics.mean_absolute_error(y_true, y_pred))\n",
    "print('Mean Squared Error (MSE):', metrics.mean_squared_error(y_true, y_pred))\n",
    "print('Root Mean Squared Error (RMSE):', metrics.mean_squared_error(y_true, y_pred, squared=False))\n",
    "print('Explained Variance Score:', metrics.explained_variance_score(y_true, y_pred))\n",
    "print('Max Error:', metrics.max_error(y_true, y_pred))\n",
    "print('Median Absolute Error:', metrics.median_absolute_error(y_true, y_pred))\n",
    "print('R^2:', metrics.r2_score(y_true, y_pred))"
   ]
  },
  {
   "cell_type": "code",
   "execution_count": 400,
   "metadata": {},
   "outputs": [
    {
     "data": {
      "text/plain": [
       "<AxesSubplot:title={'center':'Residuals'}, xlabel='DELAY', ylabel='DELAY'>"
      ]
     },
     "execution_count": 400,
     "metadata": {},
     "output_type": "execute_result"
    },
    {
     "data": {
      "image/png": "[encoded data removed]",
      "text/plain": [
       "<Figure size 432x288 with 1 Axes>"
      ]
     },
     "metadata": {},
     "output_type": "display_data"
    }
   ],
   "source": [
    "residuals = test_y - y_pred\n",
    "plt.title('Residuals')\n",
    "sns.residplot(x=test_y, y=residuals, lowess=True, color=\"blue\")"
   ]
  },
  {
   "cell_type": "code",
   "execution_count": 401,
   "metadata": {},
   "outputs": [
    {
     "data": {
      "text/plain": [
       "Text(0.5, 1.0, 'Actual vs predicted')"
      ]
     },
     "execution_count": 401,
     "metadata": {},
     "output_type": "execute_result"
    },
    {
     "data": {
      "image/png": "[encoded data removed]",
      "text/plain": [
       "<Figure size 432x288 with 1 Axes>"
      ]
     },
     "metadata": {},
     "output_type": "display_data"
    }
   ],
   "source": [
    "y_pred= regr.predict(test_x)\n",
    "residuals = test_y - y_pred\n",
    "plt.scatter(x=test_y, y=y_pred,color = 'navy')\n",
    "plt.plot(test_y, test_y,color = 'cyan')\n",
    "plt.title('Actual vs predicted')"
   ]
  },
  {
   "cell_type": "code",
   "execution_count": 402,
   "metadata": {},
   "outputs": [
    {
     "data": {
      "image/png": "[encoded data removed]",
      "text/plain": [
       "<Figure size 432x288 with 1 Axes>"
      ]
     },
     "metadata": {},
     "output_type": "display_data"
    }
   ],
   "source": [
    "plt.style.use('ggplot')\n",
    "plt.ylabel('count of residuals')\n",
    "plt.xlabel('Delay')\n",
    "plt.hist(residuals, bins='auto')\n",
    "plt.title(\"Histogram with auto bins\")\n",
    "plt.show()"
   ]
  },
  {
   "cell_type": "code",
   "execution_count": 403,
   "metadata": {},
   "outputs": [
    {
     "data": {
      "image/png": "[encoded data removed]",
      "text/plain": [
       "<Figure size 432x288 with 1 Axes>"
      ]
     },
     "metadata": {},
     "output_type": "display_data"
    }
   ],
   "source": [
    "plt.style.use('ggplot')\n",
    "plt.ylabel('Count of residuals')\n",
    "plt.xlabel('Delay')\n",
    "plt.title(\"Histogram with auto bins\")\n",
    "density, bins, _ = plt.hist(residuals, bins='auto')\n",
    "count, _ = np.histogram(residuals, bins)\n",
    "for x,y,num in zip(bins, density, count):\n",
    "    if num != 0:\n",
    "        plt.text(x, y+0.05, num, fontsize=12, rotation=0) # x,y,str"
   ]
  },
  {
   "cell_type": "code",
   "execution_count": null,
   "metadata": {},
   "outputs": [],
   "source": []
  },
  {
   "cell_type": "code",
   "execution_count": null,
   "metadata": {},
   "outputs": [],
   "source": []
  },
  {
   "cell_type": "code",
   "execution_count": null,
   "metadata": {},
   "outputs": [],
   "source": []
  },
  {
   "cell_type": "code",
   "execution_count": null,
   "metadata": {},
   "outputs": [],
   "source": []
  }
 ],
 "metadata": {
  "kernelspec": {
   "display_name": "Python 3",
   "language": "python",
   "name": "python3"
  },
  "language_info": {
   "codemirror_mode": {
    "name": "ipython",
    "version": 3
   },
   "file_extension": ".py",
   "mimetype": "text/x-python",
   "name": "python",
   "nbconvert_exporter": "python",
   "pygments_lexer": "ipython3",
   "version": "3.8.5"
  }
 },
 "nbformat": 4,
 "nbformat_minor": 4
}
