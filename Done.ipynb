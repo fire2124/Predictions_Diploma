{
 "cells": [
  {
   "cell_type": "code",
   "execution_count": 1,
   "metadata": {},
   "outputs": [],
   "source": [
    "import pandas as pd\n",
    "import numpy as np\n",
    "from matplotlib import pyplot as plt\n",
    "from sklearn.ensemble import RandomForestRegressor\n",
    "from sklearn.model_selection import train_test_split,GridSearchCV, cross_val_score,KFold\n",
    "from datetime import datetime\n",
    "from sklearn.metrics import r2_score,mean_squared_error,roc_curve,confusion_matrix\n",
    "from sklearn.preprocessing import LabelEncoder\n",
    "from sklearn import svm\n",
    "from sklearn.decomposition import PCA\n",
    "import seaborn \n",
    "import xgboost as xgb"
   ]
  },
  {
   "cell_type": "code",
   "execution_count": 2,
   "metadata": {},
   "outputs": [
    {
     "data": {
      "text/html": [
       "<div>\n",
       "<style scoped>\n",
       "    .dataframe tbody tr th:only-of-type {\n",
       "        vertical-align: middle;\n",
       "    }\n",
       "\n",
       "    .dataframe tbody tr th {\n",
       "        vertical-align: top;\n",
       "    }\n",
       "\n",
       "    .dataframe thead th {\n",
       "        text-align: right;\n",
       "    }\n",
       "</style>\n",
       "<table border=\"1\" class=\"dataframe\">\n",
       "  <thead>\n",
       "    <tr style=\"text-align: right;\">\n",
       "      <th></th>\n",
       "      <th>lon</th>\n",
       "      <th>lat</th>\n",
       "      <th>ROUTE_NUMBER</th>\n",
       "      <th>Trip</th>\n",
       "      <th>TripTime</th>\n",
       "      <th>vehicleID</th>\n",
       "      <th>lastStopOrder</th>\n",
       "      <th>lineID</th>\n",
       "      <th>lineType</th>\n",
       "      <th>DELAY</th>\n",
       "      <th>Current_Stop</th>\n",
       "      <th>Current_Stop_ID</th>\n",
       "      <th>Current_Time</th>\n",
       "      <th>Current_Day</th>\n",
       "      <th>Current_Hour</th>\n",
       "      <th>Current_Minutes</th>\n",
       "      <th>Current_Seconds</th>\n",
       "      <th>destination</th>\n",
       "      <th>Dir</th>\n",
       "    </tr>\n",
       "  </thead>\n",
       "  <tbody>\n",
       "    <tr>\n",
       "      <th>0</th>\n",
       "      <td>21.44037</td>\n",
       "      <td>49.06720</td>\n",
       "      <td>707444</td>\n",
       "      <td>126</td>\n",
       "      <td>940</td>\n",
       "      <td>1007803948</td>\n",
       "      <td>10</td>\n",
       "      <td>1007040415</td>\n",
       "      <td>2</td>\n",
       "      <td>-244</td>\n",
       "      <td>Chmeľov,  nám.</td>\n",
       "      <td>881</td>\n",
       "      <td>1614091077437</td>\n",
       "      <td>23</td>\n",
       "      <td>15</td>\n",
       "      <td>37</td>\n",
       "      <td>57</td>\n",
       "      <td>Prešov, AS</td>\n",
       "      <td>0</td>\n",
       "    </tr>\n",
       "    <tr>\n",
       "      <th>1</th>\n",
       "      <td>21.06271</td>\n",
       "      <td>49.09058</td>\n",
       "      <td>708461</td>\n",
       "      <td>24</td>\n",
       "      <td>940</td>\n",
       "      <td>1007804597</td>\n",
       "      <td>21</td>\n",
       "      <td>1007040439</td>\n",
       "      <td>2</td>\n",
       "      <td>-262</td>\n",
       "      <td>Uzovský Šalgov</td>\n",
       "      <td>169</td>\n",
       "      <td>1614091077437</td>\n",
       "      <td>23</td>\n",
       "      <td>15</td>\n",
       "      <td>37</td>\n",
       "      <td>57</td>\n",
       "      <td>Sabinov, AS</td>\n",
       "      <td>0</td>\n",
       "    </tr>\n",
       "    <tr>\n",
       "      <th>2</th>\n",
       "      <td>21.40102</td>\n",
       "      <td>49.15612</td>\n",
       "      <td>701411</td>\n",
       "      <td>48</td>\n",
       "      <td>940</td>\n",
       "      <td>1007802497</td>\n",
       "      <td>3</td>\n",
       "      <td>1007040359</td>\n",
       "      <td>2</td>\n",
       "      <td>-226</td>\n",
       "      <td>Koprivnica, Jednota</td>\n",
       "      <td>404</td>\n",
       "      <td>1614091107428</td>\n",
       "      <td>23</td>\n",
       "      <td>15</td>\n",
       "      <td>38</td>\n",
       "      <td>27</td>\n",
       "      <td>Bardejov, AS</td>\n",
       "      <td>0</td>\n",
       "    </tr>\n",
       "    <tr>\n",
       "      <th>3</th>\n",
       "      <td>21.45097</td>\n",
       "      <td>48.88978</td>\n",
       "      <td>707403</td>\n",
       "      <td>54</td>\n",
       "      <td>940</td>\n",
       "      <td>1007803118</td>\n",
       "      <td>1</td>\n",
       "      <td>1007040396</td>\n",
       "      <td>2</td>\n",
       "      <td>-203</td>\n",
       "      <td>Červenica, horný koniec</td>\n",
       "      <td>1073</td>\n",
       "      <td>1614091107428</td>\n",
       "      <td>23</td>\n",
       "      <td>15</td>\n",
       "      <td>38</td>\n",
       "      <td>27</td>\n",
       "      <td>Prešov, AS</td>\n",
       "      <td>0</td>\n",
       "    </tr>\n",
       "    <tr>\n",
       "      <th>4</th>\n",
       "      <td>21.06271</td>\n",
       "      <td>49.09058</td>\n",
       "      <td>708461</td>\n",
       "      <td>24</td>\n",
       "      <td>940</td>\n",
       "      <td>1007804597</td>\n",
       "      <td>21</td>\n",
       "      <td>1007040439</td>\n",
       "      <td>2</td>\n",
       "      <td>-262</td>\n",
       "      <td>Uzovský Šalgov</td>\n",
       "      <td>169</td>\n",
       "      <td>1614091107428</td>\n",
       "      <td>23</td>\n",
       "      <td>15</td>\n",
       "      <td>38</td>\n",
       "      <td>27</td>\n",
       "      <td>Sabinov, AS</td>\n",
       "      <td>0</td>\n",
       "    </tr>\n",
       "  </tbody>\n",
       "</table>\n",
       "</div>"
      ],
      "text/plain": [
       "        lon       lat  ROUTE_NUMBER  Trip  TripTime   vehicleID  \\\n",
       "0  21.44037  49.06720        707444   126       940  1007803948   \n",
       "1  21.06271  49.09058        708461    24       940  1007804597   \n",
       "2  21.40102  49.15612        701411    48       940  1007802497   \n",
       "3  21.45097  48.88978        707403    54       940  1007803118   \n",
       "4  21.06271  49.09058        708461    24       940  1007804597   \n",
       "\n",
       "   lastStopOrder      lineID  lineType  DELAY              Current_Stop  \\\n",
       "0             10  1007040415         2   -244           Chmeľov,  nám.    \n",
       "1             21  1007040439         2   -262            Uzovský Šalgov   \n",
       "2              3  1007040359         2   -226       Koprivnica, Jednota   \n",
       "3              1  1007040396         2   -203  Červenica, horný koniec    \n",
       "4             21  1007040439         2   -262            Uzovský Šalgov   \n",
       "\n",
       "   Current_Stop_ID   Current_Time  Current_Day  Current_Hour  Current_Minutes  \\\n",
       "0              881  1614091077437           23            15               37   \n",
       "1              169  1614091077437           23            15               37   \n",
       "2              404  1614091107428           23            15               38   \n",
       "3             1073  1614091107428           23            15               38   \n",
       "4              169  1614091107428           23            15               38   \n",
       "\n",
       "   Current_Seconds   destination  Dir  \n",
       "0               57    Prešov, AS    0  \n",
       "1               57   Sabinov, AS    0  \n",
       "2               27  Bardejov, AS    0  \n",
       "3               27    Prešov, AS    0  \n",
       "4               27   Sabinov, AS    0  "
      ]
     },
     "execution_count": 2,
     "metadata": {},
     "output_type": "execute_result"
    }
   ],
   "source": [
    "df = pd.read_csv('predictionQuery.csv')\n",
    "df = df.head(20000)\n",
    "df.head()"
   ]
  },
  {
   "cell_type": "code",
   "execution_count": 3,
   "metadata": {},
   "outputs": [
    {
     "data": {
      "text/plain": [
       "[('ROUTE_NUMBER', 'vehicleID'),\n",
       " ('ROUTE_NUMBER', 'lineID'),\n",
       " ('TripTime', 'Current_Hour'),\n",
       " ('vehicleID', 'lineID'),\n",
       " ('lastStopOrder', 'DELAY'),\n",
       " ('Current_Time', 'Current_Day')]"
      ]
     },
     "execution_count": 3,
     "metadata": {},
     "output_type": "execute_result"
    }
   ],
   "source": [
    "corr = df.corr()#Lists all pairs of highly collinear variables\n",
    "indices = np.where(corr > 0.3)\n",
    "indices = [(corr.columns[x], corr.columns[y]) for x, y in zip(*indices)\n",
    "                                        if x != y and x < y]\n",
    "indices"
   ]
  },
  {
   "cell_type": "code",
   "execution_count": 4,
   "metadata": {},
   "outputs": [
    {
     "data": {
      "text/plain": [
       "<matplotlib.axes._subplots.AxesSubplot at 0x1f63e3271c8>"
      ]
     },
     "execution_count": 4,
     "metadata": {},
     "output_type": "execute_result"
    },
    {
     "data": {
      "image/png": "[encoded data removed]",
      "text/plain": [
       "<Figure size 432x288 with 2 Axes>"
      ]
     },
     "metadata": {},
     "output_type": "display_data"
    }
   ],
   "source": [
    "seaborn.set(style='white')\n",
    "cmap = seaborn.diverging_palette(220, 10, as_cmap=True)\n",
    "seaborn.heatmap(df.corr(),cmap=cmap)"
   ]
  },
  {
   "cell_type": "code",
   "execution_count": 5,
   "metadata": {},
   "outputs": [
    {
     "name": "stdout",
     "output_type": "stream",
     "text": [
      "Dimension reduced to:\n",
      "10\n"
     ]
    },
    {
     "data": {
      "text/html": [
       "<div>\n",
       "<style scoped>\n",
       "    .dataframe tbody tr th:only-of-type {\n",
       "        vertical-align: middle;\n",
       "    }\n",
       "\n",
       "    .dataframe tbody tr th {\n",
       "        vertical-align: top;\n",
       "    }\n",
       "\n",
       "    .dataframe thead th {\n",
       "        text-align: right;\n",
       "    }\n",
       "</style>\n",
       "<table border=\"1\" class=\"dataframe\">\n",
       "  <thead>\n",
       "    <tr style=\"text-align: right;\">\n",
       "      <th></th>\n",
       "      <th>lon</th>\n",
       "      <th>lat</th>\n",
       "      <th>ROUTE_NUMBER</th>\n",
       "      <th>DELAY</th>\n",
       "      <th>Current_Stop_ID</th>\n",
       "      <th>Current_Day</th>\n",
       "      <th>Current_Hour</th>\n",
       "      <th>Current_Minutes</th>\n",
       "      <th>Current_Seconds</th>\n",
       "      <th>Dir</th>\n",
       "    </tr>\n",
       "  </thead>\n",
       "  <tbody>\n",
       "    <tr>\n",
       "      <th>count</th>\n",
       "      <td>20000.000000</td>\n",
       "      <td>20000.000000</td>\n",
       "      <td>20000.000000</td>\n",
       "      <td>20000.000000</td>\n",
       "      <td>20000.00000</td>\n",
       "      <td>20000.000000</td>\n",
       "      <td>20000.000000</td>\n",
       "      <td>20000.000000</td>\n",
       "      <td>20000.000000</td>\n",
       "      <td>20000.000000</td>\n",
       "    </tr>\n",
       "    <tr>\n",
       "      <th>mean</th>\n",
       "      <td>21.217007</td>\n",
       "      <td>49.096008</td>\n",
       "      <td>706264.364650</td>\n",
       "      <td>-40.305950</td>\n",
       "      <td>1190.04410</td>\n",
       "      <td>23.740850</td>\n",
       "      <td>10.159550</td>\n",
       "      <td>30.696050</td>\n",
       "      <td>30.303300</td>\n",
       "      <td>0.445850</td>\n",
       "    </tr>\n",
       "    <tr>\n",
       "      <th>std</th>\n",
       "      <td>0.173520</td>\n",
       "      <td>0.131109</td>\n",
       "      <td>3023.863381</td>\n",
       "      <td>147.261969</td>\n",
       "      <td>862.45689</td>\n",
       "      <td>0.438179</td>\n",
       "      <td>4.683235</td>\n",
       "      <td>17.062524</td>\n",
       "      <td>17.250634</td>\n",
       "      <td>0.497072</td>\n",
       "    </tr>\n",
       "    <tr>\n",
       "      <th>min</th>\n",
       "      <td>20.586320</td>\n",
       "      <td>48.823940</td>\n",
       "      <td>701402.000000</td>\n",
       "      <td>-785.000000</td>\n",
       "      <td>4.00000</td>\n",
       "      <td>23.000000</td>\n",
       "      <td>3.000000</td>\n",
       "      <td>0.000000</td>\n",
       "      <td>0.000000</td>\n",
       "      <td>0.000000</td>\n",
       "    </tr>\n",
       "    <tr>\n",
       "      <th>25%</th>\n",
       "      <td>21.089910</td>\n",
       "      <td>48.996030</td>\n",
       "      <td>701429.000000</td>\n",
       "      <td>-113.000000</td>\n",
       "      <td>434.00000</td>\n",
       "      <td>23.000000</td>\n",
       "      <td>6.000000</td>\n",
       "      <td>16.000000</td>\n",
       "      <td>15.000000</td>\n",
       "      <td>0.000000</td>\n",
       "    </tr>\n",
       "    <tr>\n",
       "      <th>50%</th>\n",
       "      <td>21.250720</td>\n",
       "      <td>49.093530</td>\n",
       "      <td>707421.000000</td>\n",
       "      <td>-24.000000</td>\n",
       "      <td>935.00000</td>\n",
       "      <td>24.000000</td>\n",
       "      <td>9.000000</td>\n",
       "      <td>32.000000</td>\n",
       "      <td>31.000000</td>\n",
       "      <td>0.000000</td>\n",
       "    </tr>\n",
       "    <tr>\n",
       "      <th>75%</th>\n",
       "      <td>21.315853</td>\n",
       "      <td>49.167540</td>\n",
       "      <td>707449.000000</td>\n",
       "      <td>43.000000</td>\n",
       "      <td>2130.00000</td>\n",
       "      <td>24.000000</td>\n",
       "      <td>15.000000</td>\n",
       "      <td>46.000000</td>\n",
       "      <td>45.000000</td>\n",
       "      <td>1.000000</td>\n",
       "    </tr>\n",
       "    <tr>\n",
       "      <th>max</th>\n",
       "      <td>21.754350</td>\n",
       "      <td>49.436490</td>\n",
       "      <td>712459.000000</td>\n",
       "      <td>1188.000000</td>\n",
       "      <td>3112.00000</td>\n",
       "      <td>24.000000</td>\n",
       "      <td>23.000000</td>\n",
       "      <td>59.000000</td>\n",
       "      <td>59.000000</td>\n",
       "      <td>1.000000</td>\n",
       "    </tr>\n",
       "  </tbody>\n",
       "</table>\n",
       "</div>"
      ],
      "text/plain": [
       "                lon           lat   ROUTE_NUMBER         DELAY  \\\n",
       "count  20000.000000  20000.000000   20000.000000  20000.000000   \n",
       "mean      21.217007     49.096008  706264.364650    -40.305950   \n",
       "std        0.173520      0.131109    3023.863381    147.261969   \n",
       "min       20.586320     48.823940  701402.000000   -785.000000   \n",
       "25%       21.089910     48.996030  701429.000000   -113.000000   \n",
       "50%       21.250720     49.093530  707421.000000    -24.000000   \n",
       "75%       21.315853     49.167540  707449.000000     43.000000   \n",
       "max       21.754350     49.436490  712459.000000   1188.000000   \n",
       "\n",
       "       Current_Stop_ID   Current_Day  Current_Hour  Current_Minutes  \\\n",
       "count      20000.00000  20000.000000  20000.000000     20000.000000   \n",
       "mean        1190.04410     23.740850     10.159550        30.696050   \n",
       "std          862.45689      0.438179      4.683235        17.062524   \n",
       "min            4.00000     23.000000      3.000000         0.000000   \n",
       "25%          434.00000     23.000000      6.000000        16.000000   \n",
       "50%          935.00000     24.000000      9.000000        32.000000   \n",
       "75%         2130.00000     24.000000     15.000000        46.000000   \n",
       "max         3112.00000     24.000000     23.000000        59.000000   \n",
       "\n",
       "       Current_Seconds           Dir  \n",
       "count     20000.000000  20000.000000  \n",
       "mean         30.303300      0.445850  \n",
       "std          17.250634      0.497072  \n",
       "min           0.000000      0.000000  \n",
       "25%          15.000000      0.000000  \n",
       "50%          31.000000      0.000000  \n",
       "75%          45.000000      1.000000  \n",
       "max          59.000000      1.000000  "
      ]
     },
     "execution_count": 5,
     "metadata": {},
     "output_type": "execute_result"
    }
   ],
   "source": [
    "df = df.drop([\"destination\",\"Current_Stop\",\"Trip\",\"lineType\",\"lastStopOrder\"],axis = 1)\n",
    "df = df.drop(\"Current_Time\",axis = 1)\n",
    "df = df.drop([\"lineID\",\"vehicleID\",\"TripTime\"],axis = 1)\n",
    "#df = df.drop(\"lon\",axis = 1)\n",
    "#df = df.drop(\"lat\",axis = 1)\n",
    "\n",
    "print('Dimension reduced to:')\n",
    "print(len(df.columns))\n",
    "df.describe()"
   ]
  },
  {
   "cell_type": "code",
   "execution_count": 6,
   "metadata": {},
   "outputs": [],
   "source": [
    "from sklearn.preprocessing import LabelEncoder\n",
    "from sklearn.preprocessing import KBinsDiscretizer\n",
    "\n",
    "\n",
    "def LabelEncoding(col):\n",
    "    encoder = LabelEncoder()\n",
    "    encoder.fit(df[col])\n",
    "    list(encoder.classes_)\n",
    "    return encoder.transform(df[col])\n",
    "\n",
    "def KBinsDiscretizing(currCol):\n",
    "    discretizer = KBinsDiscretizer(n_bins=5, encode='ordinal', strategy='uniform')\n",
    "    discretizer.fit(df[currCol])\n",
    "    return discretizer.transform(df[currCol])\n",
    "\n",
    "df['lon_Encoded']=LabelEncoding('lon')\n",
    "df['lat_Encoded']=LabelEncoding('lat')\n",
    "df['Current_Seconds_Encoded']=LabelEncoding('Current_Seconds')\n",
    "df['Current_Minutes_Encoded']=LabelEncoding('Current_Minutes')\n",
    "df['Current_Hour_Encoded']= LabelEncoding('Current_Hour')\n",
    "df['Current_Day_Encoded']= LabelEncoding('Current_Day')\n",
    "df['Current_Stop_ID_Encoded'] = LabelEncoding('Current_Stop_ID')\n",
    "df['RouteNumber_Encoded'] = LabelEncoding('ROUTE_NUMBER')\n"
   ]
  },
  {
   "cell_type": "code",
   "execution_count": 7,
   "metadata": {},
   "outputs": [
    {
     "data": {
      "text/html": [
       "<div>\n",
       "<style scoped>\n",
       "    .dataframe tbody tr th:only-of-type {\n",
       "        vertical-align: middle;\n",
       "    }\n",
       "\n",
       "    .dataframe tbody tr th {\n",
       "        vertical-align: top;\n",
       "    }\n",
       "\n",
       "    .dataframe thead th {\n",
       "        text-align: right;\n",
       "    }\n",
       "</style>\n",
       "<table border=\"1\" class=\"dataframe\">\n",
       "  <thead>\n",
       "    <tr style=\"text-align: right;\">\n",
       "      <th></th>\n",
       "      <th>lon</th>\n",
       "      <th>lat</th>\n",
       "      <th>ROUTE_NUMBER</th>\n",
       "      <th>DELAY</th>\n",
       "      <th>Current_Stop_ID</th>\n",
       "      <th>Current_Day</th>\n",
       "      <th>Current_Hour</th>\n",
       "      <th>Current_Minutes</th>\n",
       "      <th>Current_Seconds</th>\n",
       "      <th>Dir</th>\n",
       "      <th>lon_Encoded</th>\n",
       "      <th>lat_Encoded</th>\n",
       "      <th>Current_Seconds_Encoded</th>\n",
       "      <th>Current_Minutes_Encoded</th>\n",
       "      <th>Current_Hour_Encoded</th>\n",
       "      <th>Current_Day_Encoded</th>\n",
       "      <th>Current_Stop_ID_Encoded</th>\n",
       "      <th>RouteNumber_Encoded</th>\n",
       "    </tr>\n",
       "  </thead>\n",
       "  <tbody>\n",
       "    <tr>\n",
       "      <th>0</th>\n",
       "      <td>21.44037</td>\n",
       "      <td>49.06720</td>\n",
       "      <td>707444</td>\n",
       "      <td>-244</td>\n",
       "      <td>881</td>\n",
       "      <td>23</td>\n",
       "      <td>15</td>\n",
       "      <td>37</td>\n",
       "      <td>57</td>\n",
       "      <td>0</td>\n",
       "      <td>3744</td>\n",
       "      <td>1625</td>\n",
       "      <td>57</td>\n",
       "      <td>37</td>\n",
       "      <td>10</td>\n",
       "      <td>0</td>\n",
       "      <td>407</td>\n",
       "      <td>37</td>\n",
       "    </tr>\n",
       "    <tr>\n",
       "      <th>1</th>\n",
       "      <td>21.06271</td>\n",
       "      <td>49.09058</td>\n",
       "      <td>708461</td>\n",
       "      <td>-262</td>\n",
       "      <td>169</td>\n",
       "      <td>23</td>\n",
       "      <td>15</td>\n",
       "      <td>37</td>\n",
       "      <td>57</td>\n",
       "      <td>0</td>\n",
       "      <td>802</td>\n",
       "      <td>1871</td>\n",
       "      <td>57</td>\n",
       "      <td>37</td>\n",
       "      <td>10</td>\n",
       "      <td>0</td>\n",
       "      <td>87</td>\n",
       "      <td>54</td>\n",
       "    </tr>\n",
       "    <tr>\n",
       "      <th>2</th>\n",
       "      <td>21.40102</td>\n",
       "      <td>49.15612</td>\n",
       "      <td>701411</td>\n",
       "      <td>-226</td>\n",
       "      <td>404</td>\n",
       "      <td>23</td>\n",
       "      <td>15</td>\n",
       "      <td>38</td>\n",
       "      <td>27</td>\n",
       "      <td>0</td>\n",
       "      <td>3560</td>\n",
       "      <td>2625</td>\n",
       "      <td>27</td>\n",
       "      <td>38</td>\n",
       "      <td>10</td>\n",
       "      <td>0</td>\n",
       "      <td>194</td>\n",
       "      <td>4</td>\n",
       "    </tr>\n",
       "    <tr>\n",
       "      <th>3</th>\n",
       "      <td>21.45097</td>\n",
       "      <td>48.88978</td>\n",
       "      <td>707403</td>\n",
       "      <td>-203</td>\n",
       "      <td>1073</td>\n",
       "      <td>23</td>\n",
       "      <td>15</td>\n",
       "      <td>38</td>\n",
       "      <td>27</td>\n",
       "      <td>0</td>\n",
       "      <td>3804</td>\n",
       "      <td>166</td>\n",
       "      <td>27</td>\n",
       "      <td>38</td>\n",
       "      <td>10</td>\n",
       "      <td>0</td>\n",
       "      <td>506</td>\n",
       "      <td>18</td>\n",
       "    </tr>\n",
       "    <tr>\n",
       "      <th>4</th>\n",
       "      <td>21.06271</td>\n",
       "      <td>49.09058</td>\n",
       "      <td>708461</td>\n",
       "      <td>-262</td>\n",
       "      <td>169</td>\n",
       "      <td>23</td>\n",
       "      <td>15</td>\n",
       "      <td>38</td>\n",
       "      <td>27</td>\n",
       "      <td>0</td>\n",
       "      <td>802</td>\n",
       "      <td>1871</td>\n",
       "      <td>27</td>\n",
       "      <td>38</td>\n",
       "      <td>10</td>\n",
       "      <td>0</td>\n",
       "      <td>87</td>\n",
       "      <td>54</td>\n",
       "    </tr>\n",
       "  </tbody>\n",
       "</table>\n",
       "</div>"
      ],
      "text/plain": [
       "        lon       lat  ROUTE_NUMBER  DELAY  Current_Stop_ID  Current_Day  \\\n",
       "0  21.44037  49.06720        707444   -244              881           23   \n",
       "1  21.06271  49.09058        708461   -262              169           23   \n",
       "2  21.40102  49.15612        701411   -226              404           23   \n",
       "3  21.45097  48.88978        707403   -203             1073           23   \n",
       "4  21.06271  49.09058        708461   -262              169           23   \n",
       "\n",
       "   Current_Hour  Current_Minutes  Current_Seconds  Dir  lon_Encoded  \\\n",
       "0            15               37               57    0         3744   \n",
       "1            15               37               57    0          802   \n",
       "2            15               38               27    0         3560   \n",
       "3            15               38               27    0         3804   \n",
       "4            15               38               27    0          802   \n",
       "\n",
       "   lat_Encoded  Current_Seconds_Encoded  Current_Minutes_Encoded  \\\n",
       "0         1625                       57                       37   \n",
       "1         1871                       57                       37   \n",
       "2         2625                       27                       38   \n",
       "3          166                       27                       38   \n",
       "4         1871                       27                       38   \n",
       "\n",
       "   Current_Hour_Encoded  Current_Day_Encoded  Current_Stop_ID_Encoded  \\\n",
       "0                    10                    0                      407   \n",
       "1                    10                    0                       87   \n",
       "2                    10                    0                      194   \n",
       "3                    10                    0                      506   \n",
       "4                    10                    0                       87   \n",
       "\n",
       "   RouteNumber_Encoded  \n",
       "0                   37  \n",
       "1                   54  \n",
       "2                    4  \n",
       "3                   18  \n",
       "4                   54  "
      ]
     },
     "execution_count": 7,
     "metadata": {},
     "output_type": "execute_result"
    }
   ],
   "source": [
    "df.head()"
   ]
  },
  {
   "cell_type": "code",
   "execution_count": 8,
   "metadata": {},
   "outputs": [],
   "source": [
    "df = df.drop(['ROUTE_NUMBER','Current_Stop_ID','Current_Hour','Current_Minutes','Current_Seconds','lon','lat',\"destination\",\n",
    "              'Current_Day'],axis =1, errors='ignore')"
   ]
  },
  {
   "cell_type": "code",
   "execution_count": 9,
   "metadata": {},
   "outputs": [
    {
     "data": {
      "text/html": [
       "<div>\n",
       "<style scoped>\n",
       "    .dataframe tbody tr th:only-of-type {\n",
       "        vertical-align: middle;\n",
       "    }\n",
       "\n",
       "    .dataframe tbody tr th {\n",
       "        vertical-align: top;\n",
       "    }\n",
       "\n",
       "    .dataframe thead th {\n",
       "        text-align: right;\n",
       "    }\n",
       "</style>\n",
       "<table border=\"1\" class=\"dataframe\">\n",
       "  <thead>\n",
       "    <tr style=\"text-align: right;\">\n",
       "      <th></th>\n",
       "      <th>DELAY</th>\n",
       "      <th>Dir</th>\n",
       "      <th>lon_Encoded</th>\n",
       "      <th>lat_Encoded</th>\n",
       "      <th>Current_Seconds_Encoded</th>\n",
       "      <th>Current_Minutes_Encoded</th>\n",
       "      <th>Current_Hour_Encoded</th>\n",
       "      <th>Current_Day_Encoded</th>\n",
       "      <th>Current_Stop_ID_Encoded</th>\n",
       "      <th>RouteNumber_Encoded</th>\n",
       "    </tr>\n",
       "  </thead>\n",
       "  <tbody>\n",
       "    <tr>\n",
       "      <th>0</th>\n",
       "      <td>-244</td>\n",
       "      <td>0</td>\n",
       "      <td>3744</td>\n",
       "      <td>1625</td>\n",
       "      <td>57</td>\n",
       "      <td>37</td>\n",
       "      <td>10</td>\n",
       "      <td>0</td>\n",
       "      <td>407</td>\n",
       "      <td>37</td>\n",
       "    </tr>\n",
       "    <tr>\n",
       "      <th>1</th>\n",
       "      <td>-262</td>\n",
       "      <td>0</td>\n",
       "      <td>802</td>\n",
       "      <td>1871</td>\n",
       "      <td>57</td>\n",
       "      <td>37</td>\n",
       "      <td>10</td>\n",
       "      <td>0</td>\n",
       "      <td>87</td>\n",
       "      <td>54</td>\n",
       "    </tr>\n",
       "    <tr>\n",
       "      <th>2</th>\n",
       "      <td>-226</td>\n",
       "      <td>0</td>\n",
       "      <td>3560</td>\n",
       "      <td>2625</td>\n",
       "      <td>27</td>\n",
       "      <td>38</td>\n",
       "      <td>10</td>\n",
       "      <td>0</td>\n",
       "      <td>194</td>\n",
       "      <td>4</td>\n",
       "    </tr>\n",
       "    <tr>\n",
       "      <th>3</th>\n",
       "      <td>-203</td>\n",
       "      <td>0</td>\n",
       "      <td>3804</td>\n",
       "      <td>166</td>\n",
       "      <td>27</td>\n",
       "      <td>38</td>\n",
       "      <td>10</td>\n",
       "      <td>0</td>\n",
       "      <td>506</td>\n",
       "      <td>18</td>\n",
       "    </tr>\n",
       "    <tr>\n",
       "      <th>4</th>\n",
       "      <td>-262</td>\n",
       "      <td>0</td>\n",
       "      <td>802</td>\n",
       "      <td>1871</td>\n",
       "      <td>27</td>\n",
       "      <td>38</td>\n",
       "      <td>10</td>\n",
       "      <td>0</td>\n",
       "      <td>87</td>\n",
       "      <td>54</td>\n",
       "    </tr>\n",
       "    <tr>\n",
       "      <th>5</th>\n",
       "      <td>105</td>\n",
       "      <td>0</td>\n",
       "      <td>3910</td>\n",
       "      <td>3342</td>\n",
       "      <td>42</td>\n",
       "      <td>38</td>\n",
       "      <td>10</td>\n",
       "      <td>0</td>\n",
       "      <td>365</td>\n",
       "      <td>16</td>\n",
       "    </tr>\n",
       "    <tr>\n",
       "      <th>6</th>\n",
       "      <td>-203</td>\n",
       "      <td>0</td>\n",
       "      <td>3804</td>\n",
       "      <td>166</td>\n",
       "      <td>42</td>\n",
       "      <td>38</td>\n",
       "      <td>10</td>\n",
       "      <td>0</td>\n",
       "      <td>506</td>\n",
       "      <td>18</td>\n",
       "    </tr>\n",
       "    <tr>\n",
       "      <th>7</th>\n",
       "      <td>-184</td>\n",
       "      <td>0</td>\n",
       "      <td>3744</td>\n",
       "      <td>1625</td>\n",
       "      <td>42</td>\n",
       "      <td>38</td>\n",
       "      <td>10</td>\n",
       "      <td>0</td>\n",
       "      <td>407</td>\n",
       "      <td>37</td>\n",
       "    </tr>\n",
       "    <tr>\n",
       "      <th>8</th>\n",
       "      <td>-247</td>\n",
       "      <td>0</td>\n",
       "      <td>414</td>\n",
       "      <td>2598</td>\n",
       "      <td>42</td>\n",
       "      <td>38</td>\n",
       "      <td>10</td>\n",
       "      <td>0</td>\n",
       "      <td>649</td>\n",
       "      <td>46</td>\n",
       "    </tr>\n",
       "    <tr>\n",
       "      <th>9</th>\n",
       "      <td>-202</td>\n",
       "      <td>0</td>\n",
       "      <td>802</td>\n",
       "      <td>1871</td>\n",
       "      <td>12</td>\n",
       "      <td>39</td>\n",
       "      <td>10</td>\n",
       "      <td>0</td>\n",
       "      <td>87</td>\n",
       "      <td>54</td>\n",
       "    </tr>\n",
       "  </tbody>\n",
       "</table>\n",
       "</div>"
      ],
      "text/plain": [
       "   DELAY  Dir  lon_Encoded  lat_Encoded  Current_Seconds_Encoded  \\\n",
       "0   -244    0         3744         1625                       57   \n",
       "1   -262    0          802         1871                       57   \n",
       "2   -226    0         3560         2625                       27   \n",
       "3   -203    0         3804          166                       27   \n",
       "4   -262    0          802         1871                       27   \n",
       "5    105    0         3910         3342                       42   \n",
       "6   -203    0         3804          166                       42   \n",
       "7   -184    0         3744         1625                       42   \n",
       "8   -247    0          414         2598                       42   \n",
       "9   -202    0          802         1871                       12   \n",
       "\n",
       "   Current_Minutes_Encoded  Current_Hour_Encoded  Current_Day_Encoded  \\\n",
       "0                       37                    10                    0   \n",
       "1                       37                    10                    0   \n",
       "2                       38                    10                    0   \n",
       "3                       38                    10                    0   \n",
       "4                       38                    10                    0   \n",
       "5                       38                    10                    0   \n",
       "6                       38                    10                    0   \n",
       "7                       38                    10                    0   \n",
       "8                       38                    10                    0   \n",
       "9                       39                    10                    0   \n",
       "\n",
       "   Current_Stop_ID_Encoded  RouteNumber_Encoded  \n",
       "0                      407                   37  \n",
       "1                       87                   54  \n",
       "2                      194                    4  \n",
       "3                      506                   18  \n",
       "4                       87                   54  \n",
       "5                      365                   16  \n",
       "6                      506                   18  \n",
       "7                      407                   37  \n",
       "8                      649                   46  \n",
       "9                       87                   54  "
      ]
     },
     "execution_count": 9,
     "metadata": {},
     "output_type": "execute_result"
    },
    {
     "data": {
      "image/png": "[encoded data removed]",
      "text/plain": [
       "<Figure size 432x288 with 2 Axes>"
      ]
     },
     "metadata": {},
     "output_type": "display_data"
    }
   ],
   "source": [
    "seaborn.heatmap(df.corr(),cmap=cmap)\n",
    "df.head(10)"
   ]
  },
  {
   "cell_type": "code",
   "execution_count": 10,
   "metadata": {},
   "outputs": [
    {
     "data": {
      "text/plain": [
       "[]"
      ]
     },
     "execution_count": 10,
     "metadata": {},
     "output_type": "execute_result"
    }
   ],
   "source": [
    "corr = df.corr()#Lists all pairs of highly collinear variables\n",
    "indices = np.where(corr > 0.3)\n",
    "indices = [(corr.columns[x], corr.columns[y]) for x, y in zip(*indices)\n",
    "                                        if x != y and x < y]\n",
    "indices"
   ]
  },
  {
   "cell_type": "code",
   "execution_count": 11,
   "metadata": {},
   "outputs": [],
   "source": [
    "train_x, test_x, train_y, test_y = train_test_split(df.drop('DELAY', axis=1), df['DELAY'], test_size=0.3, random_state=1234)"
   ]
  },
  {
   "cell_type": "markdown",
   "metadata": {},
   "source": [
    "#### GridSearch for Linear Regression"
   ]
  },
  {
   "cell_type": "code",
   "execution_count": 167,
   "metadata": {},
   "outputs": [
    {
     "name": "stdout",
     "output_type": "stream",
     "text": [
      "LinearRegression(copy_X=True, fit_intercept=True, n_jobs=None, normalize=False)\n",
      "{'copy_X': True, 'fit_intercept': True, 'normalize': False}\n"
     ]
    },
    {
     "data": {
      "text/plain": [
       "<bound method BaseSearchCV.score of GridSearchCV(cv=5, error_score=nan,\n",
       "             estimator=LinearRegression(copy_X=True, fit_intercept=True,\n",
       "                                        n_jobs=None, normalize=False),\n",
       "             iid='deprecated', n_jobs=None,\n",
       "             param_grid={'copy_X': [True, False],\n",
       "                         'fit_intercept': [True, False],\n",
       "                         'normalize': [True, False]},\n",
       "             pre_dispatch='2*n_jobs', refit=True, return_train_score=False,\n",
       "             scoring=None, verbose=0)>"
      ]
     },
     "execution_count": 167,
     "metadata": {},
     "output_type": "execute_result"
    }
   ],
   "source": [
    "from sklearn.svm import SVR\n",
    "from sklearn.model_selection import GridSearchCV\n",
    "\n",
    "param_grid = {'fit_intercept':[True,False], 'normalize':[True,False], 'copy_X':[True,False]}\n",
    "grid_search = GridSearchCV(LinearRegression(), param_grid, cv = 5)\n",
    "grid_search.fit(train_x, train_y)\n",
    "\n",
    "bestModel = grid_search.best_estimator_\n",
    "bestParameters = grid_search.best_params_\n",
    "gridScores = grid_search.score\n",
    "print(bestModel)\n",
    "print(bestParameters)\n",
    "gridScores"
   ]
  },
  {
   "cell_type": "code",
   "execution_count": 168,
   "metadata": {},
   "outputs": [
    {
     "name": "stdout",
     "output_type": "stream",
     "text": [
      "0.06177944235623665\n",
      "0.004063130842905392\n",
      "[0.0678926  0.05948388 0.0632514  0.05568876 0.06258057]\n"
     ]
    },
    {
     "data": {
      "text/plain": [
       "0.06812321612285278"
      ]
     },
     "execution_count": 168,
     "metadata": {},
     "output_type": "execute_result"
    }
   ],
   "source": [
    "from sklearn.linear_model import LinearRegression\n",
    "from sklearn.metrics import accuracy_score\n",
    "from sklearn import metrics\n",
    "from sklearn.metrics import r2_score\n",
    "from sklearn.metrics import accuracy_score\n",
    "\n",
    "regressor = LinearRegression(fit_intercept=bestParameters.get('fit_intercept'),\n",
    "                             normalize=bestParameters.get('normalize'), \n",
    "                             copy_X=bestParameters.get('copy_X'))  \n",
    "regressor.fit(train_x, train_y)\n",
    "folds = KFold(n_splits = 5, shuffle = True, random_state = 1234)\n",
    "scores = cross_val_score(regressor, df.drop('DELAY', axis=1), df['DELAY'], cv=folds,scoring='r2')\n",
    "#y_pred = cross_val_predict(xg_reg, df.drop('DELAY', axis=1), df['DELAY'], cv=folds)\n",
    "print(scores.mean())\n",
    "print(scores.std())\n",
    "print(scores)\n",
    "\n",
    "\n",
    "y_pred = regressor.predict(test_x)\n",
    "regressor.score(test_x,test_y)"
   ]
  },
  {
   "cell_type": "code",
   "execution_count": 169,
   "metadata": {},
   "outputs": [
    {
     "name": "stdout",
     "output_type": "stream",
     "text": [
      "Mean Absolute Error (MAE): 102.54169851548062\n",
      "Mean Squared Error (MSE): 19344.445348445526\n",
      "Root Mean Squared Error (RMSE): 139.08431021666507\n",
      "Explained Variance Score: 0.06906680633347462\n",
      "Max Error: 1181.6077730143475\n",
      "Median Absolute Error: 77.6138622124931\n",
      "R^2: 0.06812321612285277\n"
     ]
    }
   ],
   "source": [
    "import numpy as np\n",
    "from sklearn import metrics\n",
    "y_true=test_y\n",
    "print('Mean Absolute Error (MAE):', metrics.mean_absolute_error(y_true, y_pred))\n",
    "print('Mean Squared Error (MSE):', metrics.mean_squared_error(y_true, y_pred))\n",
    "print('Root Mean Squared Error (RMSE):', metrics.mean_squared_error(y_true, y_pred, squared=False))\n",
    "print('Explained Variance Score:', metrics.explained_variance_score(y_true, y_pred))\n",
    "print('Max Error:', metrics.max_error(y_true, y_pred))\n",
    "print('Median Absolute Error:', metrics.median_absolute_error(y_true, y_pred))\n",
    "print('R^2:', metrics.r2_score(y_true, y_pred))\n"
   ]
  },
  {
   "cell_type": "markdown",
   "metadata": {},
   "source": [
    "#### SVR Model execution"
   ]
  },
  {
   "cell_type": "markdown",
   "metadata": {},
   "source": [
    "#### GridsearchCV for SVR"
   ]
  },
  {
   "cell_type": "code",
   "execution_count": 170,
   "metadata": {},
   "outputs": [
    {
     "name": "stdout",
     "output_type": "stream",
     "text": [
      "SVR(C=100, cache_size=200, coef0=0.0, degree=3, epsilon=0.1, gamma=0.001,\n",
      "    kernel='rbf', max_iter=-1, shrinking=True, tol=0.001, verbose=False)\n",
      "{'C': 100, 'gamma': 0.001}\n"
     ]
    },
    {
     "data": {
      "text/plain": [
       "<bound method BaseSearchCV.score of GridSearchCV(cv=5, error_score=nan,\n",
       "             estimator=SVR(C=1.0, cache_size=200, coef0=0.0, degree=3,\n",
       "                           epsilon=0.1, gamma='scale', kernel='rbf',\n",
       "                           max_iter=-1, shrinking=True, tol=0.001,\n",
       "                           verbose=False),\n",
       "             iid='deprecated', n_jobs=None,\n",
       "             param_grid={'C': [0.001, 0.01, 10, 100],\n",
       "                         'gamma': [0.001, 0.01, 0.1, 0.001]},\n",
       "             pre_dispatch='2*n_jobs', refit=True, return_train_score=False,\n",
       "             scoring=None, verbose=0)>"
      ]
     },
     "execution_count": 170,
     "metadata": {},
     "output_type": "execute_result"
    }
   ],
   "source": [
    "from sklearn.svm import SVR\n",
    "from sklearn.model_selection import GridSearchCV\n",
    "\n",
    "param_grid = {'C': [0.001, 0.01, 10, 100], 'gamma' : [0.001, 0.01, 0.1, 0.001]}\n",
    "grid_search = GridSearchCV(SVR(), param_grid, cv = 5)\n",
    "grid_search.fit(train_x, train_y)\n",
    "\n",
    "bestModel = grid_search.best_estimator_\n",
    "bestParameters = grid_search.best_params_\n",
    "gridScores = grid_search.score\n",
    "print(bestModel)\n",
    "print(bestParameters)\n",
    "gridScores"
   ]
  },
  {
   "cell_type": "markdown",
   "metadata": {},
   "source": [
    "#### SVR regressor Model"
   ]
  },
  {
   "cell_type": "code",
   "execution_count": 171,
   "metadata": {},
   "outputs": [
    {
     "name": "stdout",
     "output_type": "stream",
     "text": [
      "0.4957429670311404\n",
      "0.01460469562399126\n",
      "[0.52013856 0.47879022 0.48753503 0.50375055 0.48850047]\n"
     ]
    },
    {
     "data": {
      "text/plain": [
       "0.4992393895077656"
      ]
     },
     "execution_count": 171,
     "metadata": {},
     "output_type": "execute_result"
    }
   ],
   "source": [
    "from sklearn.svm import SVR\n",
    "svr_rbf = SVR(kernel='rbf', \n",
    "              C=bestParameters.get('C'),\n",
    "              gamma=bestParameters.get('gamma'), epsilon=1)\n",
    "svr_rbf.fit(train_x, train_y)\n",
    "folds = KFold(n_splits = 5, shuffle = True, random_state = 1234)\n",
    "scores = cross_val_score(svr_rbf, df.drop('DELAY', axis=1), df['DELAY'], cv=folds,scoring='r2')\n",
    "#y_pred = cross_val_predict(xg_reg, df.drop('DELAY', axis=1), df['DELAY'], cv=folds)\n",
    "print(scores.mean())\n",
    "print(scores.std())\n",
    "print(scores)\n",
    "y_pred_svr = svr_rbf.predict(test_x)\n",
    "svr_rbf.score(test_x,test_y)"
   ]
  },
  {
   "cell_type": "code",
   "execution_count": 172,
   "metadata": {},
   "outputs": [
    {
     "name": "stdout",
     "output_type": "stream",
     "text": [
      "Mean Absolute Error (MAE): 70.3385671512651\n",
      "Mean Squared Error (MSE): 10395.082729733836\n",
      "Root Mean Squared Error (RMSE): 101.95627852042186\n",
      "Explained Variance Score: 0.49924562003100603\n",
      "Max Error: 1101.7829191940239\n",
      "Median Absolute Error: 52.142914458103874\n",
      "R^2: 0.4992393895077656\n"
     ]
    }
   ],
   "source": [
    "import numpy as np\n",
    "from sklearn import metrics\n",
    "y_pred= y_pred_svr\n",
    "y_true=test_y\n",
    "print('Mean Absolute Error (MAE):', metrics.mean_absolute_error(y_true, y_pred))\n",
    "print('Mean Squared Error (MSE):', metrics.mean_squared_error(y_true, y_pred))\n",
    "print('Root Mean Squared Error (RMSE):', metrics.mean_squared_error(y_true, y_pred, squared=False))\n",
    "print('Explained Variance Score:', metrics.explained_variance_score(y_true, y_pred))\n",
    "print('Max Error:', metrics.max_error(y_true, y_pred))\n",
    "print('Median Absolute Error:', metrics.median_absolute_error(y_true, y_pred))\n",
    "print('R^2:', metrics.r2_score(y_true, y_pred))"
   ]
  },
  {
   "cell_type": "markdown",
   "metadata": {},
   "source": [
    "#### XGBoost Model"
   ]
  },
  {
   "cell_type": "code",
   "execution_count": 173,
   "metadata": {},
   "outputs": [
    {
     "name": "stdout",
     "output_type": "stream",
     "text": [
      "0.7383138797946661\n",
      "0.016987305824617605\n",
      "[0.7364734  0.72481764 0.73118245 0.72770716 0.77138875]\n",
      "0.7182412093169792\n"
     ]
    }
   ],
   "source": [
    "import xgboost as xgb\n",
    "from sklearn.metrics import mean_squared_error\n",
    "xg_reg = xgb.XGBRegressor(objective ='reg:squarederror', \n",
    "                          colsample_bytree = 0.8, \n",
    "                          learning_rate = 1,\n",
    "                          max_depth = 5, alpha = 10, \n",
    "                          n_estimators = 100)\n",
    "xg_reg.fit(train_x,train_y)\n",
    "folds = KFold(n_splits = 5, shuffle = True, random_state = 1234)\n",
    "scores= cross_val_score(xg_reg, df.drop('DELAY', axis=1), df['DELAY'], cv=folds,scoring='r2')\n",
    "#y_pred = cross_val_predict(xg_reg, df.drop('DELAY', axis=1), df['DELAY'], cv=folds)\n",
    "print(scores.mean())\n",
    "print(scores.std())\n",
    "print(scores)\n",
    "\n",
    "preds_y = xg_reg.predict(test_x)\n",
    "rmse = np.sqrt(mean_squared_error(test_y, preds_y))\n",
    "print(xg_reg.score(test_x,test_y))"
   ]
  },
  {
   "cell_type": "code",
   "execution_count": 174,
   "metadata": {},
   "outputs": [
    {
     "name": "stdout",
     "output_type": "stream",
     "text": [
      "Mean Absolute Error (MAE): 54.611751015345256\n",
      "Mean Squared Error (MSE): 5848.914386658174\n",
      "Root Mean Squared Error (RMSE): 76.47819549818219\n",
      "Explained Variance Score: 0.7182446533998019\n",
      "Max Error: 646.2919311523438\n",
      "Median Absolute Error: 40.709075927734375\n",
      "R^2: 0.7182412093169792\n"
     ]
    }
   ],
   "source": [
    "import numpy as np\n",
    "from sklearn import metrics\n",
    "y_pred= preds_y\n",
    "y_true=test_y\n",
    "print('Mean Absolute Error (MAE):', metrics.mean_absolute_error(y_true, y_pred))\n",
    "print('Mean Squared Error (MSE):', metrics.mean_squared_error(y_true, y_pred))\n",
    "print('Root Mean Squared Error (RMSE):', metrics.mean_squared_error(y_true, y_pred, squared=False))\n",
    "print('Explained Variance Score:', metrics.explained_variance_score(y_true, y_pred))\n",
    "print('Max Error:', metrics.max_error(y_true, y_pred))\n",
    "print('Median Absolute Error:', metrics.median_absolute_error(y_true, y_pred))\n",
    "print('R^2:', metrics.r2_score(y_true, y_pred))"
   ]
  },
  {
   "cell_type": "markdown",
   "metadata": {},
   "source": [
    "#### GridSearch for RandomForest"
   ]
  },
  {
   "cell_type": "code",
   "execution_count": 175,
   "metadata": {
    "scrolled": true
   },
   "outputs": [
    {
     "name": "stdout",
     "output_type": "stream",
     "text": [
      "Random forest Grid Search with non-redundant variables took [ 0:31:09.625132 ] seconds.\n"
     ]
    }
   ],
   "source": [
    "startTimeGS = datetime.now()\n",
    "param_grid = {'n_estimators': [10,15,20,25,100,500,600,700,800,900,1000]}\n",
    "\n",
    "grid_rf = GridSearchCV(RandomForestRegressor(), param_grid, cv=10)\n",
    "grid_rf.fit(train_x, train_y)\n",
    "bestModel = grid_rf.best_estimator_\n",
    "bestParameters = grid_rf.best_params_\n",
    "gridScores = grid_rf.score\n",
    "print('Random forest Grid Search with non-redundant variables took [', datetime.now() - startTimeGS, '] seconds.')"
   ]
  },
  {
   "cell_type": "code",
   "execution_count": 176,
   "metadata": {},
   "outputs": [
    {
     "name": "stdout",
     "output_type": "stream",
     "text": [
      "RandomForestRegressor(bootstrap=True, ccp_alpha=0.0, criterion='mse',\n",
      "                      max_depth=None, max_features='auto', max_leaf_nodes=None,\n",
      "                      max_samples=None, min_impurity_decrease=0.0,\n",
      "                      min_impurity_split=None, min_samples_leaf=1,\n",
      "                      min_samples_split=2, min_weight_fraction_leaf=0.0,\n",
      "                      n_estimators=600, n_jobs=None, oob_score=False,\n",
      "                      random_state=None, verbose=0, warm_start=False)\n",
      "{'n_estimators': 600}\n"
     ]
    },
    {
     "data": {
      "text/plain": [
       "<bound method BaseSearchCV.score of GridSearchCV(cv=10, error_score=nan,\n",
       "             estimator=RandomForestRegressor(bootstrap=True, ccp_alpha=0.0,\n",
       "                                             criterion='mse', max_depth=None,\n",
       "                                             max_features='auto',\n",
       "                                             max_leaf_nodes=None,\n",
       "                                             max_samples=None,\n",
       "                                             min_impurity_decrease=0.0,\n",
       "                                             min_impurity_split=None,\n",
       "                                             min_samples_leaf=1,\n",
       "                                             min_samples_split=2,\n",
       "                                             min_weight_fraction_leaf=0.0,\n",
       "                                             n_estimators=100, n_jobs=None,\n",
       "                                             oob_score=False, random_state=None,\n",
       "                                             verbose=0, warm_start=False),\n",
       "             iid='deprecated', n_jobs=None,\n",
       "             param_grid={'n_estimators': [10, 15, 20, 25, 100, 500, 600, 700,\n",
       "                                          800, 900, 1000]},\n",
       "             pre_dispatch='2*n_jobs', refit=True, return_train_score=False,\n",
       "             scoring=None, verbose=0)>"
      ]
     },
     "execution_count": 176,
     "metadata": {},
     "output_type": "execute_result"
    }
   ],
   "source": [
    "print(bestModel)\n",
    "print(bestParameters)\n",
    "gridScores"
   ]
  },
  {
   "cell_type": "markdown",
   "metadata": {},
   "source": [
    "#### RandomForest Model"
   ]
  },
  {
   "cell_type": "code",
   "execution_count": 177,
   "metadata": {},
   "outputs": [
    {
     "name": "stdout",
     "output_type": "stream",
     "text": [
      "0.7383138797946661\n",
      "0.016987305824617605\n",
      "[0.7364734  0.72481764 0.73118245 0.72770716 0.77138875]\n"
     ]
    },
    {
     "data": {
      "text/plain": [
       "0.8711463826111701"
      ]
     },
     "execution_count": 177,
     "metadata": {},
     "output_type": "execute_result"
    }
   ],
   "source": [
    "from sklearn.ensemble import RandomForestRegressor\n",
    "regr = RandomForestRegressor(n_estimators = bestParameters.get('n_estimators'),\n",
    "                             random_state = 1234)\n",
    "regr.fit(train_x, train_y)\n",
    "folds = KFold(n_splits = 5, shuffle = True, random_state = 1234)\n",
    "scores = cross_val_score(regr, df.drop('DELAY', axis=1), df['DELAY'], cv=folds,scoring='r2')\n",
    "#y_pred = cross_val_predict(xg_reg, df.drop('DELAY', axis=1), df['DELAY'], cv=folds)\n",
    "print(scores.mean())\n",
    "print(scores.std())\n",
    "print(scores)\n",
    "\n",
    "\n",
    "y_pred_svr = regr.predict(test_x)\n",
    "regr.score(test_x,test_y)"
   ]
  },
  {
   "cell_type": "code",
   "execution_count": 178,
   "metadata": {},
   "outputs": [
    {
     "name": "stdout",
     "output_type": "stream",
     "text": [
      "Mean Absolute Error (MAE): 32.33293777777778\n",
      "Mean Squared Error (MSE): 2674.8190347194445\n",
      "Root Mean Squared Error (RMSE): 51.71865267695442\n",
      "Explained Variance Score: 0.8714588371061265\n",
      "Max Error: 466.47\n",
      "Median Absolute Error: 19.02166666666667\n",
      "R^2: 0.8711463826111701\n"
     ]
    }
   ],
   "source": [
    "import numpy as np\n",
    "from sklearn import metrics\n",
    "y_pred= y_pred_svr\n",
    "y_true=test_y\n",
    "print('Mean Absolute Error (MAE):', metrics.mean_absolute_error(y_true, y_pred))\n",
    "print('Mean Squared Error (MSE):', metrics.mean_squared_error(y_true, y_pred))\n",
    "print('Root Mean Squared Error (RMSE):', metrics.mean_squared_error(y_true, y_pred, squared=False))\n",
    "print('Explained Variance Score:', metrics.explained_variance_score(y_true, y_pred))\n",
    "print('Max Error:', metrics.max_error(y_true, y_pred))\n",
    "print('Median Absolute Error:', metrics.median_absolute_error(y_true, y_pred))\n",
    "print('R^2:', metrics.r2_score(y_true, y_pred))"
   ]
  },
  {
   "cell_type": "code",
   "execution_count": null,
   "metadata": {},
   "outputs": [],
   "source": []
  },
  {
   "cell_type": "markdown",
   "metadata": {},
   "source": [
    "#### GridSearch for NN"
   ]
  },
  {
   "cell_type": "code",
   "execution_count": null,
   "metadata": {
    "scrolled": true
   },
   "outputs": [],
   "source": [
    "from sklearn.neural_network import MLPRegressor\n",
    "startTimeGS = datetime.now()\n",
    "param_grid = {'activation':['logistic', 'tanh', 'relu'],\n",
    "             'solver':['sgd', 'adam']}\n",
    "\n",
    "grid_rf = GridSearchCV(MLPRegressor(), param_grid, cv=10)\n",
    "grid_rf.fit(train_x, train_y)\n",
    "bestModel = grid_rf.best_estimator_\n",
    "bestParameters = grid_rf.best_params_\n",
    "gridScores = grid_rf.score\n",
    "print('MLPRegressor Grid Search with non-redundant variables took [', datetime.now() - startTimeGS, '] seconds.')"
   ]
  },
  {
   "cell_type": "code",
   "execution_count": null,
   "metadata": {},
   "outputs": [],
   "source": [
    "print(bestModel)\n",
    "print(bestParameters)\n",
    "gridScores"
   ]
  },
  {
   "cell_type": "code",
   "execution_count": null,
   "metadata": {},
   "outputs": [],
   "source": [
    "regr = MLPRegressor(random_state=bestParameters.get('random_state'),\n",
    "                    max_iter=bestParameters.get('max_iter'),\n",
    "                    hidden_layer_sizes = bestParameters.get('hidden_layer_sizes'),\n",
    "                    activation = bestParameters.get('activation'),\n",
    "                    solver =  bestParameters.get('solver'))\n",
    "regr.fit(train_x, train_y)\n",
    "folds = KFold(n_splits = 5, shuffle = True, random_state = 1234)\n",
    "scores = cross_val_score(regr, df.drop('DELAY', axis=1), df['DELAY'], cv=folds,scoring='r2')\n",
    "#y_pred = cross_val_predict(xg_reg, df.drop('DELAY', axis=1), df['DELAY'], cv=folds)\n",
    "print(scores.mean())\n",
    "print(scores.std())\n",
    "print(scores)\n",
    "\n",
    "\n",
    "y_pred_svr = regr.predict(test_x)\n",
    "regr.score(test_x,test_y)"
   ]
  },
  {
   "cell_type": "code",
   "execution_count": null,
   "metadata": {},
   "outputs": [],
   "source": []
  },
  {
   "cell_type": "code",
   "execution_count": null,
   "metadata": {},
   "outputs": [],
   "source": []
  }
 ],
 "metadata": {
  "kernelspec": {
   "display_name": "Python 3",
   "language": "python",
   "name": "python3"
  },
  "language_info": {
   "codemirror_mode": {
    "name": "ipython",
    "version": 3
   },
   "file_extension": ".py",
   "mimetype": "text/x-python",
   "name": "python",
   "nbconvert_exporter": "python",
   "pygments_lexer": "ipython3",
   "version": "3.7.6"
  }
 },
 "nbformat": 4,
 "nbformat_minor": 4
}
